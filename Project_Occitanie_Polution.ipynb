{
 "cells": [
  {
   "cell_type": "markdown",
   "metadata": {},
   "source": [
    "### Ceci est un titre"
   ]
  },
  {
   "cell_type": "code",
   "execution_count": null,
   "metadata": {},
   "outputs": [],
   "source": [
    "#ceci est un commentaire dans du code\n",
    "#nous allons travailler en collaboration sur ce fichier"
   ]
  },
  {
   "cell_type": "code",
   "execution_count": 3,
   "metadata": {},
   "outputs": [],
   "source": [
    "import pandas as pd\n",
    "import numpy as np\n",
    "import matplotlib.pyplot as plt"
   ]
  },
  {
   "cell_type": "markdown",
   "metadata": {},
   "source": [
    "## Ce que nous devrons faire: \n",
    "  + Importer les données Occitanie journalière/mensuelle/annuelle (que choisir?)\n",
    "  + Se renseigner sur la manière de procéder grâce à l'ipynb ANOVA"
   ]
  },
  {
   "cell_type": "markdown",
   "metadata": {},
   "source": [
    "## Importation et traitement des données mensuelles:\n"
   ]
  },
  {
   "cell_type": "code",
   "execution_count": 9,
   "metadata": {},
   "outputs": [
    {
     "name": "stdout",
     "output_type": "stream",
     "text": [
      "Downloading data from https://opendata.arcgis.com/datasets/3acfa2aa5c0346a18ba7749c6885e503_0.csv (1 byte)\n",
      "\n"
     ]
    },
    {
     "name": "stderr",
     "output_type": "stream",
     "text": [
      "file_sizes: 311kB [00:00, 563kB/s]                                              \n"
     ]
    },
    {
     "name": "stdout",
     "output_type": "stream",
     "text": [
      "Successfully downloaded file to datasets/Mesure_mensuelle_Region_Occitanie_Polluants_Principaux.csv\n"
     ]
    },
    {
     "data": {
      "text/plain": [
       "'datasets/Mesure_mensuelle_Region_Occitanie_Polluants_Principaux.csv'"
      ]
     },
     "execution_count": 9,
     "metadata": {},
     "output_type": "execute_result"
    }
   ],
   "source": [
    "from download import download\n",
    "\n",
    "url = \"https://opendata.arcgis.com/datasets/3acfa2aa5c0346a18ba7749c6885e503_0.csv\" # lien du site pour les data\n",
    "path_target = \"datasets/Mesure_mensuelle_Region_Occitanie_Polluants_Principaux.csv\" # lieu de l'import des données\n",
    "download(url, path_target, replace=True)\n"
   ]
  }
 ],
 "metadata": {
  "kernelspec": {
   "display_name": "Python 3",
   "language": "python",
   "name": "python3"
  },
  "language_info": {
   "codemirror_mode": {
    "name": "ipython",
    "version": 3
   },
   "file_extension": ".py",
   "mimetype": "text/x-python",
   "name": "python",
   "nbconvert_exporter": "python",
   "pygments_lexer": "ipython3",
   "version": "3.7.4"
  }
 },
 "nbformat": 4,
 "nbformat_minor": 2
}
