{
 "cells": [
  {
   "cell_type": "markdown",
   "metadata": {},
   "source": [
    "# Development of a Widget"
   ]
  },
  {
   "cell_type": "code",
   "execution_count": 1,
   "metadata": {},
   "outputs": [],
   "source": [
    "import pandas as pd\n",
    "import numpy as np\n",
    "import matplotlib.pyplot as plt\n",
    "import seaborn as sns\n",
    "from ipywidgets import interact  # widget manipulation\n",
    "from IPython.display import HTML"
   ]
  },
  {
   "cell_type": "markdown",
   "metadata": {},
   "source": [
    "## 1)  Data importation:\n"
   ]
  },
  {
   "cell_type": "code",
   "execution_count": 2,
   "metadata": {},
   "outputs": [
    {
     "name": "stdout",
     "output_type": "stream",
     "text": [
      "Downloading data from https://opendata.arcgis.com/datasets/2ab16a5fb61f42c1a689fd9cc466383f_0.csv (1 byte)\n",
      "\n"
     ]
    },
    {
     "name": "stderr",
     "output_type": "stream",
     "text": [
      "file_sizes: 10.8MB [00:07, 1.38MB/s]                                            \n"
     ]
    },
    {
     "name": "stdout",
     "output_type": "stream",
     "text": [
      "Successfully downloaded file to datasets/Mesure_journaliere_Region_Occitanie_Polluants_Principaux.csv\n"
     ]
    },
    {
     "data": {
      "text/plain": [
       "'datasets/Mesure_journaliere_Region_Occitanie_Polluants_Principaux.csv'"
      ]
     },
     "execution_count": 2,
     "metadata": {},
     "output_type": "execute_result"
    }
   ],
   "source": [
    "from download import download\n",
    "\n",
    "# We choose daily data\n",
    "url = \"https://opendata.arcgis.com/datasets/2ab16a5fb61f42c1a689fd9cc466383f_0.csv\"\n",
    "path_target = \"datasets/Mesure_journaliere_Region_Occitanie_Polluants_Principaux.csv\"\n",
    "download(url, path_target, replace=True)"
   ]
  },
  {
   "cell_type": "code",
   "execution_count": 3,
   "metadata": {},
   "outputs": [
    {
     "data": {
      "text/html": [
       "<div>\n",
       "<style scoped>\n",
       "    .dataframe tbody tr th:only-of-type {\n",
       "        vertical-align: middle;\n",
       "    }\n",
       "\n",
       "    .dataframe tbody tr th {\n",
       "        vertical-align: top;\n",
       "    }\n",
       "\n",
       "    .dataframe thead th {\n",
       "        text-align: right;\n",
       "    }\n",
       "</style>\n",
       "<table border=\"1\" class=\"dataframe\">\n",
       "  <thead>\n",
       "    <tr style=\"text-align: right;\">\n",
       "      <th></th>\n",
       "      <th>X</th>\n",
       "      <th>Y</th>\n",
       "      <th>nom_dept</th>\n",
       "      <th>nom_com</th>\n",
       "      <th>insee_com</th>\n",
       "      <th>nom_station</th>\n",
       "      <th>code_station</th>\n",
       "      <th>typologie</th>\n",
       "      <th>influence</th>\n",
       "      <th>nom_poll</th>\n",
       "      <th>id_poll_ue</th>\n",
       "      <th>valeur</th>\n",
       "      <th>unite</th>\n",
       "      <th>metrique</th>\n",
       "      <th>date_debut</th>\n",
       "      <th>date_fin</th>\n",
       "      <th>statut_valid</th>\n",
       "      <th>x_l93</th>\n",
       "      <th>y_l93</th>\n",
       "      <th>ObjectId</th>\n",
       "    </tr>\n",
       "  </thead>\n",
       "  <tbody>\n",
       "    <tr>\n",
       "      <td>0</td>\n",
       "      <td>0.179722</td>\n",
       "      <td>43.6303</td>\n",
       "      <td>GERS</td>\n",
       "      <td>PEYRUSSE-VIEILLE</td>\n",
       "      <td>32317</td>\n",
       "      <td>Peyrusse Vieille Rural</td>\n",
       "      <td>FR50020</td>\n",
       "      <td>Rurale Nationale</td>\n",
       "      <td>Fond</td>\n",
       "      <td>PM10</td>\n",
       "      <td>5</td>\n",
       "      <td>15.9</td>\n",
       "      <td>ug.m-3</td>\n",
       "      <td>journaliere</td>\n",
       "      <td>2019-12-27T01:00:00.000Z</td>\n",
       "      <td>2019-12-28T00:00:00.000Z</td>\n",
       "      <td>t</td>\n",
       "      <td>472377</td>\n",
       "      <td>6285316</td>\n",
       "      <td>1</td>\n",
       "    </tr>\n",
       "    <tr>\n",
       "      <td>1</td>\n",
       "      <td>3.898610</td>\n",
       "      <td>43.6100</td>\n",
       "      <td>HERAULT</td>\n",
       "      <td>MONTPELLIER</td>\n",
       "      <td>34172</td>\n",
       "      <td>Montpellier - Pompignane Trafic</td>\n",
       "      <td>FR50203</td>\n",
       "      <td>Urbaine</td>\n",
       "      <td>Trafic</td>\n",
       "      <td>PM10</td>\n",
       "      <td>5</td>\n",
       "      <td>16.0</td>\n",
       "      <td>ug.m-3</td>\n",
       "      <td>journaliere</td>\n",
       "      <td>2019-12-27T01:00:00.000Z</td>\n",
       "      <td>2019-12-28T00:00:00.000Z</td>\n",
       "      <td>t</td>\n",
       "      <td>772566</td>\n",
       "      <td>6279407</td>\n",
       "      <td>2</td>\n",
       "    </tr>\n",
       "    <tr>\n",
       "      <td>2</td>\n",
       "      <td>3.503030</td>\n",
       "      <td>44.5220</td>\n",
       "      <td>LOZERE</td>\n",
       "      <td>MENDE</td>\n",
       "      <td>48095</td>\n",
       "      <td>Mende - Vernede urbain</td>\n",
       "      <td>FR50801</td>\n",
       "      <td>Urbaine</td>\n",
       "      <td>Fond</td>\n",
       "      <td>PM10</td>\n",
       "      <td>5</td>\n",
       "      <td>15.9</td>\n",
       "      <td>ug.m-3</td>\n",
       "      <td>journaliere</td>\n",
       "      <td>2019-12-27T01:00:00.000Z</td>\n",
       "      <td>2019-12-28T00:00:00.000Z</td>\n",
       "      <td>t</td>\n",
       "      <td>739976</td>\n",
       "      <td>6380453</td>\n",
       "      <td>3</td>\n",
       "    </tr>\n",
       "    <tr>\n",
       "      <td>3</td>\n",
       "      <td>3.503030</td>\n",
       "      <td>44.5220</td>\n",
       "      <td>LOZERE</td>\n",
       "      <td>MENDE</td>\n",
       "      <td>48095</td>\n",
       "      <td>Mende - Vernede urbain</td>\n",
       "      <td>FR50801</td>\n",
       "      <td>Urbaine</td>\n",
       "      <td>Fond</td>\n",
       "      <td>NOX as NO2</td>\n",
       "      <td>9</td>\n",
       "      <td>27.6</td>\n",
       "      <td>ug.m-3</td>\n",
       "      <td>journaliere</td>\n",
       "      <td>2019-12-27T01:00:00.000Z</td>\n",
       "      <td>2019-12-28T00:00:00.000Z</td>\n",
       "      <td>t</td>\n",
       "      <td>739976</td>\n",
       "      <td>6380453</td>\n",
       "      <td>4</td>\n",
       "    </tr>\n",
       "    <tr>\n",
       "      <td>4</td>\n",
       "      <td>3.503030</td>\n",
       "      <td>44.5220</td>\n",
       "      <td>LOZERE</td>\n",
       "      <td>MENDE</td>\n",
       "      <td>48095</td>\n",
       "      <td>Mende - Vernede urbain</td>\n",
       "      <td>FR50801</td>\n",
       "      <td>Urbaine</td>\n",
       "      <td>Fond</td>\n",
       "      <td>O3</td>\n",
       "      <td>7</td>\n",
       "      <td>34.2</td>\n",
       "      <td>ug.m-3</td>\n",
       "      <td>journaliere</td>\n",
       "      <td>2019-12-27T01:00:00.000Z</td>\n",
       "      <td>2019-12-28T00:00:00.000Z</td>\n",
       "      <td>t</td>\n",
       "      <td>739976</td>\n",
       "      <td>6380453</td>\n",
       "      <td>5</td>\n",
       "    </tr>\n",
       "  </tbody>\n",
       "</table>\n",
       "</div>"
      ],
      "text/plain": [
       "          X        Y nom_dept           nom_com  insee_com  \\\n",
       "0  0.179722  43.6303     GERS  PEYRUSSE-VIEILLE      32317   \n",
       "1  3.898610  43.6100  HERAULT       MONTPELLIER      34172   \n",
       "2  3.503030  44.5220   LOZERE             MENDE      48095   \n",
       "3  3.503030  44.5220   LOZERE             MENDE      48095   \n",
       "4  3.503030  44.5220   LOZERE             MENDE      48095   \n",
       "\n",
       "                       nom_station code_station         typologie influence  \\\n",
       "0           Peyrusse Vieille Rural      FR50020  Rurale Nationale      Fond   \n",
       "1  Montpellier - Pompignane Trafic      FR50203           Urbaine    Trafic   \n",
       "2           Mende - Vernede urbain      FR50801           Urbaine      Fond   \n",
       "3           Mende - Vernede urbain      FR50801           Urbaine      Fond   \n",
       "4           Mende - Vernede urbain      FR50801           Urbaine      Fond   \n",
       "\n",
       "     nom_poll  id_poll_ue  valeur   unite     metrique  \\\n",
       "0        PM10           5    15.9  ug.m-3  journaliere   \n",
       "1        PM10           5    16.0  ug.m-3  journaliere   \n",
       "2        PM10           5    15.9  ug.m-3  journaliere   \n",
       "3  NOX as NO2           9    27.6  ug.m-3  journaliere   \n",
       "4          O3           7    34.2  ug.m-3  journaliere   \n",
       "\n",
       "                 date_debut                  date_fin statut_valid   x_l93  \\\n",
       "0  2019-12-27T01:00:00.000Z  2019-12-28T00:00:00.000Z            t  472377   \n",
       "1  2019-12-27T01:00:00.000Z  2019-12-28T00:00:00.000Z            t  772566   \n",
       "2  2019-12-27T01:00:00.000Z  2019-12-28T00:00:00.000Z            t  739976   \n",
       "3  2019-12-27T01:00:00.000Z  2019-12-28T00:00:00.000Z            t  739976   \n",
       "4  2019-12-27T01:00:00.000Z  2019-12-28T00:00:00.000Z            t  739976   \n",
       "\n",
       "     y_l93  ObjectId  \n",
       "0  6285316         1  \n",
       "1  6279407         2  \n",
       "2  6380453         3  \n",
       "3  6380453         4  \n",
       "4  6380453         5  "
      ]
     },
     "execution_count": 3,
     "metadata": {},
     "output_type": "execute_result"
    }
   ],
   "source": [
    "occ = pd.read_csv(path_target)\n",
    "# all data of Occitanie"
   ]
  },
  {
   "cell_type": "markdown",
   "metadata": {},
   "source": [
    "## 2) Data treatment"
   ]
  },
  {
   "cell_type": "code",
   "execution_count": 4,
   "metadata": {},
   "outputs": [
    {
     "name": "stderr",
     "output_type": "stream",
     "text": [
      "C:\\Users\\megan\\Anaconda3\\lib\\site-packages\\pandas\\core\\arrays\\datetimes.py:1269: UserWarning: Converting to PeriodArray/Index representation will drop timezone information.\n",
      "  UserWarning,\n"
     ]
    }
   ],
   "source": [
    "occ['date'] = pd.to_datetime(occ['date_debut']).dt.to_period('M')"
   ]
  },
  {
   "cell_type": "markdown",
   "metadata": {},
   "source": [
    "We only care about ozone: "
   ]
  },
  {
   "cell_type": "code",
   "execution_count": 7,
   "metadata": {},
   "outputs": [],
   "source": [
    "occ = occ[occ['nom_poll'] == 'O3'] # only ozone"
   ]
  },
  {
   "cell_type": "markdown",
   "metadata": {},
   "source": [
    "## 3) Widget Developement"
   ]
  },
  {
   "cell_type": "markdown",
   "metadata": {},
   "source": [
    "The following widget compares pollution in three choosen cities for a choosen month:"
   ]
  },
  {
   "cell_type": "code",
   "execution_count": 11,
   "metadata": {},
   "outputs": [],
   "source": [
    "def poluted_cities(month, station_1='Montpellier Nord - Périurbain', \n",
    "                    station_2='Lourdes-Lapaca Urbain', \n",
    "                    station_3='Toulouse-Berthelot Urbain'):\n",
    "    \n",
    "    stations = station_1, station_2, station_3\n",
    "    \n",
    "    df_station = occ[occ['nom_station'].isin(stations)] # only stations we ask\n",
    "    df_station = df_station[df_station['nom_poll'] == 'O3'] # only ozone  \n",
    "    df_station = df_station[df_station.date == month]\n",
    "    df_station = df_station[['nom_com', 'nom_station', 'valeur', 'date']]\n",
    "    \n",
    "    plt.style.use('dark_background')\n",
    "    sns.catplot(x = 'nom_com', y = 'valeur', \n",
    "            data = df_station,\n",
    "            height = 3, aspect = 2,\n",
    "            kind = 'boxen')\n",
    "    plt.tight_layout()\n",
    "    plt.xlabel('Cities')\n",
    "    plt.ylabel('O3')\n",
    "    plt.title(\"Comparison of ozone measurements over a month from 3 cities\")\n",
    "    plt.show()    "
   ]
  },
  {
   "cell_type": "code",
   "execution_count": 12,
   "metadata": {},
   "outputs": [
    {
     "data": {
      "application/vnd.jupyter.widget-view+json": {
       "model_id": "ad18c8ef757946d3b8c0c3c8fc17f0c9",
       "version_major": 2,
       "version_minor": 0
      },
      "text/plain": [
       "interactive(children=(Dropdown(description='month', options=(Period('2019-12', 'M'), Period('2020-02', 'M'), P…"
      ]
     },
     "metadata": {},
     "output_type": "display_data"
    },
    {
     "data": {
      "text/plain": [
       "<function __main__.poluted_cities2(month, station_1='Montpellier Nord - Périurbain', station_2='Lourdes-Lapaca Urbain', station_3='Toulouse-Berthelot Urbain')>"
      ]
     },
     "execution_count": 12,
     "metadata": {},
     "output_type": "execute_result"
    }
   ],
   "source": [
    "interact(poluted_cities, station_1=occ.nom_station.unique(), \n",
    "         station_2=occ.nom_station.unique(), \n",
    "         station_3=occ.nom_station.unique(), \n",
    "         month=occ.date.unique())"
   ]
  }
 ],
 "metadata": {
  "kernelspec": {
   "display_name": "Python 3",
   "language": "python",
   "name": "python3"
  },
  "language_info": {
   "codemirror_mode": {
    "name": "ipython",
    "version": 3
   },
   "file_extension": ".py",
   "mimetype": "text/x-python",
   "name": "python",
   "nbconvert_exporter": "python",
   "pygments_lexer": "ipython3",
   "version": "3.7.4"
  }
 },
 "nbformat": 4,
 "nbformat_minor": 2
}