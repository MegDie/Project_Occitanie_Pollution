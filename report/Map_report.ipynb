{
 "cells": [
  {
   "cell_type": "markdown",
   "metadata": {},
   "source": [
    "# Interactive Map of pollution in Occitanie"
   ]
  },
  {
   "cell_type": "markdown",
   "metadata": {},
   "source": [
    "The goal of this notebook is to provide an interactive map (using `folium`) comparing the level of ozone pollution in Occitanie and in Paris (Paris 13), or only in Occitanie. It will allow you to choose a month and visualize a map with colored circle showing the level of pollution in each station. There could be more than one station per city. In the different parts of these notebook, you will find studies at different time scales."
   ]
  },
  {
   "cell_type": "code",
   "execution_count": 1,
   "metadata": {},
   "outputs": [],
   "source": [
    "import matplotlib.pyplot as plt\n",
    "%matplotlib inline\n",
    "import matplotlib.colors as colors\n",
    "\n",
    "from numpy import array\n",
    "from numpy import max\n",
    "import numpy as np\n",
    "import pandas as pd\n",
    "import math\n",
    "import folium\n",
    "from download import download"
   ]
  },
  {
   "cell_type": "markdown",
   "metadata": {},
   "source": [
    "# 1 - Monthly study in 2018:"
   ]
  },
  {
   "cell_type": "markdown",
   "metadata": {},
   "source": [
    "To cover an entire year, only 2018 is available to study precisely the ozone level in Occitanie and Paris at the same time."
   ]
  },
  {
   "cell_type": "code",
   "execution_count": 2,
   "metadata": {},
   "outputs": [
    {
     "name": "stdout",
     "output_type": "stream",
     "text": [
      "Replace is False and data exists, so doing nothing. Use replace==True to re-download the data.\n"
     ]
    }
   ],
   "source": [
    "# We choose monthly data\n",
    "url = \"https://opendata.arcgis.com/datasets/3acfa2aa5c0346a18ba7749c6885e503_0.csv\"\n",
    "path_target = \"datasets/Mesure_mensuelle_Region_Occitanie_Polluants_Principaux.csv\"\n",
    "download(url, path_target, replace=False)\n",
    "\n",
    "paris_df = pd.read_csv('PA13_2018.csv', sep=';',\n",
    "                          comment='#',\n",
    "                          na_values=\"n/d\",\n",
    "                          converters={'heure': str})"
   ]
  },
  {
   "cell_type": "markdown",
   "metadata": {},
   "source": [
    "### Data treatment:"
   ]
  },
  {
   "cell_type": "markdown",
   "metadata": {},
   "source": [
    "Treatment of Occitanie data: We select ozone and variables we care about, we also transform with a good format the date."
   ]
  },
  {
   "cell_type": "code",
   "execution_count": 3,
   "metadata": {},
   "outputs": [
    {
     "name": "stderr",
     "output_type": "stream",
     "text": [
      "C:\\Users\\megan\\Anaconda3\\lib\\site-packages\\pandas\\core\\arrays\\datetimes.py:1269: UserWarning: Converting to PeriodArray/Index representation will drop timezone information.\n",
      "  UserWarning,\n"
     ]
    }
   ],
   "source": [
    "occ_df = pd.read_csv(path_target)\n",
    "occ_df = occ_df[occ_df['nom_poll'] == 'O3'] # only ozone\n",
    "occ_df['month'] = pd.to_datetime(occ_df['date_debut']).dt.to_period('M') # good format for month\n",
    "variables = ['X', 'Y', 'nom_com', 'nom_station', 'valeur', 'month'] # variables we care about\n",
    "occ_df = occ_df[variables]"
   ]
  },
  {
   "cell_type": "markdown",
   "metadata": {},
   "source": [
    "Treatment of Paris data: We reconstruct the data to have the same variables than Occitanie "
   ]
  },
  {
   "cell_type": "code",
   "execution_count": 4,
   "metadata": {},
   "outputs": [],
   "source": [
    "paris_df = paris_df[paris_df.date.isna()==False] # delete NaN row\n",
    "paris_df = paris_df[paris_df['O3']!='n/d'] # no line without O3 data\n",
    "paris_df['O3'] = paris_df['O3'].astype('float') # convert type data as float\n",
    "paris_df['month'] = pd.to_datetime(paris_df['date']).dt.to_period('M') # good format for month\n",
    "par2018 = paris_df.groupby('month').agg({'O3':'mean'}) # We only care about month in this study\n",
    "\n",
    "par2018['month'] = ['2018-01', '2018-02', '2018-03', '2018-04', \n",
    "                    '2018-05', '2018-06', '2018-07', '2018-08', \n",
    "                    '2018-09', '2018-10','2018-11','2018-12']\n",
    "\n",
    "par2018['nom_com'] = ['PARIS']*12\n",
    "par2018['nom_station'] = ['Paris 13ème']*12\n",
    "par2018['X'] = [2.3488]*12\n",
    "par2018['Y'] = [48.8534]*12\n",
    "par2018['valeur'] = par2018['O3']\n",
    "par2018 = par2018[variables]"
   ]
  },
  {
   "cell_type": "code",
   "execution_count": 5,
   "metadata": {},
   "outputs": [],
   "source": [
    "df_2018 = pd.concat([occ_df, par2018]) # data frame with Paris and Occitanie data"
   ]
  },
  {
   "cell_type": "code",
   "execution_count": 6,
   "metadata": {},
   "outputs": [],
   "source": [
    "# Standardized data for a good color scale\n",
    "df_2018['standard'] = (df_2018[['valeur']] - np.mean(df_2018[['valeur']]))/ np.std(df_2018[['valeur']])"
   ]
  },
  {
   "cell_type": "markdown",
   "metadata": {},
   "source": [
    "The available cities in this exemple are: "
   ]
  },
  {
   "cell_type": "code",
   "execution_count": 7,
   "metadata": {},
   "outputs": [
    {
     "data": {
      "text/plain": [
       "array(['MILLAU', 'NIMES', 'BESSIERES', 'PEYRUSSE-VIEILLE', 'SAZE',\n",
       "       'TOULOUSE', 'MONTGISCARD', 'BIARS-SUR-CERE', 'SAINT-ESTEVE',\n",
       "       'BELESTA-EN-LAURAGAIS', 'CORNEILHAN', 'AGDE', 'LATTES', 'TARBES',\n",
       "       'LA CALMETTE', 'SAINT-GELY-DU-FESC', 'MIRAMONT-DE-COMMINGES',\n",
       "       'MONTPELLIER', 'LOURDES', 'PERPIGNAN', 'FRAISSE-SUR-AGOUT',\n",
       "       'RODEZ', 'CARCASSONNE', 'MENDE', 'ALBI', 'CASTRES', 'PAMIERS',\n",
       "       'VALLABREGUES', 'PARIS'], dtype=object)"
      ]
     },
     "execution_count": 7,
     "metadata": {},
     "output_type": "execute_result"
    }
   ],
   "source": [
    "df_2018.nom_com.unique()"
   ]
  },
  {
   "cell_type": "code",
   "execution_count": 8,
   "metadata": {},
   "outputs": [
    {
     "data": {
      "text/html": [
       "<div>\n",
       "<style scoped>\n",
       "    .dataframe tbody tr th:only-of-type {\n",
       "        vertical-align: middle;\n",
       "    }\n",
       "\n",
       "    .dataframe tbody tr th {\n",
       "        vertical-align: top;\n",
       "    }\n",
       "\n",
       "    .dataframe thead th {\n",
       "        text-align: right;\n",
       "    }\n",
       "</style>\n",
       "<table border=\"1\" class=\"dataframe\">\n",
       "  <thead>\n",
       "    <tr style=\"text-align: right;\">\n",
       "      <th></th>\n",
       "      <th>X</th>\n",
       "      <th>Y</th>\n",
       "      <th>nom_com</th>\n",
       "      <th>nom_station</th>\n",
       "      <th>valeur</th>\n",
       "      <th>month</th>\n",
       "      <th>standard</th>\n",
       "    </tr>\n",
       "  </thead>\n",
       "  <tbody>\n",
       "    <tr>\n",
       "      <td>0</td>\n",
       "      <td>3.07218</td>\n",
       "      <td>44.1062</td>\n",
       "      <td>MILLAU</td>\n",
       "      <td>Millau Urbain</td>\n",
       "      <td>50.800000</td>\n",
       "      <td>2018-02</td>\n",
       "      <td>-0.605128</td>\n",
       "    </tr>\n",
       "    <tr>\n",
       "      <td>1</td>\n",
       "      <td>3.07218</td>\n",
       "      <td>44.1062</td>\n",
       "      <td>MILLAU</td>\n",
       "      <td>Millau Urbain</td>\n",
       "      <td>67.800000</td>\n",
       "      <td>2018-03</td>\n",
       "      <td>0.374121</td>\n",
       "    </tr>\n",
       "    <tr>\n",
       "      <td>2</td>\n",
       "      <td>3.07218</td>\n",
       "      <td>44.1062</td>\n",
       "      <td>MILLAU</td>\n",
       "      <td>Millau Urbain</td>\n",
       "      <td>77.700000</td>\n",
       "      <td>2018-04</td>\n",
       "      <td>0.944389</td>\n",
       "    </tr>\n",
       "    <tr>\n",
       "      <td>3</td>\n",
       "      <td>3.07218</td>\n",
       "      <td>44.1062</td>\n",
       "      <td>MILLAU</td>\n",
       "      <td>Millau Urbain</td>\n",
       "      <td>66.700000</td>\n",
       "      <td>2018-05</td>\n",
       "      <td>0.310758</td>\n",
       "    </tr>\n",
       "    <tr>\n",
       "      <td>4</td>\n",
       "      <td>3.07218</td>\n",
       "      <td>44.1062</td>\n",
       "      <td>MILLAU</td>\n",
       "      <td>Millau Urbain</td>\n",
       "      <td>66.900000</td>\n",
       "      <td>2018-06</td>\n",
       "      <td>0.322278</td>\n",
       "    </tr>\n",
       "    <tr>\n",
       "      <td>...</td>\n",
       "      <td>...</td>\n",
       "      <td>...</td>\n",
       "      <td>...</td>\n",
       "      <td>...</td>\n",
       "      <td>...</td>\n",
       "      <td>...</td>\n",
       "      <td>...</td>\n",
       "    </tr>\n",
       "    <tr>\n",
       "      <td>310</td>\n",
       "      <td>2.34880</td>\n",
       "      <td>48.8534</td>\n",
       "      <td>PARIS</td>\n",
       "      <td>Paris 13ème</td>\n",
       "      <td>50.294737</td>\n",
       "      <td>2018-08</td>\n",
       "      <td>-0.634232</td>\n",
       "    </tr>\n",
       "    <tr>\n",
       "      <td>311</td>\n",
       "      <td>2.34880</td>\n",
       "      <td>48.8534</td>\n",
       "      <td>PARIS</td>\n",
       "      <td>Paris 13ème</td>\n",
       "      <td>39.766667</td>\n",
       "      <td>2018-09</td>\n",
       "      <td>-1.240679</td>\n",
       "    </tr>\n",
       "    <tr>\n",
       "      <td>312</td>\n",
       "      <td>2.34880</td>\n",
       "      <td>48.8534</td>\n",
       "      <td>PARIS</td>\n",
       "      <td>Paris 13ème</td>\n",
       "      <td>36.401617</td>\n",
       "      <td>2018-10</td>\n",
       "      <td>-1.434516</td>\n",
       "    </tr>\n",
       "    <tr>\n",
       "      <td>313</td>\n",
       "      <td>2.34880</td>\n",
       "      <td>48.8534</td>\n",
       "      <td>PARIS</td>\n",
       "      <td>Paris 13ème</td>\n",
       "      <td>26.974895</td>\n",
       "      <td>2018-11</td>\n",
       "      <td>-1.977522</td>\n",
       "    </tr>\n",
       "    <tr>\n",
       "      <td>314</td>\n",
       "      <td>2.34880</td>\n",
       "      <td>48.8534</td>\n",
       "      <td>PARIS</td>\n",
       "      <td>Paris 13ème</td>\n",
       "      <td>28.602778</td>\n",
       "      <td>2018-12</td>\n",
       "      <td>-1.883751</td>\n",
       "    </tr>\n",
       "  </tbody>\n",
       "</table>\n",
       "<p>315 rows × 7 columns</p>\n",
       "</div>"
      ],
      "text/plain": [
       "           X        Y nom_com    nom_station     valeur    month  standard\n",
       "0    3.07218  44.1062  MILLAU  Millau Urbain  50.800000  2018-02 -0.605128\n",
       "1    3.07218  44.1062  MILLAU  Millau Urbain  67.800000  2018-03  0.374121\n",
       "2    3.07218  44.1062  MILLAU  Millau Urbain  77.700000  2018-04  0.944389\n",
       "3    3.07218  44.1062  MILLAU  Millau Urbain  66.700000  2018-05  0.310758\n",
       "4    3.07218  44.1062  MILLAU  Millau Urbain  66.900000  2018-06  0.322278\n",
       "..       ...      ...     ...            ...        ...      ...       ...\n",
       "310  2.34880  48.8534   PARIS    Paris 13ème  50.294737  2018-08 -0.634232\n",
       "311  2.34880  48.8534   PARIS    Paris 13ème  39.766667  2018-09 -1.240679\n",
       "312  2.34880  48.8534   PARIS    Paris 13ème  36.401617  2018-10 -1.434516\n",
       "313  2.34880  48.8534   PARIS    Paris 13ème  26.974895  2018-11 -1.977522\n",
       "314  2.34880  48.8534   PARIS    Paris 13ème  28.602778  2018-12 -1.883751\n",
       "\n",
       "[315 rows x 7 columns]"
      ]
     },
     "execution_count": 8,
     "metadata": {},
     "output_type": "execute_result"
    }
   ],
   "source": [
    "df_2018.reset_index(drop = True)"
   ]
  },
  {
   "cell_type": "code",
   "execution_count": 17,
   "metadata": {},
   "outputs": [
    {
     "data": {
      "text/html": [
       "<div>\n",
       "<style scoped>\n",
       "    .dataframe tbody tr th:only-of-type {\n",
       "        vertical-align: middle;\n",
       "    }\n",
       "\n",
       "    .dataframe tbody tr th {\n",
       "        vertical-align: top;\n",
       "    }\n",
       "\n",
       "    .dataframe thead th {\n",
       "        text-align: right;\n",
       "    }\n",
       "</style>\n",
       "<table border=\"1\" class=\"dataframe\">\n",
       "  <thead>\n",
       "    <tr style=\"text-align: right;\">\n",
       "      <th></th>\n",
       "      <th>X</th>\n",
       "      <th>Y</th>\n",
       "      <th>nom_com</th>\n",
       "      <th>nom_station</th>\n",
       "      <th>valeur</th>\n",
       "      <th>month</th>\n",
       "      <th>standard</th>\n",
       "    </tr>\n",
       "  </thead>\n",
       "  <tbody>\n",
       "  </tbody>\n",
       "</table>\n",
       "</div>"
      ],
      "text/plain": [
       "Empty DataFrame\n",
       "Columns: [X, Y, nom_com, nom_station, valeur, month, standard]\n",
       "Index: []"
      ]
     },
     "execution_count": 17,
     "metadata": {},
     "output_type": "execute_result"
    }
   ],
   "source": []
  },
  {
   "cell_type": "markdown",
   "metadata": {},
   "source": [
    "### Interactive map for different months in 2018:"
   ]
  },
  {
   "cell_type": "code",
   "execution_count": 25,
   "metadata": {},
   "outputs": [],
   "source": [
    "import branca.colormap as cm\n",
    "\n",
    "linear = cm.LinearColormap(\n",
    "    ['green', 'yellow', 'red'],\n",
    "    vmin=-3, vmax=3\n",
    ")\n",
    "# colors"
   ]
  },
  {
   "cell_type": "code",
   "execution_count": 26,
   "metadata": {},
   "outputs": [],
   "source": [
    "from ipywidgets import interact  # widget manipulation\n",
    "from IPython.display import HTML\n",
    "\n",
    "def interactive_map(mois = '2018-02'):\n",
    "    \n",
    "    map_2018 = df_2018[df_2018['month'] == mois]\n",
    "    \n",
    "    map_int = folium.Map(location = [46, 2.15], \n",
    "                         zoom_start = 6, \n",
    "                         tiles = 'Stamen Terrain')\n",
    "    \n",
    "    for i in range(0, len(map_2018)):\n",
    "        folium.Circle(\n",
    "            location = [map_2018.iloc[i]['Y'], map_2018.iloc[i]['X']],\n",
    "            popup = map_2018.iloc[i]['nom_station'],\n",
    "            radius = map_2018.iloc[i]['valeur']*500,\n",
    "            color = 'black',\n",
    "            fill = True,\n",
    "            fill_color = linear(map_2018.iloc[i]['standard']),\n",
    "            fill_opacity = 0.5,\n",
    "            opacity = 0.4,\n",
    "        ).add_to(map_int)\n",
    "    \n",
    "    return(map_int)"
   ]
  },
  {
   "cell_type": "code",
   "execution_count": 27,
   "metadata": {},
   "outputs": [
    {
     "data": {
      "application/vnd.jupyter.widget-view+json": {
       "model_id": "fee230835af542daba61f114ed069390",
       "version_major": 2,
       "version_minor": 0
      },
      "text/plain": [
       "interactive(children=(Dropdown(description='mois', index=12, options=(Period('2018-02', 'M'), Period('2018-03'…"
      ]
     },
     "metadata": {},
     "output_type": "display_data"
    },
    {
     "data": {
      "text/plain": [
       "<function __main__.interactive_map(mois='2018-02')>"
      ]
     },
     "execution_count": 27,
     "metadata": {},
     "output_type": "execute_result"
    }
   ],
   "source": [
    "interact(interactive_map, mois=df_2018.month.unique())"
   ]
  },
  {
   "cell_type": "markdown",
   "metadata": {},
   "source": [
    "## 4) Animation \n"
   ]
  },
  {
   "cell_type": "code",
   "execution_count": 12,
   "metadata": {},
   "outputs": [],
   "source": [
    "import matplotlib.animation as animation\n",
    "# Comment obtient on une image de ce truc ?\n",
    "# Animons tout ça..."
   ]
  }
 ],
 "metadata": {
  "kernelspec": {
   "display_name": "Python 3",
   "language": "python",
   "name": "python3"
  },
  "language_info": {
   "codemirror_mode": {
    "name": "ipython",
    "version": 3
   },
   "file_extension": ".py",
   "mimetype": "text/x-python",
   "name": "python",
   "nbconvert_exporter": "python",
   "pygments_lexer": "ipython3",
   "version": "3.7.4"
  }
 },
 "nbformat": 4,
 "nbformat_minor": 2
}
