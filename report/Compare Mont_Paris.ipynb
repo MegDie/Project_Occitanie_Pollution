{
 "cells": [
  {
   "cell_type": "markdown",
   "metadata": {},
   "source": [
    "           Development of a Widget\n",
    "The object of this notebook is providing a widget that will compare\n",
    "the level of ozone pollution of two cities:\n",
    "\n",
    "Montpellier and Paris 13e.\n",
    "\n",
    "The idea is to answer the following question:\n",
    "\n",
    "Does it exist a significant level of ozone pollution between two cities?\n",
    "    \n",
    "  \n"
   ]
  },
  {
   "cell_type": "code",
   "execution_count": 6,
   "metadata": {},
   "outputs": [],
   "source": [
    "import os\n",
    "import sys\n",
    "sys.path.append(\"./codes\")\n",
    "\n",
    "import numpy as np\n",
    "import matplotlib.pyplot as plt\n",
    "plt.rcParams.update({'figure.max_open_warning': 100})  # \n",
    "%matplotlib notebook"
   ]
  },
  {
   "cell_type": "code",
   "execution_count": 7,
   "metadata": {},
   "outputs": [],
   "source": [
    "import seaborn as sns\n",
    "import pandas as pd\n",
    "from pathlib import Path\n",
    "from statsmodels.formula.api import ols\n",
    "import statsmodels.api as sm\n",
    "\n",
    "directory = Path.cwd() \n",
    "directory = directory.joinpath('prebuiltimages')\n",
    "def my_saving_display(fig, directory, image_name, imageformat=\"pdf\",\n",
    "                      saving=False):\n",
    "    \"\"\"\"Saving with personal function.\"\"\"\n",
    "    if saving is True:\n",
    "        fig.savefig(directory.joinpath(image_name + '.' + imageformat),\n",
    "                    \n",
    "                    format=imageformat)"
   ]
  },
  {
   "cell_type": "markdown",
   "metadata": {},
   "source": [
    "1) Data importation \n",
    "\n",
    "We import data from the following website:\n",
    "\n",
    "http://www.airparif.asso.fr/telechargement/confirme/id/06bb94ba3f23ad75144acf9bce05d014\n",
    "\n",
    "\n",
    "http://data-atmo-occitanie.opendata.arcgis.com/datasets/4a648b54876f485e92f22e2ad5a5da32_0\n",
    "\n",
    "The first website is about Paris 13e data. It contents NO2, O3 and the date data.\n",
    "\n",
    "The second one gives us the occitanie data which belows .Montpellier \n",
    "\n"
   ]
  },
  {
   "cell_type": "code",
   "execution_count": 8,
   "metadata": {},
   "outputs": [
    {
     "data": {
      "text/html": [
       "<div>\n",
       "<style scoped>\n",
       "    .dataframe tbody tr th:only-of-type {\n",
       "        vertical-align: middle;\n",
       "    }\n",
       "\n",
       "    .dataframe tbody tr th {\n",
       "        vertical-align: top;\n",
       "    }\n",
       "\n",
       "    .dataframe thead th {\n",
       "        text-align: right;\n",
       "    }\n",
       "</style>\n",
       "<table border=\"1\" class=\"dataframe\">\n",
       "  <thead>\n",
       "    <tr style=\"text-align: right;\">\n",
       "      <th></th>\n",
       "      <th>date</th>\n",
       "      <th>heure</th>\n",
       "      <th>NO2</th>\n",
       "      <th>O3</th>\n",
       "    </tr>\n",
       "  </thead>\n",
       "  <tbody>\n",
       "    <tr>\n",
       "      <td>0</td>\n",
       "      <td>NaN</td>\n",
       "      <td>NaN</td>\n",
       "      <td>microg/m3</td>\n",
       "      <td>microg/m3</td>\n",
       "    </tr>\n",
       "    <tr>\n",
       "      <td>1</td>\n",
       "      <td>01/04/2019</td>\n",
       "      <td>1.0</td>\n",
       "      <td>16</td>\n",
       "      <td>51</td>\n",
       "    </tr>\n",
       "    <tr>\n",
       "      <td>2</td>\n",
       "      <td>01/04/2019</td>\n",
       "      <td>2.0</td>\n",
       "      <td>16</td>\n",
       "      <td>48</td>\n",
       "    </tr>\n",
       "    <tr>\n",
       "      <td>3</td>\n",
       "      <td>01/04/2019</td>\n",
       "      <td>3.0</td>\n",
       "      <td>18</td>\n",
       "      <td>46</td>\n",
       "    </tr>\n",
       "    <tr>\n",
       "      <td>4</td>\n",
       "      <td>01/04/2019</td>\n",
       "      <td>4.0</td>\n",
       "      <td>21</td>\n",
       "      <td>40</td>\n",
       "    </tr>\n",
       "  </tbody>\n",
       "</table>\n",
       "</div>"
      ],
      "text/plain": [
       "         date  heure        NO2         O3\n",
       "0         NaN    NaN  microg/m3  microg/m3\n",
       "1  01/04/2019    1.0         16         51\n",
       "2  01/04/2019    2.0         16         48\n",
       "3  01/04/2019    3.0         18         46\n",
       "4  01/04/2019    4.0         21         40"
      ]
     },
     "execution_count": 8,
     "metadata": {},
     "output_type": "execute_result"
    }
   ],
   "source": [
    "occ1 = pd.read_csv(\"Mesure_journaliere_Region_Occitanie_Polluants_Principaux.csv\", sep=\",\" , header=0 )\n",
    "occ1.head()\n",
    "occ2 = pd.read_csv(\"20190401_20200331-PA13_auto.csv\", sep=\";\" , header=0)\n",
    "occ2.head()"
   ]
  },
  {
   "cell_type": "markdown",
   "metadata": {},
   "source": [
    "2) Data treatment\n",
    "\n",
    "We have to give a usable format to the date in order to exploit it.\n"
   ]
  },
  {
   "cell_type": "code",
   "execution_count": 9,
   "metadata": {},
   "outputs": [],
   "source": [
    "occ2 = occ2[occ2.date.isna()==False]"
   ]
  },
  {
   "cell_type": "code",
   "execution_count": 10,
   "metadata": {},
   "outputs": [
    {
     "data": {
      "text/html": [
       "<div>\n",
       "<style scoped>\n",
       "    .dataframe tbody tr th:only-of-type {\n",
       "        vertical-align: middle;\n",
       "    }\n",
       "\n",
       "    .dataframe tbody tr th {\n",
       "        vertical-align: top;\n",
       "    }\n",
       "\n",
       "    .dataframe thead th {\n",
       "        text-align: right;\n",
       "    }\n",
       "</style>\n",
       "<table border=\"1\" class=\"dataframe\">\n",
       "  <thead>\n",
       "    <tr style=\"text-align: right;\">\n",
       "      <th></th>\n",
       "      <th>date</th>\n",
       "      <th>heure</th>\n",
       "      <th>NO2</th>\n",
       "      <th>O3</th>\n",
       "    </tr>\n",
       "  </thead>\n",
       "  <tbody>\n",
       "    <tr>\n",
       "      <td>1</td>\n",
       "      <td>01/04/2019</td>\n",
       "      <td>1.0</td>\n",
       "      <td>16</td>\n",
       "      <td>51</td>\n",
       "    </tr>\n",
       "    <tr>\n",
       "      <td>2</td>\n",
       "      <td>01/04/2019</td>\n",
       "      <td>2.0</td>\n",
       "      <td>16</td>\n",
       "      <td>48</td>\n",
       "    </tr>\n",
       "    <tr>\n",
       "      <td>3</td>\n",
       "      <td>01/04/2019</td>\n",
       "      <td>3.0</td>\n",
       "      <td>18</td>\n",
       "      <td>46</td>\n",
       "    </tr>\n",
       "    <tr>\n",
       "      <td>4</td>\n",
       "      <td>01/04/2019</td>\n",
       "      <td>4.0</td>\n",
       "      <td>21</td>\n",
       "      <td>40</td>\n",
       "    </tr>\n",
       "    <tr>\n",
       "      <td>5</td>\n",
       "      <td>01/04/2019</td>\n",
       "      <td>5.0</td>\n",
       "      <td>36</td>\n",
       "      <td>24</td>\n",
       "    </tr>\n",
       "  </tbody>\n",
       "</table>\n",
       "</div>"
      ],
      "text/plain": [
       "         date  heure NO2  O3\n",
       "1  01/04/2019    1.0  16  51\n",
       "2  01/04/2019    2.0  16  48\n",
       "3  01/04/2019    3.0  18  46\n",
       "4  01/04/2019    4.0  21  40\n",
       "5  01/04/2019    5.0  36  24"
      ]
     },
     "execution_count": 10,
     "metadata": {},
     "output_type": "execute_result"
    }
   ],
   "source": [
    "occ2.head()"
   ]
  },
  {
   "cell_type": "markdown",
   "metadata": {},
   "source": [
    "We notice that Paris 13e  data is evaluated in hours. Show we will calculate the mean in days.\n"
   ]
  },
  {
   "cell_type": "code",
   "execution_count": 6,
   "metadata": {},
   "outputs": [],
   "source": [
    "occ2=occ2[occ2['NO2']!='n/d']\n",
    "occ2['NO2']=occ2['NO2'].astype('float')\n",
    "occ_PARIS13= occ2.groupby('date').agg({'NO2':'mean'})"
   ]
  },
  {
   "cell_type": "code",
   "execution_count": 7,
   "metadata": {},
   "outputs": [
    {
     "data": {
      "text/html": [
       "<div>\n",
       "<style scoped>\n",
       "    .dataframe tbody tr th:only-of-type {\n",
       "        vertical-align: middle;\n",
       "    }\n",
       "\n",
       "    .dataframe tbody tr th {\n",
       "        vertical-align: top;\n",
       "    }\n",
       "\n",
       "    .dataframe thead th {\n",
       "        text-align: right;\n",
       "    }\n",
       "</style>\n",
       "<table border=\"1\" class=\"dataframe\">\n",
       "  <thead>\n",
       "    <tr style=\"text-align: right;\">\n",
       "      <th></th>\n",
       "      <th>NO2</th>\n",
       "    </tr>\n",
       "    <tr>\n",
       "      <th>date</th>\n",
       "      <th></th>\n",
       "    </tr>\n",
       "  </thead>\n",
       "  <tbody>\n",
       "    <tr>\n",
       "      <td>01/01/2020</td>\n",
       "      <td>26.333333</td>\n",
       "    </tr>\n",
       "    <tr>\n",
       "      <td>01/02/2020</td>\n",
       "      <td>16.541667</td>\n",
       "    </tr>\n",
       "    <tr>\n",
       "      <td>01/03/2020</td>\n",
       "      <td>23.250000</td>\n",
       "    </tr>\n",
       "    <tr>\n",
       "      <td>01/04/2019</td>\n",
       "      <td>30.375000</td>\n",
       "    </tr>\n",
       "    <tr>\n",
       "      <td>01/05/2019</td>\n",
       "      <td>22.791667</td>\n",
       "    </tr>\n",
       "  </tbody>\n",
       "</table>\n",
       "</div>"
      ],
      "text/plain": [
       "                  NO2\n",
       "date                 \n",
       "01/01/2020  26.333333\n",
       "01/02/2020  16.541667\n",
       "01/03/2020  23.250000\n",
       "01/04/2019  30.375000\n",
       "01/05/2019  22.791667"
      ]
     },
     "execution_count": 7,
     "metadata": {},
     "output_type": "execute_result"
    }
   ],
   "source": [
    "occ_PARIS13.head()"
   ]
  },
  {
   "cell_type": "markdown",
   "metadata": {},
   "source": [
    "We must give the date a usable format to exploit datas:"
   ]
  },
  {
   "cell_type": "code",
   "execution_count": 8,
   "metadata": {},
   "outputs": [
    {
     "name": "stderr",
     "output_type": "stream",
     "text": [
      "C:\\ProgramData\\Anaconda3\\lib\\site-packages\\pandas\\core\\arrays\\datetimes.py:1269: UserWarning: Converting to PeriodArray/Index representation will drop timezone information.\n",
      "  UserWarning,\n"
     ]
    }
   ],
   "source": [
    "occ1['date'] = pd.to_datetime(occ1['date_debut']).dt.to_period('M')"
   ]
  },
  {
   "cell_type": "markdown",
   "metadata": {},
   "source": [
    "We are going to see the cities of occitanie "
   ]
  },
  {
   "cell_type": "code",
   "execution_count": 9,
   "metadata": {},
   "outputs": [
    {
     "data": {
      "text/plain": [
       "array(['MONTPELLIER', 'TOULOUSE', 'NIMES', 'BELESTA-EN-LAURAGAIS',\n",
       "       'BIARS-SUR-CERE', 'PEYRUSSE-VIEILLE', 'MIRAMONT-DE-COMMINGES',\n",
       "       'BESSIERES', 'BLAGNAC', 'LUNEL-VIEL', 'PERPIGNAN', 'CASTRES',\n",
       "       'LOURDES', 'AGDE', 'TARBES', 'ALBI', 'SAINT-GELY-DU-FESC',\n",
       "       'SAINT-GAUDENS', 'SAINT-ESTEVE', 'SAZE', 'LATTES', 'MONTGISCARD',\n",
       "       'CORNEILHAN', 'SAINT-LAURENT-DES-ARBRES', 'LA CALMETTE', 'RODEZ',\n",
       "       'CAUNES-MINERVOIS', 'MENDE', 'CARCASSONNE', 'ROQUEREDONDE',\n",
       "       'VALLABREGUES'], dtype=object)"
      ]
     },
     "execution_count": 9,
     "metadata": {},
     "output_type": "execute_result"
    }
   ],
   "source": [
    "occ1.nom_com.unique()  "
   ]
  },
  {
   "cell_type": "markdown",
   "metadata": {},
   "source": [
    "We will only focus one Montpellier data."
   ]
  },
  {
   "cell_type": "code",
   "execution_count": 10,
   "metadata": {},
   "outputs": [],
   "source": [
    "df =occ1[occ1['nom_com']=='MONTPELLIER']"
   ]
  },
  {
   "cell_type": "markdown",
   "metadata": {},
   "source": [
    "We will only use NO2 data."
   ]
  },
  {
   "cell_type": "code",
   "execution_count": 11,
   "metadata": {},
   "outputs": [],
   "source": [
    "df =df[df['nom_poll']=='NO2']"
   ]
  },
  {
   "cell_type": "code",
   "execution_count": 12,
   "metadata": {},
   "outputs": [
    {
     "data": {
      "text/html": [
       "<div>\n",
       "<style scoped>\n",
       "    .dataframe tbody tr th:only-of-type {\n",
       "        vertical-align: middle;\n",
       "    }\n",
       "\n",
       "    .dataframe tbody tr th {\n",
       "        vertical-align: top;\n",
       "    }\n",
       "\n",
       "    .dataframe thead th {\n",
       "        text-align: right;\n",
       "    }\n",
       "</style>\n",
       "<table border=\"1\" class=\"dataframe\">\n",
       "  <thead>\n",
       "    <tr style=\"text-align: right;\">\n",
       "      <th></th>\n",
       "      <th>X</th>\n",
       "      <th>Y</th>\n",
       "      <th>nom_dept</th>\n",
       "      <th>nom_com</th>\n",
       "      <th>insee_com</th>\n",
       "      <th>nom_station</th>\n",
       "      <th>code_station</th>\n",
       "      <th>typologie</th>\n",
       "      <th>influence</th>\n",
       "      <th>nom_poll</th>\n",
       "      <th>...</th>\n",
       "      <th>valeur</th>\n",
       "      <th>unite</th>\n",
       "      <th>metrique</th>\n",
       "      <th>date_debut</th>\n",
       "      <th>date_fin</th>\n",
       "      <th>statut_valid</th>\n",
       "      <th>x_l93</th>\n",
       "      <th>y_l93</th>\n",
       "      <th>ObjectId</th>\n",
       "      <th>date</th>\n",
       "    </tr>\n",
       "  </thead>\n",
       "  <tbody>\n",
       "    <tr>\n",
       "      <td>0</td>\n",
       "      <td>3.87460</td>\n",
       "      <td>43.6050</td>\n",
       "      <td>HERAULT</td>\n",
       "      <td>MONTPELLIER</td>\n",
       "      <td>34172</td>\n",
       "      <td>Montpellier - Saint Denis Trafic</td>\n",
       "      <td>FR50202</td>\n",
       "      <td>Urbaine</td>\n",
       "      <td>Trafic</td>\n",
       "      <td>NO2</td>\n",
       "      <td>...</td>\n",
       "      <td>12.1</td>\n",
       "      <td>ug.m-3</td>\n",
       "      <td>journaliere</td>\n",
       "      <td>2020-01-19T01:00:00.000Z</td>\n",
       "      <td>2020-01-20T00:00:00.000Z</td>\n",
       "      <td>t</td>\n",
       "      <td>770633</td>\n",
       "      <td>6278830</td>\n",
       "      <td>5001</td>\n",
       "      <td>2020-01</td>\n",
       "    </tr>\n",
       "    <tr>\n",
       "      <td>40</td>\n",
       "      <td>3.87460</td>\n",
       "      <td>43.6050</td>\n",
       "      <td>HERAULT</td>\n",
       "      <td>MONTPELLIER</td>\n",
       "      <td>34172</td>\n",
       "      <td>Montpellier - Saint Denis Trafic</td>\n",
       "      <td>FR50202</td>\n",
       "      <td>Urbaine</td>\n",
       "      <td>Trafic</td>\n",
       "      <td>NO2</td>\n",
       "      <td>...</td>\n",
       "      <td>9.7</td>\n",
       "      <td>ug.m-3</td>\n",
       "      <td>journaliere</td>\n",
       "      <td>2020-04-11T01:00:00.000Z</td>\n",
       "      <td>2020-04-12T00:00:00.000Z</td>\n",
       "      <td>t</td>\n",
       "      <td>770633</td>\n",
       "      <td>6278830</td>\n",
       "      <td>5041</td>\n",
       "      <td>2020-04</td>\n",
       "    </tr>\n",
       "    <tr>\n",
       "      <td>56</td>\n",
       "      <td>3.86472</td>\n",
       "      <td>43.6117</td>\n",
       "      <td>HERAULT</td>\n",
       "      <td>MONTPELLIER</td>\n",
       "      <td>34172</td>\n",
       "      <td>Montpellier - Chaptal Urbain</td>\n",
       "      <td>FR50201</td>\n",
       "      <td>Urbaine</td>\n",
       "      <td>Fond</td>\n",
       "      <td>NO2</td>\n",
       "      <td>...</td>\n",
       "      <td>8.5</td>\n",
       "      <td>ug.m-3</td>\n",
       "      <td>journaliere</td>\n",
       "      <td>2020-04-11T01:00:00.000Z</td>\n",
       "      <td>2020-04-12T00:00:00.000Z</td>\n",
       "      <td>t</td>\n",
       "      <td>769827</td>\n",
       "      <td>6279565</td>\n",
       "      <td>5057</td>\n",
       "      <td>2020-04</td>\n",
       "    </tr>\n",
       "    <tr>\n",
       "      <td>169</td>\n",
       "      <td>3.88689</td>\n",
       "      <td>43.5915</td>\n",
       "      <td>HERAULT</td>\n",
       "      <td>MONTPELLIER</td>\n",
       "      <td>34172</td>\n",
       "      <td>Montpellier - Prés d Arènes Urbain</td>\n",
       "      <td>FR50200</td>\n",
       "      <td>Urbaine</td>\n",
       "      <td>Fond</td>\n",
       "      <td>NO2</td>\n",
       "      <td>...</td>\n",
       "      <td>14.6</td>\n",
       "      <td>ug.m-3</td>\n",
       "      <td>journaliere</td>\n",
       "      <td>2020-01-20T01:00:00.000Z</td>\n",
       "      <td>2020-01-21T00:00:00.000Z</td>\n",
       "      <td>t</td>\n",
       "      <td>771642</td>\n",
       "      <td>6277340</td>\n",
       "      <td>5170</td>\n",
       "      <td>2020-01</td>\n",
       "    </tr>\n",
       "    <tr>\n",
       "      <td>178</td>\n",
       "      <td>3.87460</td>\n",
       "      <td>43.6050</td>\n",
       "      <td>HERAULT</td>\n",
       "      <td>MONTPELLIER</td>\n",
       "      <td>34172</td>\n",
       "      <td>Montpellier - Saint Denis Trafic</td>\n",
       "      <td>FR50202</td>\n",
       "      <td>Urbaine</td>\n",
       "      <td>Trafic</td>\n",
       "      <td>NO2</td>\n",
       "      <td>...</td>\n",
       "      <td>19.6</td>\n",
       "      <td>ug.m-3</td>\n",
       "      <td>journaliere</td>\n",
       "      <td>2020-01-20T01:00:00.000Z</td>\n",
       "      <td>2020-01-21T00:00:00.000Z</td>\n",
       "      <td>t</td>\n",
       "      <td>770633</td>\n",
       "      <td>6278830</td>\n",
       "      <td>5179</td>\n",
       "      <td>2020-01</td>\n",
       "    </tr>\n",
       "  </tbody>\n",
       "</table>\n",
       "<p>5 rows × 21 columns</p>\n",
       "</div>"
      ],
      "text/plain": [
       "           X        Y nom_dept      nom_com  insee_com  \\\n",
       "0    3.87460  43.6050  HERAULT  MONTPELLIER      34172   \n",
       "40   3.87460  43.6050  HERAULT  MONTPELLIER      34172   \n",
       "56   3.86472  43.6117  HERAULT  MONTPELLIER      34172   \n",
       "169  3.88689  43.5915  HERAULT  MONTPELLIER      34172   \n",
       "178  3.87460  43.6050  HERAULT  MONTPELLIER      34172   \n",
       "\n",
       "                            nom_station code_station typologie influence  \\\n",
       "0      Montpellier - Saint Denis Trafic      FR50202   Urbaine    Trafic   \n",
       "40     Montpellier - Saint Denis Trafic      FR50202   Urbaine    Trafic   \n",
       "56         Montpellier - Chaptal Urbain      FR50201   Urbaine      Fond   \n",
       "169  Montpellier - Prés d Arènes Urbain      FR50200   Urbaine      Fond   \n",
       "178    Montpellier - Saint Denis Trafic      FR50202   Urbaine    Trafic   \n",
       "\n",
       "    nom_poll  ...  valeur   unite     metrique                date_debut  \\\n",
       "0        NO2  ...    12.1  ug.m-3  journaliere  2020-01-19T01:00:00.000Z   \n",
       "40       NO2  ...     9.7  ug.m-3  journaliere  2020-04-11T01:00:00.000Z   \n",
       "56       NO2  ...     8.5  ug.m-3  journaliere  2020-04-11T01:00:00.000Z   \n",
       "169      NO2  ...    14.6  ug.m-3  journaliere  2020-01-20T01:00:00.000Z   \n",
       "178      NO2  ...    19.6  ug.m-3  journaliere  2020-01-20T01:00:00.000Z   \n",
       "\n",
       "                     date_fin statut_valid   x_l93    y_l93  ObjectId     date  \n",
       "0    2020-01-20T00:00:00.000Z            t  770633  6278830      5001  2020-01  \n",
       "40   2020-04-12T00:00:00.000Z            t  770633  6278830      5041  2020-04  \n",
       "56   2020-04-12T00:00:00.000Z            t  769827  6279565      5057  2020-04  \n",
       "169  2020-01-21T00:00:00.000Z            t  771642  6277340      5170  2020-01  \n",
       "178  2020-01-21T00:00:00.000Z            t  770633  6278830      5179  2020-01  \n",
       "\n",
       "[5 rows x 21 columns]"
      ]
     },
     "execution_count": 12,
     "metadata": {},
     "output_type": "execute_result"
    }
   ],
   "source": [
    "df.head()"
   ]
  },
  {
   "cell_type": "markdown",
   "metadata": {},
   "source": [
    "We are going to insert a column of date in Montpellier data. So we can compare it with NO2 data of Paris 13e."
   ]
  },
  {
   "cell_type": "code",
   "execution_count": 13,
   "metadata": {},
   "outputs": [],
   "source": [
    "df['jour']=[str(x)[:10] for x in df['date_debut']]"
   ]
  },
  {
   "cell_type": "code",
   "execution_count": 14,
   "metadata": {},
   "outputs": [
    {
     "data": {
      "text/html": [
       "<div>\n",
       "<style scoped>\n",
       "    .dataframe tbody tr th:only-of-type {\n",
       "        vertical-align: middle;\n",
       "    }\n",
       "\n",
       "    .dataframe tbody tr th {\n",
       "        vertical-align: top;\n",
       "    }\n",
       "\n",
       "    .dataframe thead th {\n",
       "        text-align: right;\n",
       "    }\n",
       "</style>\n",
       "<table border=\"1\" class=\"dataframe\">\n",
       "  <thead>\n",
       "    <tr style=\"text-align: right;\">\n",
       "      <th></th>\n",
       "      <th>X</th>\n",
       "      <th>Y</th>\n",
       "      <th>nom_dept</th>\n",
       "      <th>nom_com</th>\n",
       "      <th>insee_com</th>\n",
       "      <th>nom_station</th>\n",
       "      <th>code_station</th>\n",
       "      <th>typologie</th>\n",
       "      <th>influence</th>\n",
       "      <th>nom_poll</th>\n",
       "      <th>...</th>\n",
       "      <th>unite</th>\n",
       "      <th>metrique</th>\n",
       "      <th>date_debut</th>\n",
       "      <th>date_fin</th>\n",
       "      <th>statut_valid</th>\n",
       "      <th>x_l93</th>\n",
       "      <th>y_l93</th>\n",
       "      <th>ObjectId</th>\n",
       "      <th>date</th>\n",
       "      <th>jour</th>\n",
       "    </tr>\n",
       "  </thead>\n",
       "  <tbody>\n",
       "    <tr>\n",
       "      <td>0</td>\n",
       "      <td>3.87460</td>\n",
       "      <td>43.6050</td>\n",
       "      <td>HERAULT</td>\n",
       "      <td>MONTPELLIER</td>\n",
       "      <td>34172</td>\n",
       "      <td>Montpellier - Saint Denis Trafic</td>\n",
       "      <td>FR50202</td>\n",
       "      <td>Urbaine</td>\n",
       "      <td>Trafic</td>\n",
       "      <td>NO2</td>\n",
       "      <td>...</td>\n",
       "      <td>ug.m-3</td>\n",
       "      <td>journaliere</td>\n",
       "      <td>2020-01-19T01:00:00.000Z</td>\n",
       "      <td>2020-01-20T00:00:00.000Z</td>\n",
       "      <td>t</td>\n",
       "      <td>770633</td>\n",
       "      <td>6278830</td>\n",
       "      <td>5001</td>\n",
       "      <td>2020-01</td>\n",
       "      <td>2020-01-19</td>\n",
       "    </tr>\n",
       "    <tr>\n",
       "      <td>40</td>\n",
       "      <td>3.87460</td>\n",
       "      <td>43.6050</td>\n",
       "      <td>HERAULT</td>\n",
       "      <td>MONTPELLIER</td>\n",
       "      <td>34172</td>\n",
       "      <td>Montpellier - Saint Denis Trafic</td>\n",
       "      <td>FR50202</td>\n",
       "      <td>Urbaine</td>\n",
       "      <td>Trafic</td>\n",
       "      <td>NO2</td>\n",
       "      <td>...</td>\n",
       "      <td>ug.m-3</td>\n",
       "      <td>journaliere</td>\n",
       "      <td>2020-04-11T01:00:00.000Z</td>\n",
       "      <td>2020-04-12T00:00:00.000Z</td>\n",
       "      <td>t</td>\n",
       "      <td>770633</td>\n",
       "      <td>6278830</td>\n",
       "      <td>5041</td>\n",
       "      <td>2020-04</td>\n",
       "      <td>2020-04-11</td>\n",
       "    </tr>\n",
       "    <tr>\n",
       "      <td>56</td>\n",
       "      <td>3.86472</td>\n",
       "      <td>43.6117</td>\n",
       "      <td>HERAULT</td>\n",
       "      <td>MONTPELLIER</td>\n",
       "      <td>34172</td>\n",
       "      <td>Montpellier - Chaptal Urbain</td>\n",
       "      <td>FR50201</td>\n",
       "      <td>Urbaine</td>\n",
       "      <td>Fond</td>\n",
       "      <td>NO2</td>\n",
       "      <td>...</td>\n",
       "      <td>ug.m-3</td>\n",
       "      <td>journaliere</td>\n",
       "      <td>2020-04-11T01:00:00.000Z</td>\n",
       "      <td>2020-04-12T00:00:00.000Z</td>\n",
       "      <td>t</td>\n",
       "      <td>769827</td>\n",
       "      <td>6279565</td>\n",
       "      <td>5057</td>\n",
       "      <td>2020-04</td>\n",
       "      <td>2020-04-11</td>\n",
       "    </tr>\n",
       "    <tr>\n",
       "      <td>169</td>\n",
       "      <td>3.88689</td>\n",
       "      <td>43.5915</td>\n",
       "      <td>HERAULT</td>\n",
       "      <td>MONTPELLIER</td>\n",
       "      <td>34172</td>\n",
       "      <td>Montpellier - Prés d Arènes Urbain</td>\n",
       "      <td>FR50200</td>\n",
       "      <td>Urbaine</td>\n",
       "      <td>Fond</td>\n",
       "      <td>NO2</td>\n",
       "      <td>...</td>\n",
       "      <td>ug.m-3</td>\n",
       "      <td>journaliere</td>\n",
       "      <td>2020-01-20T01:00:00.000Z</td>\n",
       "      <td>2020-01-21T00:00:00.000Z</td>\n",
       "      <td>t</td>\n",
       "      <td>771642</td>\n",
       "      <td>6277340</td>\n",
       "      <td>5170</td>\n",
       "      <td>2020-01</td>\n",
       "      <td>2020-01-20</td>\n",
       "    </tr>\n",
       "    <tr>\n",
       "      <td>178</td>\n",
       "      <td>3.87460</td>\n",
       "      <td>43.6050</td>\n",
       "      <td>HERAULT</td>\n",
       "      <td>MONTPELLIER</td>\n",
       "      <td>34172</td>\n",
       "      <td>Montpellier - Saint Denis Trafic</td>\n",
       "      <td>FR50202</td>\n",
       "      <td>Urbaine</td>\n",
       "      <td>Trafic</td>\n",
       "      <td>NO2</td>\n",
       "      <td>...</td>\n",
       "      <td>ug.m-3</td>\n",
       "      <td>journaliere</td>\n",
       "      <td>2020-01-20T01:00:00.000Z</td>\n",
       "      <td>2020-01-21T00:00:00.000Z</td>\n",
       "      <td>t</td>\n",
       "      <td>770633</td>\n",
       "      <td>6278830</td>\n",
       "      <td>5179</td>\n",
       "      <td>2020-01</td>\n",
       "      <td>2020-01-20</td>\n",
       "    </tr>\n",
       "  </tbody>\n",
       "</table>\n",
       "<p>5 rows × 22 columns</p>\n",
       "</div>"
      ],
      "text/plain": [
       "           X        Y nom_dept      nom_com  insee_com  \\\n",
       "0    3.87460  43.6050  HERAULT  MONTPELLIER      34172   \n",
       "40   3.87460  43.6050  HERAULT  MONTPELLIER      34172   \n",
       "56   3.86472  43.6117  HERAULT  MONTPELLIER      34172   \n",
       "169  3.88689  43.5915  HERAULT  MONTPELLIER      34172   \n",
       "178  3.87460  43.6050  HERAULT  MONTPELLIER      34172   \n",
       "\n",
       "                            nom_station code_station typologie influence  \\\n",
       "0      Montpellier - Saint Denis Trafic      FR50202   Urbaine    Trafic   \n",
       "40     Montpellier - Saint Denis Trafic      FR50202   Urbaine    Trafic   \n",
       "56         Montpellier - Chaptal Urbain      FR50201   Urbaine      Fond   \n",
       "169  Montpellier - Prés d Arènes Urbain      FR50200   Urbaine      Fond   \n",
       "178    Montpellier - Saint Denis Trafic      FR50202   Urbaine    Trafic   \n",
       "\n",
       "    nom_poll  ...   unite     metrique                date_debut  \\\n",
       "0        NO2  ...  ug.m-3  journaliere  2020-01-19T01:00:00.000Z   \n",
       "40       NO2  ...  ug.m-3  journaliere  2020-04-11T01:00:00.000Z   \n",
       "56       NO2  ...  ug.m-3  journaliere  2020-04-11T01:00:00.000Z   \n",
       "169      NO2  ...  ug.m-3  journaliere  2020-01-20T01:00:00.000Z   \n",
       "178      NO2  ...  ug.m-3  journaliere  2020-01-20T01:00:00.000Z   \n",
       "\n",
       "                     date_fin statut_valid   x_l93    y_l93  ObjectId  \\\n",
       "0    2020-01-20T00:00:00.000Z            t  770633  6278830      5001   \n",
       "40   2020-04-12T00:00:00.000Z            t  770633  6278830      5041   \n",
       "56   2020-04-12T00:00:00.000Z            t  769827  6279565      5057   \n",
       "169  2020-01-21T00:00:00.000Z            t  771642  6277340      5170   \n",
       "178  2020-01-21T00:00:00.000Z            t  770633  6278830      5179   \n",
       "\n",
       "        date        jour  \n",
       "0    2020-01  2020-01-19  \n",
       "40   2020-04  2020-04-11  \n",
       "56   2020-04  2020-04-11  \n",
       "169  2020-01  2020-01-20  \n",
       "178  2020-01  2020-01-20  \n",
       "\n",
       "[5 rows x 22 columns]"
      ]
     },
     "execution_count": 14,
     "metadata": {},
     "output_type": "execute_result"
    }
   ],
   "source": [
    "df.head()"
   ]
  },
  {
   "cell_type": "markdown",
   "metadata": {},
   "source": [
    "As we did it for Paris 13e we are  going to evaluate the mean of NO2 for Montpellier."
   ]
  },
  {
   "cell_type": "code",
   "execution_count": 15,
   "metadata": {},
   "outputs": [],
   "source": [
    "occ_Montpellier = df.groupby('jour').agg({'valeur':'mean'})"
   ]
  },
  {
   "cell_type": "code",
   "execution_count": 16,
   "metadata": {},
   "outputs": [
    {
     "data": {
      "text/html": [
       "<div>\n",
       "<style scoped>\n",
       "    .dataframe tbody tr th:only-of-type {\n",
       "        vertical-align: middle;\n",
       "    }\n",
       "\n",
       "    .dataframe tbody tr th {\n",
       "        vertical-align: top;\n",
       "    }\n",
       "\n",
       "    .dataframe thead th {\n",
       "        text-align: right;\n",
       "    }\n",
       "</style>\n",
       "<table border=\"1\" class=\"dataframe\">\n",
       "  <thead>\n",
       "    <tr style=\"text-align: right;\">\n",
       "      <th></th>\n",
       "      <th>valeur</th>\n",
       "    </tr>\n",
       "    <tr>\n",
       "      <th>jour</th>\n",
       "      <th></th>\n",
       "    </tr>\n",
       "  </thead>\n",
       "  <tbody>\n",
       "    <tr>\n",
       "      <td>2019-04-21</td>\n",
       "      <td>16.625</td>\n",
       "    </tr>\n",
       "    <tr>\n",
       "      <td>2019-04-22</td>\n",
       "      <td>15.775</td>\n",
       "    </tr>\n",
       "    <tr>\n",
       "      <td>2019-04-23</td>\n",
       "      <td>27.275</td>\n",
       "    </tr>\n",
       "    <tr>\n",
       "      <td>2019-04-24</td>\n",
       "      <td>15.650</td>\n",
       "    </tr>\n",
       "    <tr>\n",
       "      <td>2019-04-25</td>\n",
       "      <td>15.350</td>\n",
       "    </tr>\n",
       "  </tbody>\n",
       "</table>\n",
       "</div>"
      ],
      "text/plain": [
       "            valeur\n",
       "jour              \n",
       "2019-04-21  16.625\n",
       "2019-04-22  15.775\n",
       "2019-04-23  27.275\n",
       "2019-04-24  15.650\n",
       "2019-04-25  15.350"
      ]
     },
     "execution_count": 16,
     "metadata": {},
     "output_type": "execute_result"
    }
   ],
   "source": [
    "occ_Montpellier.head()"
   ]
  },
  {
   "cell_type": "code",
   "execution_count": 17,
   "metadata": {},
   "outputs": [],
   "source": [
    "occ_Montpellier.columns=['NO2']"
   ]
  },
  {
   "cell_type": "code",
   "execution_count": 18,
   "metadata": {},
   "outputs": [
    {
     "data": {
      "text/html": [
       "<div>\n",
       "<style scoped>\n",
       "    .dataframe tbody tr th:only-of-type {\n",
       "        vertical-align: middle;\n",
       "    }\n",
       "\n",
       "    .dataframe tbody tr th {\n",
       "        vertical-align: top;\n",
       "    }\n",
       "\n",
       "    .dataframe thead th {\n",
       "        text-align: right;\n",
       "    }\n",
       "</style>\n",
       "<table border=\"1\" class=\"dataframe\">\n",
       "  <thead>\n",
       "    <tr style=\"text-align: right;\">\n",
       "      <th></th>\n",
       "      <th>NO2</th>\n",
       "    </tr>\n",
       "    <tr>\n",
       "      <th>jour</th>\n",
       "      <th></th>\n",
       "    </tr>\n",
       "  </thead>\n",
       "  <tbody>\n",
       "    <tr>\n",
       "      <td>2019-04-21</td>\n",
       "      <td>16.625</td>\n",
       "    </tr>\n",
       "    <tr>\n",
       "      <td>2019-04-22</td>\n",
       "      <td>15.775</td>\n",
       "    </tr>\n",
       "    <tr>\n",
       "      <td>2019-04-23</td>\n",
       "      <td>27.275</td>\n",
       "    </tr>\n",
       "    <tr>\n",
       "      <td>2019-04-24</td>\n",
       "      <td>15.650</td>\n",
       "    </tr>\n",
       "    <tr>\n",
       "      <td>2019-04-25</td>\n",
       "      <td>15.350</td>\n",
       "    </tr>\n",
       "  </tbody>\n",
       "</table>\n",
       "</div>"
      ],
      "text/plain": [
       "               NO2\n",
       "jour              \n",
       "2019-04-21  16.625\n",
       "2019-04-22  15.775\n",
       "2019-04-23  27.275\n",
       "2019-04-24  15.650\n",
       "2019-04-25  15.350"
      ]
     },
     "execution_count": 18,
     "metadata": {},
     "output_type": "execute_result"
    }
   ],
   "source": [
    "occ_Montpellier.head()"
   ]
  },
  {
   "cell_type": "markdown",
   "metadata": {},
   "source": [
    "We can now make the graphics."
   ]
  },
  {
   "cell_type": "code",
   "execution_count": 19,
   "metadata": {},
   "outputs": [
    {
     "data": {
      "image/png": "[encoded data removed]",
      "text/plain": [
       "<Figure size 432x288 with 1 Axes>"
      ]
     },
     "metadata": {
      "needs_background": "light"
     },
     "output_type": "display_data"
    },
    {
     "data": {
      "text/plain": [
       "<matplotlib.axes._subplots.AxesSubplot at 0x271a8be0a48>"
      ]
     },
     "execution_count": 19,
     "metadata": {},
     "output_type": "execute_result"
    },
    {
     "data": {
      "image/png": "[encoded data removed]",
      "text/plain": [
       "<Figure size 432x288 with 1 Axes>"
      ]
     },
     "metadata": {
      "needs_background": "light"
     },
     "output_type": "display_data"
    }
   ],
   "source": [
    "import datetime \n",
    "from datetime import datetime\n",
    "occ_PARIS13['date'] = occ_PARIS13.index\n",
    "occ_PARIS13['date'] = [ datetime.strptime(t, '%d/%m/%Y') for t in occ_PARIS13['date'].astype('str')]\n",
    "occ_PARIS13['ville'] = 'Paris_13'\n",
    "occ_PARIS13 = occ_PARIS13[['date', 'ville', 'NO2']]\n",
    "occ_PARIS13\n",
    "\n",
    "occ_Montpellier['date'] = occ_Montpellier.index\n",
    "occ_Montpellier['date'] = [ datetime.strptime(t, '%Y-%m-%d') for t in occ_Montpellier['date'].astype('str')]\n",
    "occ_Montpellier['ville'] = 'Montpellier'\n",
    "occ_Montpellier = occ_Montpellier[['date', 'ville', 'NO2']]\n",
    "\n",
    "\n",
    "df_final = pd.concat([occ_PARIS13, occ_Montpellier])\n",
    "df_final = df_final.sort_values('date')\n",
    "import matplotlib.pyplot as plt\n",
    "\n",
    "# Line plot\n",
    "ax = plt.gca()\n",
    "df_final[df_final['ville'] == \"Paris_13\"].plot(kind='line',x='date',y='NO2',ax=ax, color = 'blue', label = 'Paris 13')\n",
    "df_final[df_final['ville'] == \"Montpellier\"].plot(kind='line',x='date',y='NO2', color='red', ax=ax, label = 'Montpellier')\n",
    "plt.show()\n",
    "\n",
    "## Boxplot\n",
    "df_final.boxplot('NO2', by = 'ville')\n"
   ]
  },
  {
   "cell_type": "markdown",
   "metadata": {},
   "source": [
    "In figure 1, the level of NO2 is as important as in Paris 13e that in Montpellier.\n",
    "\n",
    "In figure 2, we notice the same situation.\n",
    "\n",
    "So we going to examinate if there is not any caracter that can differenciate  them."
   ]
  },
  {
   "cell_type": "code",
   "execution_count": 20,
   "metadata": {},
   "outputs": [],
   "source": [
    "results = ols('NO2 ~ ville', data=df_final).fit()"
   ]
  },
  {
   "cell_type": "code",
   "execution_count": 21,
   "metadata": {},
   "outputs": [
    {
     "data": {
      "text/html": [
       "<div>\n",
       "<style scoped>\n",
       "    .dataframe tbody tr th:only-of-type {\n",
       "        vertical-align: middle;\n",
       "    }\n",
       "\n",
       "    .dataframe tbody tr th {\n",
       "        vertical-align: top;\n",
       "    }\n",
       "\n",
       "    .dataframe thead th {\n",
       "        text-align: right;\n",
       "    }\n",
       "</style>\n",
       "<table border=\"1\" class=\"dataframe\">\n",
       "  <thead>\n",
       "    <tr style=\"text-align: right;\">\n",
       "      <th></th>\n",
       "      <th>sum_sq</th>\n",
       "      <th>df</th>\n",
       "      <th>F</th>\n",
       "      <th>PR(&gt;F)</th>\n",
       "    </tr>\n",
       "  </thead>\n",
       "  <tbody>\n",
       "    <tr>\n",
       "      <td>ville</td>\n",
       "      <td>36.290375</td>\n",
       "      <td>1.0</td>\n",
       "      <td>0.356588</td>\n",
       "      <td>0.550594</td>\n",
       "    </tr>\n",
       "    <tr>\n",
       "      <td>Residual</td>\n",
       "      <td>73784.027437</td>\n",
       "      <td>725.0</td>\n",
       "      <td>NaN</td>\n",
       "      <td>NaN</td>\n",
       "    </tr>\n",
       "  </tbody>\n",
       "</table>\n",
       "</div>"
      ],
      "text/plain": [
       "                sum_sq     df         F    PR(>F)\n",
       "ville        36.290375    1.0  0.356588  0.550594\n",
       "Residual  73784.027437  725.0       NaN       NaN"
      ]
     },
     "execution_count": 21,
     "metadata": {},
     "output_type": "execute_result"
    }
   ],
   "source": [
    "aov_table = sm.stats.anova_lm(results, typ=2)\n",
    "aov_table"
   ]
  },
  {
   "cell_type": "markdown",
   "metadata": {},
   "source": [
    "We find that the  PR(>F) is 55% of NO2 pollution. it is not significant if we  take the two cities."
   ]
  },
  {
   "cell_type": "code",
   "execution_count": 22,
   "metadata": {},
   "outputs": [
    {
     "data": {
      "text/plain": [
       "<PeriodArray>\n",
       "['2020-01', '2020-04', '2020-02', '2020-03', '2019-05', '2019-12', '2019-09',\n",
       " '2019-07', '2019-08', '2019-10', '2019-11', '2019-06', '2019-04']\n",
       "Length: 13, dtype: period[M]"
      ]
     },
     "execution_count": 22,
     "metadata": {},
     "output_type": "execute_result"
    }
   ],
   "source": [
    "df.date.unique()"
   ]
  },
  {
   "cell_type": "code",
   "execution_count": 23,
   "metadata": {},
   "outputs": [],
   "source": [
    "mont = df[df['nom_com'] == 'MONTPELLIER']"
   ]
  },
  {
   "cell_type": "code",
   "execution_count": 24,
   "metadata": {},
   "outputs": [],
   "source": [
    "mont = mont[mont.date == '2020-04']"
   ]
  },
  {
   "cell_type": "code",
   "execution_count": 25,
   "metadata": {},
   "outputs": [
    {
     "data": {
      "text/plain": [
       "array(['FR50202', 'FR50201', 'FR50203', 'FR50200'], dtype=object)"
      ]
     },
     "execution_count": 25,
     "metadata": {},
     "output_type": "execute_result"
    }
   ],
   "source": [
    "mont.code_station.unique()"
   ]
  },
  {
   "cell_type": "code",
   "execution_count": null,
   "metadata": {},
   "outputs": [],
   "source": []
  },
  {
   "cell_type": "code",
   "execution_count": null,
   "metadata": {},
   "outputs": [],
   "source": []
  }
 ],
 "metadata": {
  "kernelspec": {
   "display_name": "Python 3",
   "language": "python",
   "name": "python3"
  },
  "language_info": {
   "codemirror_mode": {
    "name": "ipython",
    "version": 3
   },
   "file_extension": ".py",
   "mimetype": "text/x-python",
   "name": "python",
   "nbconvert_exporter": "python",
   "pygments_lexer": "ipython3",
   "version": "3.7.4"
  }
 },
 "nbformat": 4,
 "nbformat_minor": 2
}
