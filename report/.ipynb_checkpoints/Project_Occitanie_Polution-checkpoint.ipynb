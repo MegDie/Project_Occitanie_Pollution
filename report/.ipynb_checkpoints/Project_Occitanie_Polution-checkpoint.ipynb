{
 "cells": [
  {
   "cell_type": "markdown",
   "metadata": {},
   "source": [
    "# Development of a Widget"
   ]
  },
  {
   "cell_type": "code",
   "execution_count": 1,
   "metadata": {},
   "outputs": [],
   "source": [
    "import pandas as pd\n",
    "import numpy as np\n",
    "import matplotlib.pyplot as plt\n",
    "import seaborn as sns\n",
    "from ipywidgets import interact  # widget manipulation"
   ]
  },
  {
   "cell_type": "markdown",
   "metadata": {},
   "source": [
    "## 1)  Data importation:\n"
   ]
  },
  {
   "cell_type": "code",
   "execution_count": 2,
   "metadata": {},
   "outputs": [
    {
     "name": "stdout",
     "output_type": "stream",
     "text": [
      "Replace is False and data exists, so doing nothing. Use replace==True to re-download the data.\n"
     ]
    },
    {
     "data": {
      "text/plain": [
       "'datasets/Mesure_journaliere_Region_Occitanie_Polluants_Principaux.csv'"
      ]
     },
     "execution_count": 2,
     "metadata": {},
     "output_type": "execute_result"
    }
   ],
   "source": [
    "from download import download\n",
    "\n",
    "# We choose daily data\n",
    "url = \"https://opendata.arcgis.com/datasets/2ab16a5fb61f42c1a689fd9cc466383f_0.csv\"\n",
    "path_target = \"datasets/Mesure_journaliere_Region_Occitanie_Polluants_Principaux.csv\"\n",
    "download(url, path_target, replace=False)"
   ]
  },
  {
   "cell_type": "code",
   "execution_count": 3,
   "metadata": {},
   "outputs": [
    {
     "data": {
      "text/html": [
       "<div>\n",
       "<style scoped>\n",
       "    .dataframe tbody tr th:only-of-type {\n",
       "        vertical-align: middle;\n",
       "    }\n",
       "\n",
       "    .dataframe tbody tr th {\n",
       "        vertical-align: top;\n",
       "    }\n",
       "\n",
       "    .dataframe thead th {\n",
       "        text-align: right;\n",
       "    }\n",
       "</style>\n",
       "<table border=\"1\" class=\"dataframe\">\n",
       "  <thead>\n",
       "    <tr style=\"text-align: right;\">\n",
       "      <th></th>\n",
       "      <th>X</th>\n",
       "      <th>Y</th>\n",
       "      <th>nom_dept</th>\n",
       "      <th>nom_com</th>\n",
       "      <th>insee_com</th>\n",
       "      <th>nom_station</th>\n",
       "      <th>code_station</th>\n",
       "      <th>typologie</th>\n",
       "      <th>influence</th>\n",
       "      <th>nom_poll</th>\n",
       "      <th>id_poll_ue</th>\n",
       "      <th>valeur</th>\n",
       "      <th>unite</th>\n",
       "      <th>metrique</th>\n",
       "      <th>date_debut</th>\n",
       "      <th>date_fin</th>\n",
       "      <th>statut_valid</th>\n",
       "      <th>x_l93</th>\n",
       "      <th>y_l93</th>\n",
       "      <th>ObjectId</th>\n",
       "    </tr>\n",
       "  </thead>\n",
       "  <tbody>\n",
       "    <tr>\n",
       "      <td>0</td>\n",
       "      <td>0.179722</td>\n",
       "      <td>43.6303</td>\n",
       "      <td>GERS</td>\n",
       "      <td>PEYRUSSE-VIEILLE</td>\n",
       "      <td>32317</td>\n",
       "      <td>Peyrusse Vieille Rural</td>\n",
       "      <td>FR50020</td>\n",
       "      <td>Rurale Nationale</td>\n",
       "      <td>Fond</td>\n",
       "      <td>PM10</td>\n",
       "      <td>5</td>\n",
       "      <td>15.9</td>\n",
       "      <td>ug.m-3</td>\n",
       "      <td>journaliere</td>\n",
       "      <td>2019-12-27T01:00:00.000Z</td>\n",
       "      <td>2019-12-28T00:00:00.000Z</td>\n",
       "      <td>t</td>\n",
       "      <td>472377</td>\n",
       "      <td>6285316</td>\n",
       "      <td>1</td>\n",
       "    </tr>\n",
       "    <tr>\n",
       "      <td>1</td>\n",
       "      <td>3.898610</td>\n",
       "      <td>43.6100</td>\n",
       "      <td>HERAULT</td>\n",
       "      <td>MONTPELLIER</td>\n",
       "      <td>34172</td>\n",
       "      <td>Montpellier - Pompignane Trafic</td>\n",
       "      <td>FR50203</td>\n",
       "      <td>Urbaine</td>\n",
       "      <td>Trafic</td>\n",
       "      <td>PM10</td>\n",
       "      <td>5</td>\n",
       "      <td>16.0</td>\n",
       "      <td>ug.m-3</td>\n",
       "      <td>journaliere</td>\n",
       "      <td>2019-12-27T01:00:00.000Z</td>\n",
       "      <td>2019-12-28T00:00:00.000Z</td>\n",
       "      <td>t</td>\n",
       "      <td>772566</td>\n",
       "      <td>6279407</td>\n",
       "      <td>2</td>\n",
       "    </tr>\n",
       "    <tr>\n",
       "      <td>2</td>\n",
       "      <td>3.503030</td>\n",
       "      <td>44.5220</td>\n",
       "      <td>LOZERE</td>\n",
       "      <td>MENDE</td>\n",
       "      <td>48095</td>\n",
       "      <td>Mende - Vernede urbain</td>\n",
       "      <td>FR50801</td>\n",
       "      <td>Urbaine</td>\n",
       "      <td>Fond</td>\n",
       "      <td>PM10</td>\n",
       "      <td>5</td>\n",
       "      <td>15.9</td>\n",
       "      <td>ug.m-3</td>\n",
       "      <td>journaliere</td>\n",
       "      <td>2019-12-27T01:00:00.000Z</td>\n",
       "      <td>2019-12-28T00:00:00.000Z</td>\n",
       "      <td>t</td>\n",
       "      <td>739976</td>\n",
       "      <td>6380453</td>\n",
       "      <td>3</td>\n",
       "    </tr>\n",
       "    <tr>\n",
       "      <td>3</td>\n",
       "      <td>3.503030</td>\n",
       "      <td>44.5220</td>\n",
       "      <td>LOZERE</td>\n",
       "      <td>MENDE</td>\n",
       "      <td>48095</td>\n",
       "      <td>Mende - Vernede urbain</td>\n",
       "      <td>FR50801</td>\n",
       "      <td>Urbaine</td>\n",
       "      <td>Fond</td>\n",
       "      <td>NOX as NO2</td>\n",
       "      <td>9</td>\n",
       "      <td>27.6</td>\n",
       "      <td>ug.m-3</td>\n",
       "      <td>journaliere</td>\n",
       "      <td>2019-12-27T01:00:00.000Z</td>\n",
       "      <td>2019-12-28T00:00:00.000Z</td>\n",
       "      <td>t</td>\n",
       "      <td>739976</td>\n",
       "      <td>6380453</td>\n",
       "      <td>4</td>\n",
       "    </tr>\n",
       "    <tr>\n",
       "      <td>4</td>\n",
       "      <td>3.503030</td>\n",
       "      <td>44.5220</td>\n",
       "      <td>LOZERE</td>\n",
       "      <td>MENDE</td>\n",
       "      <td>48095</td>\n",
       "      <td>Mende - Vernede urbain</td>\n",
       "      <td>FR50801</td>\n",
       "      <td>Urbaine</td>\n",
       "      <td>Fond</td>\n",
       "      <td>O3</td>\n",
       "      <td>7</td>\n",
       "      <td>34.2</td>\n",
       "      <td>ug.m-3</td>\n",
       "      <td>journaliere</td>\n",
       "      <td>2019-12-27T01:00:00.000Z</td>\n",
       "      <td>2019-12-28T00:00:00.000Z</td>\n",
       "      <td>t</td>\n",
       "      <td>739976</td>\n",
       "      <td>6380453</td>\n",
       "      <td>5</td>\n",
       "    </tr>\n",
       "  </tbody>\n",
       "</table>\n",
       "</div>"
      ],
      "text/plain": [
       "          X        Y nom_dept           nom_com  insee_com  \\\n",
       "0  0.179722  43.6303     GERS  PEYRUSSE-VIEILLE      32317   \n",
       "1  3.898610  43.6100  HERAULT       MONTPELLIER      34172   \n",
       "2  3.503030  44.5220   LOZERE             MENDE      48095   \n",
       "3  3.503030  44.5220   LOZERE             MENDE      48095   \n",
       "4  3.503030  44.5220   LOZERE             MENDE      48095   \n",
       "\n",
       "                       nom_station code_station         typologie influence  \\\n",
       "0           Peyrusse Vieille Rural      FR50020  Rurale Nationale      Fond   \n",
       "1  Montpellier - Pompignane Trafic      FR50203           Urbaine    Trafic   \n",
       "2           Mende - Vernede urbain      FR50801           Urbaine      Fond   \n",
       "3           Mende - Vernede urbain      FR50801           Urbaine      Fond   \n",
       "4           Mende - Vernede urbain      FR50801           Urbaine      Fond   \n",
       "\n",
       "     nom_poll  id_poll_ue  valeur   unite     metrique  \\\n",
       "0        PM10           5    15.9  ug.m-3  journaliere   \n",
       "1        PM10           5    16.0  ug.m-3  journaliere   \n",
       "2        PM10           5    15.9  ug.m-3  journaliere   \n",
       "3  NOX as NO2           9    27.6  ug.m-3  journaliere   \n",
       "4          O3           7    34.2  ug.m-3  journaliere   \n",
       "\n",
       "                 date_debut                  date_fin statut_valid   x_l93  \\\n",
       "0  2019-12-27T01:00:00.000Z  2019-12-28T00:00:00.000Z            t  472377   \n",
       "1  2019-12-27T01:00:00.000Z  2019-12-28T00:00:00.000Z            t  772566   \n",
       "2  2019-12-27T01:00:00.000Z  2019-12-28T00:00:00.000Z            t  739976   \n",
       "3  2019-12-27T01:00:00.000Z  2019-12-28T00:00:00.000Z            t  739976   \n",
       "4  2019-12-27T01:00:00.000Z  2019-12-28T00:00:00.000Z            t  739976   \n",
       "\n",
       "     y_l93  ObjectId  \n",
       "0  6285316         1  \n",
       "1  6279407         2  \n",
       "2  6380453         3  \n",
       "3  6380453         4  \n",
       "4  6380453         5  "
      ]
     },
     "execution_count": 3,
     "metadata": {},
     "output_type": "execute_result"
    }
   ],
   "source": [
    "occ = pd.read_csv(path_target)\n",
    "# all data of Occitanie\n",
    "\n",
    "occ.head(n=5) # simpliest way too watch data"
   ]
  },
  {
   "cell_type": "code",
   "execution_count": 4,
   "metadata": {},
   "outputs": [
    {
     "name": "stderr",
     "output_type": "stream",
     "text": [
      "C:\\Users\\megan\\Anaconda3\\lib\\site-packages\\pandas\\core\\arrays\\datetimes.py:1269: UserWarning: Converting to PeriodArray/Index representation will drop timezone information.\n",
      "  UserWarning,\n"
     ]
    }
   ],
   "source": [
    "occ['date'] = pd.to_datetime(occ['date_debut']).dt.to_period('M')\n",
    "\n",
    "\n",
    "#https://pandas.pydata.org/pandas-docs/stable/reference/api/pandas.Series.dt.to_period.html\n",
    "#https://pandas.pydata.org/pandas-docs/stable/reference/api/pandas.to_datetime.html"
   ]
  },
  {
   "cell_type": "markdown",
   "metadata": {},
   "source": [
    "## 2) Data treatment"
   ]
  },
  {
   "cell_type": "markdown",
   "metadata": {},
   "source": [
    "*Problématique*: pour certaines dates, certaines villes n'ont pas de données"
   ]
  },
  {
   "cell_type": "markdown",
   "metadata": {},
   "source": [
    "Description des variables: \n",
    "\n",
    "   + X et Y : lattitude, longitude\n",
    "   + nom_dept : nom du département\n",
    "   + nom_com : nom de la commune\n",
    "   + insee_com: numéro commune par INSEE\n",
    "   + nom_station : station qui récolte les données\n",
    "   + code_station : code de la station\n",
    "   + typologie : type de zone\n",
    "   + influence : ce qui peut influencer la pollution \n",
    "   + nom_poll : nom du polluant\n",
    "   + id_poll_ue : identifiant du polluant \n",
    "   + valeur : valeur mesurée du polluant\n",
    "   + unite : unité\n",
    "   + date_debut: année/mois/jour/heure\n",
    "   + date_fin: idem\n",
    "   + status_valid : ? \n",
    "   + x_l93 : ?\n",
    "   + y_l93 : ?\n",
    "   + objectld : ?"
   ]
  },
  {
   "cell_type": "code",
   "execution_count": 5,
   "metadata": {},
   "outputs": [
    {
     "data": {
      "text/html": [
       "<div>\n",
       "<style scoped>\n",
       "    .dataframe tbody tr th:only-of-type {\n",
       "        vertical-align: middle;\n",
       "    }\n",
       "\n",
       "    .dataframe tbody tr th {\n",
       "        vertical-align: top;\n",
       "    }\n",
       "\n",
       "    .dataframe thead th {\n",
       "        text-align: right;\n",
       "    }\n",
       "</style>\n",
       "<table border=\"1\" class=\"dataframe\">\n",
       "  <thead>\n",
       "    <tr style=\"text-align: right;\">\n",
       "      <th></th>\n",
       "      <th>X</th>\n",
       "      <th>Y</th>\n",
       "      <th>insee_com</th>\n",
       "      <th>id_poll_ue</th>\n",
       "      <th>valeur</th>\n",
       "      <th>x_l93</th>\n",
       "      <th>y_l93</th>\n",
       "      <th>ObjectId</th>\n",
       "    </tr>\n",
       "  </thead>\n",
       "  <tbody>\n",
       "    <tr>\n",
       "      <td>count</td>\n",
       "      <td>55418.000000</td>\n",
       "      <td>55418.000000</td>\n",
       "      <td>55418.000000</td>\n",
       "      <td>55418.000000</td>\n",
       "      <td>55418.000000</td>\n",
       "      <td>55418.000000</td>\n",
       "      <td>5.541800e+04</td>\n",
       "      <td>55418.000000</td>\n",
       "    </tr>\n",
       "    <tr>\n",
       "      <td>mean</td>\n",
       "      <td>2.214940</td>\n",
       "      <td>43.558847</td>\n",
       "      <td>40395.497185</td>\n",
       "      <td>531.017142</td>\n",
       "      <td>25.149766</td>\n",
       "      <td>636256.061659</td>\n",
       "      <td>6.274635e+06</td>\n",
       "      <td>27709.500000</td>\n",
       "    </tr>\n",
       "    <tr>\n",
       "      <td>std</td>\n",
       "      <td>1.408016</td>\n",
       "      <td>0.436324</td>\n",
       "      <td>17263.088822</td>\n",
       "      <td>1683.721116</td>\n",
       "      <td>30.478453</td>\n",
       "      <td>113980.829780</td>\n",
       "      <td>4.812721e+04</td>\n",
       "      <td>15997.942946</td>\n",
       "    </tr>\n",
       "    <tr>\n",
       "      <td>min</td>\n",
       "      <td>-0.051944</td>\n",
       "      <td>42.684000</td>\n",
       "      <td>9225.000000</td>\n",
       "      <td>1.000000</td>\n",
       "      <td>-25.200000</td>\n",
       "      <td>451389.000000</td>\n",
       "      <td>6.176047e+06</td>\n",
       "      <td>1.000000</td>\n",
       "    </tr>\n",
       "    <tr>\n",
       "      <td>25%</td>\n",
       "      <td>1.376000</td>\n",
       "      <td>43.230300</td>\n",
       "      <td>31483.000000</td>\n",
       "      <td>7.000000</td>\n",
       "      <td>6.300000</td>\n",
       "      <td>568918.000000</td>\n",
       "      <td>6.241231e+06</td>\n",
       "      <td>13855.250000</td>\n",
       "    </tr>\n",
       "    <tr>\n",
       "      <td>50%</td>\n",
       "      <td>1.845730</td>\n",
       "      <td>43.610000</td>\n",
       "      <td>32317.000000</td>\n",
       "      <td>8.000000</td>\n",
       "      <td>13.700000</td>\n",
       "      <td>608927.000000</td>\n",
       "      <td>6.279364e+06</td>\n",
       "      <td>27709.500000</td>\n",
       "    </tr>\n",
       "    <tr>\n",
       "      <td>75%</td>\n",
       "      <td>3.504830</td>\n",
       "      <td>43.675800</td>\n",
       "      <td>48095.000000</td>\n",
       "      <td>38.000000</td>\n",
       "      <td>32.700000</td>\n",
       "      <td>740996.000000</td>\n",
       "      <td>6.286912e+06</td>\n",
       "      <td>41563.750000</td>\n",
       "    </tr>\n",
       "    <tr>\n",
       "      <td>max</td>\n",
       "      <td>4.697360</td>\n",
       "      <td>44.925400</td>\n",
       "      <td>81065.000000</td>\n",
       "      <td>6001.000000</td>\n",
       "      <td>815.600000</td>\n",
       "      <td>836000.000000</td>\n",
       "      <td>6.425805e+06</td>\n",
       "      <td>55418.000000</td>\n",
       "    </tr>\n",
       "  </tbody>\n",
       "</table>\n",
       "</div>"
      ],
      "text/plain": [
       "                  X             Y     insee_com    id_poll_ue        valeur  \\\n",
       "count  55418.000000  55418.000000  55418.000000  55418.000000  55418.000000   \n",
       "mean       2.214940     43.558847  40395.497185    531.017142     25.149766   \n",
       "std        1.408016      0.436324  17263.088822   1683.721116     30.478453   \n",
       "min       -0.051944     42.684000   9225.000000      1.000000    -25.200000   \n",
       "25%        1.376000     43.230300  31483.000000      7.000000      6.300000   \n",
       "50%        1.845730     43.610000  32317.000000      8.000000     13.700000   \n",
       "75%        3.504830     43.675800  48095.000000     38.000000     32.700000   \n",
       "max        4.697360     44.925400  81065.000000   6001.000000    815.600000   \n",
       "\n",
       "               x_l93         y_l93      ObjectId  \n",
       "count   55418.000000  5.541800e+04  55418.000000  \n",
       "mean   636256.061659  6.274635e+06  27709.500000  \n",
       "std    113980.829780  4.812721e+04  15997.942946  \n",
       "min    451389.000000  6.176047e+06      1.000000  \n",
       "25%    568918.000000  6.241231e+06  13855.250000  \n",
       "50%    608927.000000  6.279364e+06  27709.500000  \n",
       "75%    740996.000000  6.286912e+06  41563.750000  \n",
       "max    836000.000000  6.425805e+06  55418.000000  "
      ]
     },
     "execution_count": 5,
     "metadata": {},
     "output_type": "execute_result"
    }
   ],
   "source": [
    "# variables description : do not forget that it's a possibility\n",
    "occ.describe()"
   ]
  },
  {
   "cell_type": "code",
   "execution_count": 6,
   "metadata": {},
   "outputs": [
    {
     "data": {
      "text/plain": [
       "array(['PEYRUSSE-VIEILLE', 'MONTPELLIER', 'MENDE', 'PERPIGNAN', 'ALBI',\n",
       "       'TOULOUSE', 'AGDE', 'SAZE', 'SAINT-GELY-DU-FESC', 'LOURDES',\n",
       "       'CASTRES', 'TARBES', 'NIMES', 'LA CALMETTE', 'LUNEL-VIEL',\n",
       "       'MIRAMONT-DE-COMMINGES', 'SAINT-GAUDENS', 'MONTGISCARD',\n",
       "       'BELESTA-EN-LAURAGAIS', 'LATTES', 'SAINT-ESTEVE', 'BLAGNAC',\n",
       "       'CORNEILHAN', 'BIARS-SUR-CERE', 'SAINT-LAURENT-DES-ARBRES',\n",
       "       'RODEZ', 'CARCASSONNE', 'CAUNES-MINERVOIS', 'BESSIERES',\n",
       "       'VALLABREGUES', 'ROQUEREDONDE', 'PAMIERS'], dtype=object)"
      ]
     },
     "execution_count": 6,
     "metadata": {},
     "output_type": "execute_result"
    }
   ],
   "source": [
    "occ.nom_com.unique()"
   ]
  },
  {
   "cell_type": "markdown",
   "metadata": {},
   "source": [
    "On ne s'intéresse qu'à l'ozone: "
   ]
  },
  {
   "cell_type": "code",
   "execution_count": 7,
   "metadata": {},
   "outputs": [],
   "source": [
    "occ = occ[occ['nom_poll'] == 'O3'] # only ozone"
   ]
  },
  {
   "cell_type": "markdown",
   "metadata": {},
   "source": [
    "### Quelles villes sont disponibles?"
   ]
  },
  {
   "cell_type": "code",
   "execution_count": 8,
   "metadata": {},
   "outputs": [
    {
     "data": {
      "text/plain": [
       "array(['MENDE', 'SAZE', 'TOULOUSE', 'SAINT-GELY-DU-FESC', 'ALBI',\n",
       "       'MONTPELLIER', 'LOURDES', 'CASTRES', 'TARBES', 'NIMES',\n",
       "       'LA CALMETTE', 'PEYRUSSE-VIEILLE', 'MONTGISCARD',\n",
       "       'BELESTA-EN-LAURAGAIS', 'LATTES', 'SAINT-ESTEVE', 'AGDE',\n",
       "       'CORNEILHAN', 'MIRAMONT-DE-COMMINGES', 'RODEZ', 'CAUNES-MINERVOIS',\n",
       "       'CARCASSONNE', 'PERPIGNAN', 'VALLABREGUES', 'ROQUEREDONDE',\n",
       "       'BIARS-SUR-CERE', 'PAMIERS'], dtype=object)"
      ]
     },
     "execution_count": 8,
     "metadata": {},
     "output_type": "execute_result"
    }
   ],
   "source": [
    "occ.nom_com.unique()"
   ]
  },
  {
   "cell_type": "markdown",
   "metadata": {},
   "source": [
    "Nous avons 27 villes différentes dans notre jeu de données qui disposent de données pour l'ozone.\n",
    "\n",
    "Attention, car il y a plusieurs stations disponibles par ville!"
   ]
  },
  {
   "cell_type": "markdown",
   "metadata": {},
   "source": [
    "## 3) Developpement du Widget 1"
   ]
  },
  {
   "cell_type": "code",
   "execution_count": 9,
   "metadata": {},
   "outputs": [
    {
     "data": {
      "text/plain": [
       "array(['MENDE', 'SAZE', 'TOULOUSE', 'SAINT-GELY-DU-FESC', 'ALBI',\n",
       "       'MONTPELLIER', 'LOURDES', 'CASTRES', 'TARBES', 'NIMES',\n",
       "       'LA CALMETTE', 'PEYRUSSE-VIEILLE', 'MONTGISCARD',\n",
       "       'BELESTA-EN-LAURAGAIS', 'LATTES', 'SAINT-ESTEVE', 'AGDE',\n",
       "       'CORNEILHAN', 'MIRAMONT-DE-COMMINGES', 'RODEZ', 'CAUNES-MINERVOIS',\n",
       "       'CARCASSONNE', 'PERPIGNAN', 'VALLABREGUES', 'ROQUEREDONDE',\n",
       "       'BIARS-SUR-CERE', 'PAMIERS'], dtype=object)"
      ]
     },
     "execution_count": 9,
     "metadata": {},
     "output_type": "execute_result"
    }
   ],
   "source": [
    "occ.nom_com.unique() # cities available in data set"
   ]
  },
  {
   "cell_type": "code",
   "execution_count": 12,
   "metadata": {},
   "outputs": [],
   "source": [
    "ville = 'MONTPELLIER', 'TOULOUSE', 'LOURDES'\n",
    "df_villes = occ[occ['nom_com'].isin(ville)]"
   ]
  },
  {
   "cell_type": "markdown",
   "metadata": {},
   "source": [
    "On va maintenant implémenter le widget qui compare la polution dans 3 villes en fonction du temps:"
   ]
  },
  {
   "cell_type": "code",
   "execution_count": 13,
   "metadata": {},
   "outputs": [
    {
     "name": "stdout",
     "output_type": "stream",
     "text": [
      "['FR50200']\n",
      "There are 31 data for ['MONTPELLIER'] in <PeriodArray>\n",
      "['2019-12']\n",
      "Length: 1, dtype: period[M]\n",
      "['FR50030']\n",
      "There are 31 data for ['TOULOUSE'] in <PeriodArray>\n",
      "['2019-12']\n",
      "Length: 1, dtype: period[M]\n",
      "['FR50042']\n",
      "Il y a 31 data for ['LOURDES'] in <PeriodArray>\n",
      "['2019-12']\n",
      "Length: 1, dtype: period[M]\n"
     ]
    }
   ],
   "source": [
    "# We have to count how many data each city has for each month\n",
    "\n",
    "mtp = df_villes[df_villes['nom_com'] == 'MONTPELLIER'] # data frame of Montpellier and O3\n",
    "print(mtp.code_station.unique()) # how many station in Montpellier?\n",
    "mtp = mtp[mtp.date == '2019-12'] # We choose one month (for exemple)\n",
    "\n",
    "print('There are', mtp.count()[0], 'data for', mtp.nom_com.unique(), 'in', mtp.date.unique() ) \n",
    "\n",
    "tls = df_villes[df_villes['nom_com'] == 'TOULOUSE']\n",
    "tls = tls[tls.date == '2019-12']\n",
    "tls = tls[tls.code_station == 'FR50030']\n",
    "print(tls.code_station.unique())\n",
    "\n",
    "print('There are', tls.count()[0], 'data for', tls.nom_com.unique(), 'in', tls.date.unique())\n",
    "\n",
    "lds = df_villes[df_villes['nom_com'] == 'LOURDES']\n",
    "print(lds.code_station.unique())\n",
    "lds = lds[lds.date == '2019-12']\n",
    "\n",
    "print('Il y a', lds.count()[0], 'data for', lds.nom_com.unique(), 'in', lds.date.unique()) \n",
    "\n",
    "# not the same number of data in 2019-07, 2019-08, 09"
   ]
  },
  {
   "cell_type": "code",
   "execution_count": 14,
   "metadata": {},
   "outputs": [
    {
     "data": {
      "text/html": [
       "<div>\n",
       "<style scoped>\n",
       "    .dataframe tbody tr th:only-of-type {\n",
       "        vertical-align: middle;\n",
       "    }\n",
       "\n",
       "    .dataframe tbody tr th {\n",
       "        vertical-align: top;\n",
       "    }\n",
       "\n",
       "    .dataframe thead th {\n",
       "        text-align: right;\n",
       "    }\n",
       "</style>\n",
       "<table border=\"1\" class=\"dataframe\">\n",
       "  <thead>\n",
       "    <tr style=\"text-align: right;\">\n",
       "      <th></th>\n",
       "      <th>nom_com</th>\n",
       "      <th>code_station</th>\n",
       "      <th>valeur</th>\n",
       "      <th>date</th>\n",
       "    </tr>\n",
       "  </thead>\n",
       "  <tbody>\n",
       "    <tr>\n",
       "      <td>17</td>\n",
       "      <td>TOULOUSE</td>\n",
       "      <td>FR50030</td>\n",
       "      <td>30.2</td>\n",
       "      <td>2019-12</td>\n",
       "    </tr>\n",
       "    <tr>\n",
       "      <td>23</td>\n",
       "      <td>MONTPELLIER</td>\n",
       "      <td>FR50200</td>\n",
       "      <td>37.4</td>\n",
       "      <td>2019-12</td>\n",
       "    </tr>\n",
       "    <tr>\n",
       "      <td>26</td>\n",
       "      <td>LOURDES</td>\n",
       "      <td>FR50042</td>\n",
       "      <td>18.4</td>\n",
       "      <td>2019-12</td>\n",
       "    </tr>\n",
       "    <tr>\n",
       "      <td>231</td>\n",
       "      <td>LOURDES</td>\n",
       "      <td>FR50042</td>\n",
       "      <td>10.1</td>\n",
       "      <td>2019-12</td>\n",
       "    </tr>\n",
       "    <tr>\n",
       "      <td>277</td>\n",
       "      <td>TOULOUSE</td>\n",
       "      <td>FR50030</td>\n",
       "      <td>28.8</td>\n",
       "      <td>2019-12</td>\n",
       "    </tr>\n",
       "    <tr>\n",
       "      <td>280</td>\n",
       "      <td>MONTPELLIER</td>\n",
       "      <td>FR50200</td>\n",
       "      <td>37.7</td>\n",
       "      <td>2019-12</td>\n",
       "    </tr>\n",
       "    <tr>\n",
       "      <td>434</td>\n",
       "      <td>MONTPELLIER</td>\n",
       "      <td>FR50200</td>\n",
       "      <td>13.6</td>\n",
       "      <td>2019-12</td>\n",
       "    </tr>\n",
       "    <tr>\n",
       "      <td>447</td>\n",
       "      <td>TOULOUSE</td>\n",
       "      <td>FR50030</td>\n",
       "      <td>23.4</td>\n",
       "      <td>2019-12</td>\n",
       "    </tr>\n",
       "  </tbody>\n",
       "</table>\n",
       "</div>"
      ],
      "text/plain": [
       "         nom_com code_station  valeur     date\n",
       "17      TOULOUSE      FR50030    30.2  2019-12\n",
       "23   MONTPELLIER      FR50200    37.4  2019-12\n",
       "26       LOURDES      FR50042    18.4  2019-12\n",
       "231      LOURDES      FR50042    10.1  2019-12\n",
       "277     TOULOUSE      FR50030    28.8  2019-12\n",
       "280  MONTPELLIER      FR50200    37.7  2019-12\n",
       "434  MONTPELLIER      FR50200    13.6  2019-12\n",
       "447     TOULOUSE      FR50030    23.4  2019-12"
      ]
     },
     "execution_count": 14,
     "metadata": {},
     "output_type": "execute_result"
    }
   ],
   "source": [
    "station = 'FR50030', 'FR50200', 'FR50042'\n",
    "df_villes = df_villes[df_villes['code_station'].isin(station)]\n",
    "df_villes = df_villes[['nom_com', 'code_station', 'valeur', 'date']]\n",
    "df_villes.head(n=8)"
   ]
  },
  {
   "cell_type": "code",
   "execution_count": 15,
   "metadata": {},
   "outputs": [
    {
     "data": {
      "text/plain": [
       "<seaborn.axisgrid.FacetGrid at 0x10aea7a0288>"
      ]
     },
     "execution_count": 15,
     "metadata": {},
     "output_type": "execute_result"
    },
    {
     "data": {
      "image/png": "[encoded data removed]",
      "text/plain": [
       "<Figure size 432x216 with 1 Axes>"
      ]
     },
     "metadata": {
      "needs_background": "light"
     },
     "output_type": "display_data"
    }
   ],
   "source": [
    "sns.catplot(x = 'nom_com', y = 'valeur', \n",
    "            data = df_villes,\n",
    "            height = 3, aspect = 2,\n",
    "            kind = 'violin')\n",
    "\n",
    "# ceci n'est qu'un boxplot avec plein d'erreurs, il faut un widget, que doit on faire varier?\n",
    "# il faudrait garder les mois pour faire un widget en fonction des mois\n",
    "# il faut s'assurer que pour tous les mois, il y ait le bon nombre de données..."
   ]
  },
  {
   "cell_type": "code",
   "execution_count": 16,
   "metadata": {},
   "outputs": [],
   "source": [
    "def poluted_cities(month):\n",
    "    df_villes_plot = df_villes[df_villes.date == month]\n",
    "    plt.style.use('dark_background')\n",
    "    sns.catplot(x = 'nom_com', y = 'valeur', \n",
    "            data = df_villes_plot,\n",
    "            height = 3, aspect = 2,\n",
    "            kind = 'boxen')\n",
    "    plt.tight_layout()\n",
    "    plt.xlabel('Cities')\n",
    "    plt.ylabel('O3')\n",
    "    plt.title(\"Comparisons of ozone measurements over a month from 3 cities\")\n",
    "    plt.show()\n",
    "    \n",
    "#modifier celui là pour ne plus avoir à garder ce qu'il y a plus haut"
   ]
  },
  {
   "cell_type": "code",
   "execution_count": 17,
   "metadata": {},
   "outputs": [
    {
     "data": {
      "application/vnd.jupyter.widget-view+json": {
       "model_id": "8058ba31dbf94f9d9c7707bf70dd631a",
       "version_major": 2,
       "version_minor": 0
      },
      "text/plain": [
       "interactive(children=(Dropdown(description='month', options=(Period('2019-12', 'M'), Period('2020-02', 'M'), P…"
      ]
     },
     "metadata": {},
     "output_type": "display_data"
    },
    {
     "data": {
      "text/plain": [
       "<function __main__.poluted_cities(month)>"
      ]
     },
     "execution_count": 17,
     "metadata": {},
     "output_type": "execute_result"
    }
   ],
   "source": [
    "interact(poluted_cities, month=df_villes.date.unique())"
   ]
  },
  {
   "cell_type": "markdown",
   "metadata": {},
   "source": [
    "## 4) Developpement du Widget 2"
   ]
  },
  {
   "cell_type": "code",
   "execution_count": 18,
   "metadata": {},
   "outputs": [],
   "source": [
    "def poluted_cities2(month, station_1='Montpellier Nord - Périurbain', \n",
    "                    station_2='Lourdes-Lapaca Urbain', \n",
    "                    station_3='Toulouse-Berthelot Urbain'):\n",
    "    \n",
    "    stations = station_1, station_2, station_3\n",
    "    \n",
    "    df_station = occ[occ['nom_station'].isin(stations)] # only stations we ask\n",
    "    df_station = df_station[df_station['nom_poll'] == 'O3'] # only ozone  \n",
    "    df_station = df_station[df_station.date == month]\n",
    "    df_station = df_station[['nom_com', 'nom_station', 'valeur', 'date']]\n",
    "    \n",
    "    plt.style.use('Solarize_Light2')\n",
    "    sns.catplot(x = 'nom_com', y = 'valeur', \n",
    "            data = df_station,\n",
    "            height = 3, aspect = 2,\n",
    "            kind = 'violin')\n",
    "    plt.tight_layout()\n",
    "    plt.xlabel('Cities')\n",
    "    plt.ylabel('O3')\n",
    "    plt.title(\"Comparison of ozone measurements over a month from 3 cities\")\n",
    "    plt.show()    "
   ]
  },
  {
   "cell_type": "code",
   "execution_count": 19,
   "metadata": {},
   "outputs": [
    {
     "data": {
      "application/vnd.jupyter.widget-view+json": {
       "model_id": "b07debecfc054cb3bd6ceb8f1e9a0a97",
       "version_major": 2,
       "version_minor": 0
      },
      "text/plain": [
       "interactive(children=(Dropdown(description='month', options=(Period('2019-12', 'M'), Period('2020-02', 'M'), P…"
      ]
     },
     "metadata": {},
     "output_type": "display_data"
    },
    {
     "data": {
      "text/plain": [
       "<function __main__.poluted_cities2(month, station_1='Montpellier Nord - Périurbain', station_2='Lourdes-Lapaca Urbain', station_3='Toulouse-Berthelot Urbain')>"
      ]
     },
     "execution_count": 19,
     "metadata": {},
     "output_type": "execute_result"
    }
   ],
   "source": [
    "interact(poluted_cities2, station_1=occ.nom_station.unique(), \n",
    "         station_2=occ.nom_station.unique(), \n",
    "         station_3=occ.nom_station.unique(), \n",
    "         month=occ.date.unique())"
   ]
  }
 ],
 "metadata": {
  "kernelspec": {
   "display_name": "Python 3",
   "language": "python",
   "name": "python3"
  },
  "language_info": {
   "codemirror_mode": {
    "name": "ipython",
    "version": 3
   },
   "file_extension": ".py",
   "mimetype": "text/x-python",
   "name": "python",
   "nbconvert_exporter": "python",
   "pygments_lexer": "ipython3",
   "version": "3.7.4"
  }
 },
 "nbformat": 4,
 "nbformat_minor": 2
}
