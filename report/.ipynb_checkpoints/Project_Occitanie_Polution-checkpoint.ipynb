{
 "cells": [
  {
   "cell_type": "markdown",
   "metadata": {},
   "source": [
    "# Development of a Widget"
   ]
  },
  {
   "cell_type": "code",
   "execution_count": 1,
   "metadata": {},
   "outputs": [],
   "source": [
    "import pandas as pd\n",
    "import numpy as np\n",
    "import matplotlib.pyplot as plt\n",
    "import seaborn as sns\n",
    "from ipywidgets import interact  # widget manipulation\n",
    "from IPython.display import HTML"
   ]
  },
  {
   "cell_type": "markdown",
   "metadata": {},
   "source": [
    "## 1)  Data importation:\n"
   ]
  },
  {
   "cell_type": "code",
   "execution_count": 2,
   "metadata": {},
   "outputs": [
    {
     "name": "stdout",
     "output_type": "stream",
     "text": [
      "Downloading data from https://opendata.arcgis.com/datasets/2ab16a5fb61f42c1a689fd9cc466383f_0.csv (1 byte)\n",
      "\n"
     ]
    },
    {
     "name": "stderr",
     "output_type": "stream",
     "text": [
      "file_sizes: 10.8MB [00:07, 1.38MB/s]                                            \n"
     ]
    },
    {
     "name": "stdout",
     "output_type": "stream",
     "text": [
      "Successfully downloaded file to datasets/Mesure_journaliere_Region_Occitanie_Polluants_Principaux.csv\n"
     ]
    },
    {
     "data": {
      "text/plain": [
       "'datasets/Mesure_journaliere_Region_Occitanie_Polluants_Principaux.csv'"
      ]
     },
     "execution_count": 2,
     "metadata": {},
     "output_type": "execute_result"
    }
   ],
   "source": [
    "from download import download\n",
    "\n",
    "# We choose daily data\n",
    "url = \"https://opendata.arcgis.com/datasets/2ab16a5fb61f42c1a689fd9cc466383f_0.csv\"\n",
    "path_target = \"datasets/Mesure_journaliere_Region_Occitanie_Polluants_Principaux.csv\"\n",
    "download(url, path_target, replace=True)"
   ]
  },
  {
   "cell_type": "code",
   "execution_count": 3,
   "metadata": {},
   "outputs": [
    {
     "data": {
      "text/html": [
       "<div>\n",
       "<style scoped>\n",
       "    .dataframe tbody tr th:only-of-type {\n",
       "        vertical-align: middle;\n",
       "    }\n",
       "\n",
       "    .dataframe tbody tr th {\n",
       "        vertical-align: top;\n",
       "    }\n",
       "\n",
       "    .dataframe thead th {\n",
       "        text-align: right;\n",
       "    }\n",
       "</style>\n",
       "<table border=\"1\" class=\"dataframe\">\n",
       "  <thead>\n",
       "    <tr style=\"text-align: right;\">\n",
       "      <th></th>\n",
       "      <th>X</th>\n",
       "      <th>Y</th>\n",
       "      <th>nom_dept</th>\n",
       "      <th>nom_com</th>\n",
       "      <th>insee_com</th>\n",
       "      <th>nom_station</th>\n",
       "      <th>code_station</th>\n",
       "      <th>typologie</th>\n",
       "      <th>influence</th>\n",
       "      <th>nom_poll</th>\n",
       "      <th>id_poll_ue</th>\n",
       "      <th>valeur</th>\n",
       "      <th>unite</th>\n",
       "      <th>metrique</th>\n",
       "      <th>date_debut</th>\n",
       "      <th>date_fin</th>\n",
       "      <th>statut_valid</th>\n",
       "      <th>x_l93</th>\n",
       "      <th>y_l93</th>\n",
       "      <th>ObjectId</th>\n",
       "    </tr>\n",
       "  </thead>\n",
       "  <tbody>\n",
       "    <tr>\n",
       "      <td>0</td>\n",
       "      <td>0.179722</td>\n",
       "      <td>43.6303</td>\n",
       "      <td>GERS</td>\n",
       "      <td>PEYRUSSE-VIEILLE</td>\n",
       "      <td>32317</td>\n",
       "      <td>Peyrusse Vieille Rural</td>\n",
       "      <td>FR50020</td>\n",
       "      <td>Rurale Nationale</td>\n",
       "      <td>Fond</td>\n",
       "      <td>PM10</td>\n",
       "      <td>5</td>\n",
       "      <td>15.9</td>\n",
       "      <td>ug.m-3</td>\n",
       "      <td>journaliere</td>\n",
       "      <td>2019-12-27T01:00:00.000Z</td>\n",
       "      <td>2019-12-28T00:00:00.000Z</td>\n",
       "      <td>t</td>\n",
       "      <td>472377</td>\n",
       "      <td>6285316</td>\n",
       "      <td>1</td>\n",
       "    </tr>\n",
       "    <tr>\n",
       "      <td>1</td>\n",
       "      <td>3.898610</td>\n",
       "      <td>43.6100</td>\n",
       "      <td>HERAULT</td>\n",
       "      <td>MONTPELLIER</td>\n",
       "      <td>34172</td>\n",
       "      <td>Montpellier - Pompignane Trafic</td>\n",
       "      <td>FR50203</td>\n",
       "      <td>Urbaine</td>\n",
       "      <td>Trafic</td>\n",
       "      <td>PM10</td>\n",
       "      <td>5</td>\n",
       "      <td>16.0</td>\n",
       "      <td>ug.m-3</td>\n",
       "      <td>journaliere</td>\n",
       "      <td>2019-12-27T01:00:00.000Z</td>\n",
       "      <td>2019-12-28T00:00:00.000Z</td>\n",
       "      <td>t</td>\n",
       "      <td>772566</td>\n",
       "      <td>6279407</td>\n",
       "      <td>2</td>\n",
       "    </tr>\n",
       "    <tr>\n",
       "      <td>2</td>\n",
       "      <td>3.503030</td>\n",
       "      <td>44.5220</td>\n",
       "      <td>LOZERE</td>\n",
       "      <td>MENDE</td>\n",
       "      <td>48095</td>\n",
       "      <td>Mende - Vernede urbain</td>\n",
       "      <td>FR50801</td>\n",
       "      <td>Urbaine</td>\n",
       "      <td>Fond</td>\n",
       "      <td>PM10</td>\n",
       "      <td>5</td>\n",
       "      <td>15.9</td>\n",
       "      <td>ug.m-3</td>\n",
       "      <td>journaliere</td>\n",
       "      <td>2019-12-27T01:00:00.000Z</td>\n",
       "      <td>2019-12-28T00:00:00.000Z</td>\n",
       "      <td>t</td>\n",
       "      <td>739976</td>\n",
       "      <td>6380453</td>\n",
       "      <td>3</td>\n",
       "    </tr>\n",
       "    <tr>\n",
       "      <td>3</td>\n",
       "      <td>3.503030</td>\n",
       "      <td>44.5220</td>\n",
       "      <td>LOZERE</td>\n",
       "      <td>MENDE</td>\n",
       "      <td>48095</td>\n",
       "      <td>Mende - Vernede urbain</td>\n",
       "      <td>FR50801</td>\n",
       "      <td>Urbaine</td>\n",
       "      <td>Fond</td>\n",
       "      <td>NOX as NO2</td>\n",
       "      <td>9</td>\n",
       "      <td>27.6</td>\n",
       "      <td>ug.m-3</td>\n",
       "      <td>journaliere</td>\n",
       "      <td>2019-12-27T01:00:00.000Z</td>\n",
       "      <td>2019-12-28T00:00:00.000Z</td>\n",
       "      <td>t</td>\n",
       "      <td>739976</td>\n",
       "      <td>6380453</td>\n",
       "      <td>4</td>\n",
       "    </tr>\n",
       "    <tr>\n",
       "      <td>4</td>\n",
       "      <td>3.503030</td>\n",
       "      <td>44.5220</td>\n",
       "      <td>LOZERE</td>\n",
       "      <td>MENDE</td>\n",
       "      <td>48095</td>\n",
       "      <td>Mende - Vernede urbain</td>\n",
       "      <td>FR50801</td>\n",
       "      <td>Urbaine</td>\n",
       "      <td>Fond</td>\n",
       "      <td>O3</td>\n",
       "      <td>7</td>\n",
       "      <td>34.2</td>\n",
       "      <td>ug.m-3</td>\n",
       "      <td>journaliere</td>\n",
       "      <td>2019-12-27T01:00:00.000Z</td>\n",
       "      <td>2019-12-28T00:00:00.000Z</td>\n",
       "      <td>t</td>\n",
       "      <td>739976</td>\n",
       "      <td>6380453</td>\n",
       "      <td>5</td>\n",
       "    </tr>\n",
       "  </tbody>\n",
       "</table>\n",
       "</div>"
      ],
      "text/plain": [
       "          X        Y nom_dept           nom_com  insee_com  \\\n",
       "0  0.179722  43.6303     GERS  PEYRUSSE-VIEILLE      32317   \n",
       "1  3.898610  43.6100  HERAULT       MONTPELLIER      34172   \n",
       "2  3.503030  44.5220   LOZERE             MENDE      48095   \n",
       "3  3.503030  44.5220   LOZERE             MENDE      48095   \n",
       "4  3.503030  44.5220   LOZERE             MENDE      48095   \n",
       "\n",
       "                       nom_station code_station         typologie influence  \\\n",
       "0           Peyrusse Vieille Rural      FR50020  Rurale Nationale      Fond   \n",
       "1  Montpellier - Pompignane Trafic      FR50203           Urbaine    Trafic   \n",
       "2           Mende - Vernede urbain      FR50801           Urbaine      Fond   \n",
       "3           Mende - Vernede urbain      FR50801           Urbaine      Fond   \n",
       "4           Mende - Vernede urbain      FR50801           Urbaine      Fond   \n",
       "\n",
       "     nom_poll  id_poll_ue  valeur   unite     metrique  \\\n",
       "0        PM10           5    15.9  ug.m-3  journaliere   \n",
       "1        PM10           5    16.0  ug.m-3  journaliere   \n",
       "2        PM10           5    15.9  ug.m-3  journaliere   \n",
       "3  NOX as NO2           9    27.6  ug.m-3  journaliere   \n",
       "4          O3           7    34.2  ug.m-3  journaliere   \n",
       "\n",
       "                 date_debut                  date_fin statut_valid   x_l93  \\\n",
       "0  2019-12-27T01:00:00.000Z  2019-12-28T00:00:00.000Z            t  472377   \n",
       "1  2019-12-27T01:00:00.000Z  2019-12-28T00:00:00.000Z            t  772566   \n",
       "2  2019-12-27T01:00:00.000Z  2019-12-28T00:00:00.000Z            t  739976   \n",
       "3  2019-12-27T01:00:00.000Z  2019-12-28T00:00:00.000Z            t  739976   \n",
       "4  2019-12-27T01:00:00.000Z  2019-12-28T00:00:00.000Z            t  739976   \n",
       "\n",
       "     y_l93  ObjectId  \n",
       "0  6285316         1  \n",
       "1  6279407         2  \n",
       "2  6380453         3  \n",
       "3  6380453         4  \n",
       "4  6380453         5  "
      ]
     },
     "execution_count": 3,
     "metadata": {},
     "output_type": "execute_result"
    }
   ],
   "source": [
    "occ = pd.read_csv(path_target)\n",
    "# all data of Occitanie\n",
    "\n",
    "occ.head(n=5) # simpliest way too watch data"
   ]
  },
  {
   "cell_type": "markdown",
   "metadata": {},
   "source": [
    "## 2) Data treatment"
   ]
  },
  {
   "cell_type": "code",
   "execution_count": 4,
   "metadata": {},
   "outputs": [
    {
     "name": "stderr",
     "output_type": "stream",
     "text": [
      "C:\\Users\\megan\\Anaconda3\\lib\\site-packages\\pandas\\core\\arrays\\datetimes.py:1269: UserWarning: Converting to PeriodArray/Index representation will drop timezone information.\n",
      "  UserWarning,\n"
     ]
    }
   ],
   "source": [
    "occ['date'] = pd.to_datetime(occ['date_debut']).dt.to_period('M')\n",
    "\n",
    "\n",
    "#https://pandas.pydata.org/pandas-docs/stable/reference/api/pandas.Series.dt.to_period.html\n",
    "#https://pandas.pydata.org/pandas-docs/stable/reference/api/pandas.to_datetime.html"
   ]
  },
  {
   "cell_type": "markdown",
   "metadata": {},
   "source": [
    "Description des variables: \n",
    "\n",
    "   + X et Y : lattitude, longitude\n",
    "   + nom_dept : nom du département\n",
    "   + nom_com : nom de la commune\n",
    "   + insee_com: numéro commune par INSEE\n",
    "   + nom_station : station qui récolte les données\n",
    "   + code_station : code de la station\n",
    "   + typologie : type de zone\n",
    "   + influence : ce qui peut influencer la pollution \n",
    "   + nom_poll : nom du polluant\n",
    "   + id_poll_ue : identifiant du polluant \n",
    "   + valeur : valeur mesurée du polluant\n",
    "   + unite : unité\n",
    "   + date_debut: année/mois/jour/heure\n",
    "   + date_fin: idem\n",
    "   + status_valid : ? \n",
    "   + x_l93 : ?\n",
    "   + y_l93 : ?\n",
    "   + objectld : ?"
   ]
  },
  {
   "cell_type": "code",
   "execution_count": 5,
   "metadata": {},
   "outputs": [
    {
     "data": {
      "text/html": [
       "<div>\n",
       "<style scoped>\n",
       "    .dataframe tbody tr th:only-of-type {\n",
       "        vertical-align: middle;\n",
       "    }\n",
       "\n",
       "    .dataframe tbody tr th {\n",
       "        vertical-align: top;\n",
       "    }\n",
       "\n",
       "    .dataframe thead th {\n",
       "        text-align: right;\n",
       "    }\n",
       "</style>\n",
       "<table border=\"1\" class=\"dataframe\">\n",
       "  <thead>\n",
       "    <tr style=\"text-align: right;\">\n",
       "      <th></th>\n",
       "      <th>X</th>\n",
       "      <th>Y</th>\n",
       "      <th>insee_com</th>\n",
       "      <th>id_poll_ue</th>\n",
       "      <th>valeur</th>\n",
       "      <th>x_l93</th>\n",
       "      <th>y_l93</th>\n",
       "      <th>ObjectId</th>\n",
       "    </tr>\n",
       "  </thead>\n",
       "  <tbody>\n",
       "    <tr>\n",
       "      <td>count</td>\n",
       "      <td>55325.000000</td>\n",
       "      <td>55325.000000</td>\n",
       "      <td>55325.000000</td>\n",
       "      <td>55325.000000</td>\n",
       "      <td>55325.000000</td>\n",
       "      <td>55325.000000</td>\n",
       "      <td>5.532500e+04</td>\n",
       "      <td>55325.000000</td>\n",
       "    </tr>\n",
       "    <tr>\n",
       "      <td>mean</td>\n",
       "      <td>2.208815</td>\n",
       "      <td>43.555469</td>\n",
       "      <td>40419.081862</td>\n",
       "      <td>531.236837</td>\n",
       "      <td>25.037945</td>\n",
       "      <td>635758.467275</td>\n",
       "      <td>6.274265e+06</td>\n",
       "      <td>27663.000000</td>\n",
       "    </tr>\n",
       "    <tr>\n",
       "      <td>std</td>\n",
       "      <td>1.408065</td>\n",
       "      <td>0.433240</td>\n",
       "      <td>17258.013798</td>\n",
       "      <td>1684.047733</td>\n",
       "      <td>30.433983</td>\n",
       "      <td>113988.562550</td>\n",
       "      <td>4.778505e+04</td>\n",
       "      <td>15971.096158</td>\n",
       "    </tr>\n",
       "    <tr>\n",
       "      <td>min</td>\n",
       "      <td>-0.051944</td>\n",
       "      <td>42.684000</td>\n",
       "      <td>11069.000000</td>\n",
       "      <td>1.000000</td>\n",
       "      <td>-25.200000</td>\n",
       "      <td>451389.000000</td>\n",
       "      <td>6.176047e+06</td>\n",
       "      <td>1.000000</td>\n",
       "    </tr>\n",
       "    <tr>\n",
       "      <td>25%</td>\n",
       "      <td>1.376000</td>\n",
       "      <td>43.230300</td>\n",
       "      <td>31483.000000</td>\n",
       "      <td>7.000000</td>\n",
       "      <td>6.300000</td>\n",
       "      <td>568918.000000</td>\n",
       "      <td>6.241231e+06</td>\n",
       "      <td>13832.000000</td>\n",
       "    </tr>\n",
       "    <tr>\n",
       "      <td>50%</td>\n",
       "      <td>1.845730</td>\n",
       "      <td>43.610000</td>\n",
       "      <td>32317.000000</td>\n",
       "      <td>8.000000</td>\n",
       "      <td>13.600000</td>\n",
       "      <td>608927.000000</td>\n",
       "      <td>6.279364e+06</td>\n",
       "      <td>27663.000000</td>\n",
       "    </tr>\n",
       "    <tr>\n",
       "      <td>75%</td>\n",
       "      <td>3.504830</td>\n",
       "      <td>43.675800</td>\n",
       "      <td>48095.000000</td>\n",
       "      <td>38.000000</td>\n",
       "      <td>32.400000</td>\n",
       "      <td>740996.000000</td>\n",
       "      <td>6.286912e+06</td>\n",
       "      <td>41494.000000</td>\n",
       "    </tr>\n",
       "    <tr>\n",
       "      <td>max</td>\n",
       "      <td>4.697360</td>\n",
       "      <td>44.925400</td>\n",
       "      <td>81065.000000</td>\n",
       "      <td>6001.000000</td>\n",
       "      <td>815.600000</td>\n",
       "      <td>836000.000000</td>\n",
       "      <td>6.425805e+06</td>\n",
       "      <td>55325.000000</td>\n",
       "    </tr>\n",
       "  </tbody>\n",
       "</table>\n",
       "</div>"
      ],
      "text/plain": [
       "                  X             Y     insee_com    id_poll_ue        valeur  \\\n",
       "count  55325.000000  55325.000000  55325.000000  55325.000000  55325.000000   \n",
       "mean       2.208815     43.555469  40419.081862    531.236837     25.037945   \n",
       "std        1.408065      0.433240  17258.013798   1684.047733     30.433983   \n",
       "min       -0.051944     42.684000  11069.000000      1.000000    -25.200000   \n",
       "25%        1.376000     43.230300  31483.000000      7.000000      6.300000   \n",
       "50%        1.845730     43.610000  32317.000000      8.000000     13.600000   \n",
       "75%        3.504830     43.675800  48095.000000     38.000000     32.400000   \n",
       "max        4.697360     44.925400  81065.000000   6001.000000    815.600000   \n",
       "\n",
       "               x_l93         y_l93      ObjectId  \n",
       "count   55325.000000  5.532500e+04  55325.000000  \n",
       "mean   635758.467275  6.274265e+06  27663.000000  \n",
       "std    113988.562550  4.778505e+04  15971.096158  \n",
       "min    451389.000000  6.176047e+06      1.000000  \n",
       "25%    568918.000000  6.241231e+06  13832.000000  \n",
       "50%    608927.000000  6.279364e+06  27663.000000  \n",
       "75%    740996.000000  6.286912e+06  41494.000000  \n",
       "max    836000.000000  6.425805e+06  55325.000000  "
      ]
     },
     "execution_count": 5,
     "metadata": {},
     "output_type": "execute_result"
    }
   ],
   "source": [
    "# variables description : do not forget that it's a possibility\n",
    "occ.describe()"
   ]
  },
  {
   "cell_type": "code",
   "execution_count": 6,
   "metadata": {},
   "outputs": [
    {
     "data": {
      "text/plain": [
       "array(['PEYRUSSE-VIEILLE', 'MONTPELLIER', 'MENDE', 'PERPIGNAN', 'ALBI',\n",
       "       'TOULOUSE', 'AGDE', 'SAZE', 'SAINT-GELY-DU-FESC', 'LOURDES',\n",
       "       'CASTRES', 'TARBES', 'NIMES', 'LA CALMETTE', 'LUNEL-VIEL',\n",
       "       'MIRAMONT-DE-COMMINGES', 'SAINT-GAUDENS', 'MONTGISCARD',\n",
       "       'BELESTA-EN-LAURAGAIS', 'LATTES', 'SAINT-ESTEVE', 'BLAGNAC',\n",
       "       'CORNEILHAN', 'BIARS-SUR-CERE', 'SAINT-LAURENT-DES-ARBRES',\n",
       "       'RODEZ', 'CARCASSONNE', 'CAUNES-MINERVOIS', 'BESSIERES',\n",
       "       'ROQUEREDONDE', 'VALLABREGUES'], dtype=object)"
      ]
     },
     "execution_count": 6,
     "metadata": {},
     "output_type": "execute_result"
    }
   ],
   "source": [
    "occ.nom_com.unique() # cities available "
   ]
  },
  {
   "cell_type": "markdown",
   "metadata": {},
   "source": [
    "We only care about ozone: "
   ]
  },
  {
   "cell_type": "code",
   "execution_count": 7,
   "metadata": {},
   "outputs": [],
   "source": [
    "occ = occ[occ['nom_poll'] == 'O3'] # only ozone"
   ]
  },
  {
   "cell_type": "markdown",
   "metadata": {},
   "source": [
    "### Which cities are available?"
   ]
  },
  {
   "cell_type": "code",
   "execution_count": 8,
   "metadata": {},
   "outputs": [
    {
     "data": {
      "text/plain": [
       "array(['MENDE', 'SAZE', 'TOULOUSE', 'SAINT-GELY-DU-FESC', 'ALBI',\n",
       "       'MONTPELLIER', 'LOURDES', 'CASTRES', 'TARBES', 'NIMES',\n",
       "       'LA CALMETTE', 'PEYRUSSE-VIEILLE', 'MONTGISCARD',\n",
       "       'BELESTA-EN-LAURAGAIS', 'LATTES', 'SAINT-ESTEVE', 'AGDE',\n",
       "       'CORNEILHAN', 'MIRAMONT-DE-COMMINGES', 'RODEZ', 'CAUNES-MINERVOIS',\n",
       "       'CARCASSONNE', 'PERPIGNAN', 'ROQUEREDONDE', 'BIARS-SUR-CERE',\n",
       "       'VALLABREGUES'], dtype=object)"
      ]
     },
     "execution_count": 8,
     "metadata": {},
     "output_type": "execute_result"
    }
   ],
   "source": [
    "occ.nom_com.unique() # cities with ozone data available "
   ]
  },
  {
   "cell_type": "markdown",
   "metadata": {},
   "source": [
    "We have 27 different cities available with ozone data\n",
    "\n",
    "Warning, many stations available by city!"
   ]
  },
  {
   "cell_type": "markdown",
   "metadata": {},
   "source": [
    "## 3) Widget Developement"
   ]
  },
  {
   "cell_type": "markdown",
   "metadata": {},
   "source": [
    "The following widget compares ozone pollution in Montpellier, Toulouse and Lourdes for the choosen month:"
   ]
  },
  {
   "cell_type": "code",
   "execution_count": 9,
   "metadata": {},
   "outputs": [],
   "source": [
    "def poluted_cities0(month):\n",
    "    \n",
    "    station = 'FR50030', 'FR50200', 'FR50042'\n",
    "    df_villes = occ[occ['code_station'].isin(station)]\n",
    "    \n",
    "    df_villes = df_villes[df_villes.date == month]\n",
    "    \n",
    "    plt.style.use('dark_background')\n",
    "    sns.catplot(x = 'nom_com', y = 'valeur', \n",
    "            data = df_villes,\n",
    "            height = 3, aspect = 2,\n",
    "            kind = 'boxen')\n",
    "    plt.tight_layout()\n",
    "    plt.xlabel('Cities')\n",
    "    plt.ylabel('O3')\n",
    "    plt.title(\"Comparisons of ozone measurements over a month from 3 cities\")\n",
    "    plt.show()"
   ]
  },
  {
   "cell_type": "code",
   "execution_count": 10,
   "metadata": {},
   "outputs": [
    {
     "data": {
      "application/vnd.jupyter.widget-view+json": {
       "model_id": "b4919d82fe21438a8b29a368e5e8b098",
       "version_major": 2,
       "version_minor": 0
      },
      "text/plain": [
       "interactive(children=(Dropdown(description='month', options=(Period('2019-12', 'M'), Period('2020-02', 'M'), P…"
      ]
     },
     "metadata": {},
     "output_type": "display_data"
    },
    {
     "data": {
      "text/plain": [
       "<function __main__.poluted_cities0(month)>"
      ]
     },
     "execution_count": 10,
     "metadata": {},
     "output_type": "execute_result"
    }
   ],
   "source": [
    "interact(poluted_cities0, month=occ.date.unique())"
   ]
  },
  {
   "cell_type": "markdown",
   "metadata": {},
   "source": [
    "## 4) Second Widget development"
   ]
  },
  {
   "cell_type": "markdown",
   "metadata": {},
   "source": [
    "The following widget compares again pollution in three cities, but we can both choose the cities and the date:"
   ]
  },
  {
   "cell_type": "code",
   "execution_count": 11,
   "metadata": {},
   "outputs": [],
   "source": [
    "def poluted_cities(month, station_1='Montpellier Nord - Périurbain', \n",
    "                    station_2='Lourdes-Lapaca Urbain', \n",
    "                    station_3='Toulouse-Berthelot Urbain'):\n",
    "    \n",
    "    stations = station_1, station_2, station_3\n",
    "    \n",
    "    df_station = occ[occ['nom_station'].isin(stations)] # only stations we ask\n",
    "    df_station = df_station[df_station['nom_poll'] == 'O3'] # only ozone  \n",
    "    df_station = df_station[df_station.date == month]\n",
    "    df_station = df_station[['nom_com', 'nom_station', 'valeur', 'date']]\n",
    "    \n",
    "    plt.style.use('dark_background')\n",
    "    sns.catplot(x = 'nom_com', y = 'valeur', \n",
    "            data = df_station,\n",
    "            height = 3, aspect = 2,\n",
    "            kind = 'boxen')\n",
    "    plt.tight_layout()\n",
    "    plt.xlabel('Cities')\n",
    "    plt.ylabel('O3')\n",
    "    plt.title(\"Comparison of ozone measurements over a month from 3 cities\")\n",
    "    plt.show()    "
   ]
  },
  {
   "cell_type": "code",
   "execution_count": 12,
   "metadata": {},
   "outputs": [
    {
     "data": {
      "application/vnd.jupyter.widget-view+json": {
       "model_id": "ad18c8ef757946d3b8c0c3c8fc17f0c9",
       "version_major": 2,
       "version_minor": 0
      },
      "text/plain": [
       "interactive(children=(Dropdown(description='month', options=(Period('2019-12', 'M'), Period('2020-02', 'M'), P…"
      ]
     },
     "metadata": {},
     "output_type": "display_data"
    },
    {
     "data": {
      "text/plain": [
       "<function __main__.poluted_cities2(month, station_1='Montpellier Nord - Périurbain', station_2='Lourdes-Lapaca Urbain', station_3='Toulouse-Berthelot Urbain')>"
      ]
     },
     "execution_count": 12,
     "metadata": {},
     "output_type": "execute_result"
    }
   ],
   "source": [
    "interact(poluted_cities, station_1=occ.nom_station.unique(), \n",
    "         station_2=occ.nom_station.unique(), \n",
    "         station_3=occ.nom_station.unique(), \n",
    "         month=occ.date.unique())"
   ]
  }
 ],
 "metadata": {
  "kernelspec": {
   "display_name": "Python 3",
   "language": "python",
   "name": "python3"
  },
  "language_info": {
   "codemirror_mode": {
    "name": "ipython",
    "version": 3
   },
   "file_extension": ".py",
   "mimetype": "text/x-python",
   "name": "python",
   "nbconvert_exporter": "python",
   "pygments_lexer": "ipython3",
   "version": "3.7.4"
  }
 },
 "nbformat": 4,
 "nbformat_minor": 2
}
