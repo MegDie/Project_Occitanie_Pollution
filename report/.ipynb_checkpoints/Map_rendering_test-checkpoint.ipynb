{
 "cells": [
  {
   "cell_type": "code",
   "execution_count": 1,
   "metadata": {},
   "outputs": [],
   "source": [
    "import matplotlib.pyplot as plt\n",
    "%matplotlib inline\n",
    "import matplotlib.colors as colors\n",
    "\n",
    "from numpy import array\n",
    "from numpy import max\n",
    "import numpy as np\n",
    "import pandas as pd\n",
    "import math\n",
    "import folium"
   ]
  },
  {
   "cell_type": "code",
   "execution_count": 2,
   "metadata": {},
   "outputs": [
    {
     "name": "stdout",
     "output_type": "stream",
     "text": [
      "Replace is False and data exists, so doing nothing. Use replace==True to re-download the data.\n"
     ]
    },
    {
     "data": {
      "text/plain": [
       "'datasets/Mesure_journaliere_Region_Occitanie_Polluants_Principaux.csv'"
      ]
     },
     "execution_count": 2,
     "metadata": {},
     "output_type": "execute_result"
    }
   ],
   "source": [
    "from download import download\n",
    "\n",
    "# We choose daily data\n",
    "url = \"https://opendata.arcgis.com/datasets/2ab16a5fb61f42c1a689fd9cc466383f_0.csv\"\n",
    "path_target = \"datasets/Mesure_journaliere_Region_Occitanie_Polluants_Principaux.csv\"\n",
    "download(url, path_target, replace=False)"
   ]
  },
  {
   "cell_type": "markdown",
   "metadata": {},
   "source": [
    "## 1) Data treatment"
   ]
  },
  {
   "cell_type": "code",
   "execution_count": 3,
   "metadata": {},
   "outputs": [],
   "source": [
    "occ_df = pd.read_csv(path_target)\n",
    "occ_df = occ_df[occ_df['nom_poll'] == 'O3'] # only ozone"
   ]
  },
  {
   "cell_type": "markdown",
   "metadata": {},
   "source": [
    "Que veut-on représenter? \n",
    "   +  Toutes les villes de notre data set en Occitanie\n",
    "   +  La question est quand ?\n",
    "   + Peut on faire varier la date interactivement\n",
    "   + Voila pourquoi on veut une video, on va voire la pollution évoluer\n",
    "   \n",
    "J'ai reflechi cette nuit et on developpera ici:\n",
    "   + Une map de l'occitanie qui affiche les données journalières\n",
    "   + Elle sera interactive et on pourra choisir le jour qu'on veut\n",
    "   + Il faudra certainement et au préalable nettoyer nos données"
   ]
  },
  {
   "cell_type": "code",
   "execution_count": 4,
   "metadata": {},
   "outputs": [
    {
     "name": "stderr",
     "output_type": "stream",
     "text": [
      "C:\\Users\\megan\\Anaconda3\\lib\\site-packages\\pandas\\core\\arrays\\datetimes.py:1269: UserWarning: Converting to PeriodArray/Index representation will drop timezone information.\n",
      "  UserWarning,\n"
     ]
    }
   ],
   "source": [
    "# On va traiter les données afin de rajouter une colonne de la date (jour)\n",
    "occ_df['jour'] = pd.to_datetime(occ_df['date_debut']).dt.to_period('D')\n",
    "# On rajoute une colonne pour avoir des valeurs standardisées\n",
    "# Cela va servir à avoir une échelle des couleurs plus claire\n",
    "occ_df['centrer_reduire'] = (occ_df[['valeur']] - np.mean(occ_df[['valeur']]))/ np.std(occ_df[['valeur']])"
   ]
  },
  {
   "cell_type": "code",
   "execution_count": 5,
   "metadata": {},
   "outputs": [
    {
     "data": {
      "text/plain": [
       "array(['Mende - Vernede urbain', 'Saze - rural',\n",
       "       'Toulouse-Berthelot Urbain', 'Montpellier Nord - Périurbain',\n",
       "       'Toulouse-Mazades Urbain', 'Albi Urbain',\n",
       "       'Montpellier - Prés d Arènes Urbain', 'Toulouse-Jacquier Urbain',\n",
       "       'Lourdes-Lapaca Urbain', 'Castres-Travet Urbain',\n",
       "       'Tarbes-Dupuy Urbain', 'Nîmes Sud - urbain',\n",
       "       'La Calmette - Périurbain', 'Peyrusse Vieille Rural',\n",
       "       'Montgiscard Urbain', 'Belesta en Lauragais Rural',\n",
       "       'Montpellier Sud - Périurbain', 'Saint Estève - périurbain',\n",
       "       'Agathois-Piscénois - Périurbain',\n",
       "       'Biterrois-Narbonnais - Périurbain',\n",
       "       'Saint Gaudens-Miramont Industriel', 'Rodez Urbain',\n",
       "       'Caunes-Minervois - rural', 'Carcassonne - urbain',\n",
       "       'Station Pedagogique', 'Perpignan Centre - urbain',\n",
       "       'Roqueredonde - rurale', 'Biars-sur-Cere - urbain',\n",
       "       'Vallabrègues - rural'], dtype=object)"
      ]
     },
     "execution_count": 5,
     "metadata": {},
     "output_type": "execute_result"
    }
   ],
   "source": [
    "occ_df.nom_station.unique()"
   ]
  },
  {
   "cell_type": "code",
   "execution_count": 6,
   "metadata": {},
   "outputs": [
    {
     "data": {
      "text/plain": [
       "<PeriodArray>\n",
       "['2019-12-27', '2019-12-28', '2020-02-19', '2020-02-26', '2019-12-29',\n",
       " '2019-12-30', '2020-02-20', '2019-12-31', '2020-01-01', '2019-10-16',\n",
       " ...\n",
       " '2020-04-07', '2020-04-08', '2020-03-27', '2020-03-28', '2020-03-29',\n",
       " '2020-03-30', '2020-03-31', '2020-04-01', '2019-12-22', '2019-12-25']\n",
       "Length: 363, dtype: period[D]"
      ]
     },
     "execution_count": 6,
     "metadata": {},
     "output_type": "execute_result"
    }
   ],
   "source": [
    "occ_df.jour.unique() # 362 jours, on fera varier notre map selon ces jours."
   ]
  },
  {
   "cell_type": "markdown",
   "metadata": {},
   "source": [
    "## 2) pollution map for one day "
   ]
  },
  {
   "cell_type": "markdown",
   "metadata": {},
   "source": [
    "On va prendre le tableau d'un jour en particulier pour commencer:"
   ]
  },
  {
   "cell_type": "code",
   "execution_count": 7,
   "metadata": {},
   "outputs": [
    {
     "data": {
      "text/plain": [
       "array(['Saze - rural', 'Toulouse-Mazades Urbain', 'Nîmes Sud - urbain',\n",
       "       'Montgiscard Urbain', 'Belesta en Lauragais Rural',\n",
       "       'Peyrusse Vieille Rural', 'Toulouse-Jacquier Urbain',\n",
       "       'Saint Estève - périurbain', 'Castres-Travet Urbain',\n",
       "       'Montpellier Sud - Périurbain',\n",
       "       'Biterrois-Narbonnais - Périurbain',\n",
       "       'Montpellier Nord - Périurbain', 'La Calmette - Périurbain',\n",
       "       'Montpellier - Prés d Arènes Urbain', 'Lourdes-Lapaca Urbain',\n",
       "       'Saint Gaudens-Miramont Industriel', 'Toulouse-Berthelot Urbain',\n",
       "       'Station Pedagogique', 'Tarbes-Dupuy Urbain', 'Rodez Urbain',\n",
       "       'Agathois-Piscénois - Périurbain', 'Caunes-Minervois - rural',\n",
       "       'Perpignan Centre - urbain'], dtype=object)"
      ]
     },
     "execution_count": 7,
     "metadata": {},
     "output_type": "execute_result"
    }
   ],
   "source": [
    "occ_day1 = occ_df[occ_df['jour'] == '2020-03-26']\n",
    "occ_day1.nom_station.unique()"
   ]
  },
  {
   "cell_type": "code",
   "execution_count": 8,
   "metadata": {},
   "outputs": [],
   "source": [
    "# Ce qui nous interesse désormais dans ce tableau\n",
    "# nom de la station et de la ville\n",
    "# lattitude et longitude\n",
    "# valeur Ozone\n",
    "\n",
    "occ_day1 = occ_day1[['X','Y','nom_com', 'nom_station', 'valeur', 'jour', 'centrer_reduire']]"
   ]
  },
  {
   "cell_type": "code",
   "execution_count": 9,
   "metadata": {},
   "outputs": [
    {
     "data": {
      "text/html": [
       "<div>\n",
       "<style scoped>\n",
       "    .dataframe tbody tr th:only-of-type {\n",
       "        vertical-align: middle;\n",
       "    }\n",
       "\n",
       "    .dataframe tbody tr th {\n",
       "        vertical-align: top;\n",
       "    }\n",
       "\n",
       "    .dataframe thead th {\n",
       "        text-align: right;\n",
       "    }\n",
       "</style>\n",
       "<table border=\"1\" class=\"dataframe\">\n",
       "  <thead>\n",
       "    <tr style=\"text-align: right;\">\n",
       "      <th></th>\n",
       "      <th>X</th>\n",
       "      <th>Y</th>\n",
       "      <th>nom_com</th>\n",
       "      <th>nom_station</th>\n",
       "      <th>valeur</th>\n",
       "      <th>jour</th>\n",
       "      <th>centrer_reduire</th>\n",
       "    </tr>\n",
       "  </thead>\n",
       "  <tbody>\n",
       "    <tr>\n",
       "      <td>47294</td>\n",
       "      <td>4.679690</td>\n",
       "      <td>43.9429</td>\n",
       "      <td>SAZE</td>\n",
       "      <td>Saze - rural</td>\n",
       "      <td>79.0</td>\n",
       "      <td>2020-03-26</td>\n",
       "      <td>0.768492</td>\n",
       "    </tr>\n",
       "    <tr>\n",
       "      <td>47297</td>\n",
       "      <td>1.438610</td>\n",
       "      <td>43.6236</td>\n",
       "      <td>TOULOUSE</td>\n",
       "      <td>Toulouse-Mazades Urbain</td>\n",
       "      <td>65.4</td>\n",
       "      <td>2020-03-26</td>\n",
       "      <td>0.166326</td>\n",
       "    </tr>\n",
       "    <tr>\n",
       "      <td>47298</td>\n",
       "      <td>4.374220</td>\n",
       "      <td>43.8344</td>\n",
       "      <td>NIMES</td>\n",
       "      <td>Nîmes Sud - urbain</td>\n",
       "      <td>74.9</td>\n",
       "      <td>2020-03-26</td>\n",
       "      <td>0.586957</td>\n",
       "    </tr>\n",
       "    <tr>\n",
       "      <td>47301</td>\n",
       "      <td>1.571110</td>\n",
       "      <td>43.4575</td>\n",
       "      <td>MONTGISCARD</td>\n",
       "      <td>Montgiscard Urbain</td>\n",
       "      <td>70.1</td>\n",
       "      <td>2020-03-26</td>\n",
       "      <td>0.374428</td>\n",
       "    </tr>\n",
       "    <tr>\n",
       "      <td>47302</td>\n",
       "      <td>1.821940</td>\n",
       "      <td>43.4414</td>\n",
       "      <td>BELESTA-EN-LAURAGAIS</td>\n",
       "      <td>Belesta en Lauragais Rural</td>\n",
       "      <td>74.4</td>\n",
       "      <td>2020-03-26</td>\n",
       "      <td>0.564818</td>\n",
       "    </tr>\n",
       "    <tr>\n",
       "      <td>47312</td>\n",
       "      <td>0.179722</td>\n",
       "      <td>43.6303</td>\n",
       "      <td>PEYRUSSE-VIEILLE</td>\n",
       "      <td>Peyrusse Vieille Rural</td>\n",
       "      <td>73.5</td>\n",
       "      <td>2020-03-26</td>\n",
       "      <td>0.524969</td>\n",
       "    </tr>\n",
       "    <tr>\n",
       "      <td>47324</td>\n",
       "      <td>1.418610</td>\n",
       "      <td>43.5756</td>\n",
       "      <td>TOULOUSE</td>\n",
       "      <td>Toulouse-Jacquier Urbain</td>\n",
       "      <td>68.8</td>\n",
       "      <td>2020-03-26</td>\n",
       "      <td>0.316868</td>\n",
       "    </tr>\n",
       "    <tr>\n",
       "      <td>51325</td>\n",
       "      <td>2.839870</td>\n",
       "      <td>42.7198</td>\n",
       "      <td>SAINT-ESTEVE</td>\n",
       "      <td>Saint Estève - périurbain</td>\n",
       "      <td>74.0</td>\n",
       "      <td>2020-03-26</td>\n",
       "      <td>0.547108</td>\n",
       "    </tr>\n",
       "    <tr>\n",
       "      <td>51327</td>\n",
       "      <td>2.230000</td>\n",
       "      <td>43.6106</td>\n",
       "      <td>CASTRES</td>\n",
       "      <td>Castres-Travet Urbain</td>\n",
       "      <td>56.2</td>\n",
       "      <td>2020-03-26</td>\n",
       "      <td>-0.241021</td>\n",
       "    </tr>\n",
       "    <tr>\n",
       "      <td>51353</td>\n",
       "      <td>3.911560</td>\n",
       "      <td>43.5706</td>\n",
       "      <td>LATTES</td>\n",
       "      <td>Montpellier Sud - Périurbain</td>\n",
       "      <td>72.7</td>\n",
       "      <td>2020-03-26</td>\n",
       "      <td>0.489548</td>\n",
       "    </tr>\n",
       "    <tr>\n",
       "      <td>51354</td>\n",
       "      <td>3.188810</td>\n",
       "      <td>43.4068</td>\n",
       "      <td>CORNEILHAN</td>\n",
       "      <td>Biterrois-Narbonnais - Périurbain</td>\n",
       "      <td>74.0</td>\n",
       "      <td>2020-03-26</td>\n",
       "      <td>0.547108</td>\n",
       "    </tr>\n",
       "    <tr>\n",
       "      <td>51356</td>\n",
       "      <td>3.800820</td>\n",
       "      <td>43.6954</td>\n",
       "      <td>SAINT-GELY-DU-FESC</td>\n",
       "      <td>Montpellier Nord - Périurbain</td>\n",
       "      <td>78.6</td>\n",
       "      <td>2020-03-26</td>\n",
       "      <td>0.750781</td>\n",
       "    </tr>\n",
       "    <tr>\n",
       "      <td>51358</td>\n",
       "      <td>4.265810</td>\n",
       "      <td>43.9254</td>\n",
       "      <td>LA CALMETTE</td>\n",
       "      <td>La Calmette - Périurbain</td>\n",
       "      <td>64.3</td>\n",
       "      <td>2020-03-26</td>\n",
       "      <td>0.117622</td>\n",
       "    </tr>\n",
       "    <tr>\n",
       "      <td>51359</td>\n",
       "      <td>3.886890</td>\n",
       "      <td>43.5915</td>\n",
       "      <td>MONTPELLIER</td>\n",
       "      <td>Montpellier - Prés d Arènes Urbain</td>\n",
       "      <td>83.8</td>\n",
       "      <td>2020-03-26</td>\n",
       "      <td>0.981021</td>\n",
       "    </tr>\n",
       "    <tr>\n",
       "      <td>51361</td>\n",
       "      <td>-0.038889</td>\n",
       "      <td>43.0969</td>\n",
       "      <td>LOURDES</td>\n",
       "      <td>Lourdes-Lapaca Urbain</td>\n",
       "      <td>77.0</td>\n",
       "      <td>2020-03-26</td>\n",
       "      <td>0.679938</td>\n",
       "    </tr>\n",
       "    <tr>\n",
       "      <td>51365</td>\n",
       "      <td>0.744722</td>\n",
       "      <td>43.0944</td>\n",
       "      <td>MIRAMONT-DE-COMMINGES</td>\n",
       "      <td>Saint Gaudens-Miramont Industriel</td>\n",
       "      <td>69.0</td>\n",
       "      <td>2020-03-26</td>\n",
       "      <td>0.325723</td>\n",
       "    </tr>\n",
       "    <tr>\n",
       "      <td>51366</td>\n",
       "      <td>1.443890</td>\n",
       "      <td>43.5872</td>\n",
       "      <td>TOULOUSE</td>\n",
       "      <td>Toulouse-Berthelot Urbain</td>\n",
       "      <td>65.2</td>\n",
       "      <td>2020-03-26</td>\n",
       "      <td>0.157471</td>\n",
       "    </tr>\n",
       "    <tr>\n",
       "      <td>51376</td>\n",
       "      <td>1.385410</td>\n",
       "      <td>43.5970</td>\n",
       "      <td>TOULOUSE</td>\n",
       "      <td>Station Pedagogique</td>\n",
       "      <td>63.5</td>\n",
       "      <td>2020-03-26</td>\n",
       "      <td>0.082200</td>\n",
       "    </tr>\n",
       "    <tr>\n",
       "      <td>51400</td>\n",
       "      <td>0.062222</td>\n",
       "      <td>43.2303</td>\n",
       "      <td>TARBES</td>\n",
       "      <td>Tarbes-Dupuy Urbain</td>\n",
       "      <td>80.9</td>\n",
       "      <td>2020-03-26</td>\n",
       "      <td>0.852618</td>\n",
       "    </tr>\n",
       "    <tr>\n",
       "      <td>51401</td>\n",
       "      <td>2.570700</td>\n",
       "      <td>44.3570</td>\n",
       "      <td>RODEZ</td>\n",
       "      <td>Rodez Urbain</td>\n",
       "      <td>80.2</td>\n",
       "      <td>2020-03-26</td>\n",
       "      <td>0.821624</td>\n",
       "    </tr>\n",
       "    <tr>\n",
       "      <td>51409</td>\n",
       "      <td>3.504830</td>\n",
       "      <td>43.2878</td>\n",
       "      <td>AGDE</td>\n",
       "      <td>Agathois-Piscénois - Périurbain</td>\n",
       "      <td>76.4</td>\n",
       "      <td>2020-03-26</td>\n",
       "      <td>0.653372</td>\n",
       "    </tr>\n",
       "    <tr>\n",
       "      <td>51413</td>\n",
       "      <td>2.524840</td>\n",
       "      <td>43.3233</td>\n",
       "      <td>CAUNES-MINERVOIS</td>\n",
       "      <td>Caunes-Minervois - rural</td>\n",
       "      <td>72.5</td>\n",
       "      <td>2020-03-26</td>\n",
       "      <td>0.480692</td>\n",
       "    </tr>\n",
       "    <tr>\n",
       "      <td>51416</td>\n",
       "      <td>2.899700</td>\n",
       "      <td>42.6958</td>\n",
       "      <td>PERPIGNAN</td>\n",
       "      <td>Perpignan Centre - urbain</td>\n",
       "      <td>50.8</td>\n",
       "      <td>2020-03-26</td>\n",
       "      <td>-0.480116</td>\n",
       "    </tr>\n",
       "  </tbody>\n",
       "</table>\n",
       "</div>"
      ],
      "text/plain": [
       "              X        Y                nom_com  \\\n",
       "47294  4.679690  43.9429                   SAZE   \n",
       "47297  1.438610  43.6236               TOULOUSE   \n",
       "47298  4.374220  43.8344                  NIMES   \n",
       "47301  1.571110  43.4575            MONTGISCARD   \n",
       "47302  1.821940  43.4414   BELESTA-EN-LAURAGAIS   \n",
       "47312  0.179722  43.6303       PEYRUSSE-VIEILLE   \n",
       "47324  1.418610  43.5756               TOULOUSE   \n",
       "51325  2.839870  42.7198           SAINT-ESTEVE   \n",
       "51327  2.230000  43.6106                CASTRES   \n",
       "51353  3.911560  43.5706                 LATTES   \n",
       "51354  3.188810  43.4068             CORNEILHAN   \n",
       "51356  3.800820  43.6954     SAINT-GELY-DU-FESC   \n",
       "51358  4.265810  43.9254            LA CALMETTE   \n",
       "51359  3.886890  43.5915            MONTPELLIER   \n",
       "51361 -0.038889  43.0969                LOURDES   \n",
       "51365  0.744722  43.0944  MIRAMONT-DE-COMMINGES   \n",
       "51366  1.443890  43.5872               TOULOUSE   \n",
       "51376  1.385410  43.5970               TOULOUSE   \n",
       "51400  0.062222  43.2303                 TARBES   \n",
       "51401  2.570700  44.3570                  RODEZ   \n",
       "51409  3.504830  43.2878                   AGDE   \n",
       "51413  2.524840  43.3233       CAUNES-MINERVOIS   \n",
       "51416  2.899700  42.6958              PERPIGNAN   \n",
       "\n",
       "                              nom_station  valeur        jour  centrer_reduire  \n",
       "47294                        Saze - rural    79.0  2020-03-26         0.768492  \n",
       "47297             Toulouse-Mazades Urbain    65.4  2020-03-26         0.166326  \n",
       "47298                  Nîmes Sud - urbain    74.9  2020-03-26         0.586957  \n",
       "47301                  Montgiscard Urbain    70.1  2020-03-26         0.374428  \n",
       "47302          Belesta en Lauragais Rural    74.4  2020-03-26         0.564818  \n",
       "47312              Peyrusse Vieille Rural    73.5  2020-03-26         0.524969  \n",
       "47324            Toulouse-Jacquier Urbain    68.8  2020-03-26         0.316868  \n",
       "51325           Saint Estève - périurbain    74.0  2020-03-26         0.547108  \n",
       "51327               Castres-Travet Urbain    56.2  2020-03-26        -0.241021  \n",
       "51353        Montpellier Sud - Périurbain    72.7  2020-03-26         0.489548  \n",
       "51354   Biterrois-Narbonnais - Périurbain    74.0  2020-03-26         0.547108  \n",
       "51356       Montpellier Nord - Périurbain    78.6  2020-03-26         0.750781  \n",
       "51358            La Calmette - Périurbain    64.3  2020-03-26         0.117622  \n",
       "51359  Montpellier - Prés d Arènes Urbain    83.8  2020-03-26         0.981021  \n",
       "51361               Lourdes-Lapaca Urbain    77.0  2020-03-26         0.679938  \n",
       "51365   Saint Gaudens-Miramont Industriel    69.0  2020-03-26         0.325723  \n",
       "51366           Toulouse-Berthelot Urbain    65.2  2020-03-26         0.157471  \n",
       "51376                 Station Pedagogique    63.5  2020-03-26         0.082200  \n",
       "51400                 Tarbes-Dupuy Urbain    80.9  2020-03-26         0.852618  \n",
       "51401                        Rodez Urbain    80.2  2020-03-26         0.821624  \n",
       "51409     Agathois-Piscénois - Périurbain    76.4  2020-03-26         0.653372  \n",
       "51413            Caunes-Minervois - rural    72.5  2020-03-26         0.480692  \n",
       "51416           Perpignan Centre - urbain    50.8  2020-03-26        -0.480116  "
      ]
     },
     "execution_count": 9,
     "metadata": {},
     "output_type": "execute_result"
    }
   ],
   "source": [
    "occ_day1 # nombre très raisonnable de données pour un jour"
   ]
  },
  {
   "cell_type": "code",
   "execution_count": 10,
   "metadata": {},
   "outputs": [],
   "source": [
    "import branca.colormap as cm\n",
    "\n",
    "linear = cm.LinearColormap(\n",
    "    ['green', 'yellow', 'red'],\n",
    "    vmin=-3, vmax=1\n",
    ")\n",
    "# couleurs"
   ]
  },
  {
   "cell_type": "code",
   "execution_count": 11,
   "metadata": {},
   "outputs": [],
   "source": [
    "map = folium.Map(location=[43.9333, 2.15], \n",
    "                 zoom_start=7.5, \n",
    "                 tiles='Stamen Terrain')\n",
    "\n",
    "for i in range(0,len(occ_day1)):\n",
    "   folium.Circle(\n",
    "      location=[occ_day1.iloc[i]['Y'], occ_day1.iloc[i]['X']],\n",
    "      popup=occ_day1.iloc[i]['nom_station'],\n",
    "      radius=occ_day1.iloc[i]['valeur']*100,\n",
    "      color='black',\n",
    "      fill=True,\n",
    "      fill_color=linear(occ_day1.iloc[i]['centrer_reduire']),\n",
    "       fill_opacity=0.5,\n",
    "       opacity=0.4,\n",
    "   ).add_to(map)\n",
    "\n",
    "map\n",
    "\n",
    "map.save('map_occitanie.html')\n",
    "\n",
    "\n",
    "# selectionner que certaines stations??\n"
   ]
  },
  {
   "cell_type": "code",
   "execution_count": 18,
   "metadata": {},
   "outputs": [
    {
     "data": {
      "text/plain": [
       "True"
      ]
     },
     "execution_count": 18,
     "metadata": {},
     "output_type": "execute_result"
    }
   ],
   "source": [
    "import webbrowser\n",
    "webbrowser.open('map_occitanie.html')"
   ]
  },
  {
   "cell_type": "markdown",
   "metadata": {},
   "source": [
    "## 3) Interactive pollution map"
   ]
  },
  {
   "cell_type": "code",
   "execution_count": 12,
   "metadata": {},
   "outputs": [],
   "source": [
    "from ipywidgets import interact  # widget manipulation\n",
    "from IPython.display import HTML"
   ]
  },
  {
   "cell_type": "code",
   "execution_count": 13,
   "metadata": {},
   "outputs": [],
   "source": [
    "# on doit dabord créer une fonction pour ensuite utiliser interact\n",
    "# plus simple de choisir le mois puis le jour...\n",
    "# rajoute Paris !!! \n",
    "\n",
    "def interactive_map(day = '2020-03-26'):\n",
    "    \n",
    "    occ_map = occ_df[occ_df['jour'] == day]\n",
    "    \n",
    "    map_int = folium.Map(location = [43.9333, 2.15], \n",
    "                         zoom_start = 7.5, \n",
    "                         tiles = 'Stamen Terrain')\n",
    "    \n",
    "    for i in range(0,len(occ_map)):\n",
    "        folium.Circle(\n",
    "            location = [occ_map.iloc[i]['Y'], occ_map.iloc[i]['X']],\n",
    "            popup = occ_map.iloc[i]['nom_station'],\n",
    "            radius = occ_map.iloc[i]['valeur']*100,\n",
    "            color = 'black',\n",
    "            fill = True,\n",
    "            fill_color = linear(occ_map.iloc[i]['centrer_reduire']),\n",
    "            fill_opacity = 0.5,\n",
    "            opacity = 0.4,\n",
    "        ).add_to(map_int)\n",
    "    \n",
    "    return(map_int)"
   ]
  },
  {
   "cell_type": "code",
   "execution_count": 14,
   "metadata": {},
   "outputs": [
    {
     "data": {
      "application/vnd.jupyter.widget-view+json": {
       "model_id": "d9a63684b0db4943a7b82ce3eda488b7",
       "version_major": 2,
       "version_minor": 0
      },
      "text/plain": [
       "interactive(children=(Text(value='2020-03-26', description='day'), Output()), _dom_classes=('widget-interact',…"
      ]
     },
     "metadata": {},
     "output_type": "display_data"
    },
    {
     "data": {
      "text/plain": [
       "<function __main__.interactive_map(day='2020-03-26')>"
      ]
     },
     "execution_count": 14,
     "metadata": {},
     "output_type": "execute_result"
    }
   ],
   "source": [
    "interact(interactive_map, month=occ_df.jour.unique())"
   ]
  },
  {
   "cell_type": "markdown",
   "metadata": {},
   "source": [
    "## 4) Animation \n"
   ]
  },
  {
   "cell_type": "code",
   "execution_count": 15,
   "metadata": {},
   "outputs": [],
   "source": [
    "import matplotlib.animation as animation\n",
    "# Comment obtient on une image de ce truc ?\n",
    "# Animons tout ça..."
   ]
  }
 ],
 "metadata": {
  "kernelspec": {
   "display_name": "Python 3",
   "language": "python",
   "name": "python3"
  },
  "language_info": {
   "codemirror_mode": {
    "name": "ipython",
    "version": 3
   },
   "file_extension": ".py",
   "mimetype": "text/x-python",
   "name": "python",
   "nbconvert_exporter": "python",
   "pygments_lexer": "ipython3",
   "version": "3.7.4"
  }
 },
 "nbformat": 4,
 "nbformat_minor": 2
}
