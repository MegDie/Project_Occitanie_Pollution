{
 "cells": [
  {
   "cell_type": "code",
   "execution_count": 1,
   "metadata": {},
   "outputs": [],
   "source": [
    "import matplotlib.pyplot as plt\n",
    "%matplotlib inline\n",
    "import matplotlib.colors as colors\n",
    "\n",
    "from numpy import array\n",
    "from numpy import max\n",
    "import numpy as np\n",
    "import pandas as pd\n",
    "import math\n",
    "import folium"
   ]
  },
  {
   "cell_type": "code",
   "execution_count": 2,
   "metadata": {},
   "outputs": [
    {
     "name": "stdout",
     "output_type": "stream",
     "text": [
      "Replace is False and data exists, so doing nothing. Use replace==True to re-download the data.\n"
     ]
    },
    {
     "data": {
      "text/plain": [
       "'datasets/Mesure_journaliere_Region_Occitanie_Polluants_Principaux.csv'"
      ]
     },
     "execution_count": 2,
     "metadata": {},
     "output_type": "execute_result"
    }
   ],
   "source": [
    "from download import download\n",
    "\n",
    "# We choose daily data\n",
    "url = \"https://opendata.arcgis.com/datasets/2ab16a5fb61f42c1a689fd9cc466383f_0.csv\"\n",
    "path_target = \"datasets/Mesure_journaliere_Region_Occitanie_Polluants_Principaux.csv\"\n",
    "download(url, path_target, replace=False)"
   ]
  },
  {
   "cell_type": "markdown",
   "metadata": {},
   "source": [
    "## 1) Data treatment"
   ]
  },
  {
   "cell_type": "code",
   "execution_count": 3,
   "metadata": {},
   "outputs": [],
   "source": [
    "occ_df = pd.read_csv(path_target)\n",
    "occ_df = occ_df[occ_df['nom_poll'] == 'O3'] # only ozone"
   ]
  },
  {
   "cell_type": "markdown",
   "metadata": {},
   "source": [
    "Que veut-on représenter? \n",
    "   +  Toutes les villes de notre data set en Occitanie\n",
    "   +  La question est quand ?\n",
    "   + Peut on faire varier la date interactivement\n",
    "   + Voila pourquoi on veut une video, on va voire la pollution évoluer\n",
    "   \n",
    "J'ai reflechi cette nuit et on developpera ici:\n",
    "   + Une map de l'occitanie qui affiche les données journalières\n",
    "   + Elle sera interactive et on pourra choisir le jour qu'on veut\n",
    "   + Il faudra certainement et au préalable nettoyer nos données"
   ]
  },
  {
   "cell_type": "code",
   "execution_count": 4,
   "metadata": {},
   "outputs": [
    {
     "name": "stderr",
     "output_type": "stream",
     "text": [
      "C:\\Users\\megan\\Anaconda3\\lib\\site-packages\\pandas\\core\\arrays\\datetimes.py:1269: UserWarning: Converting to PeriodArray/Index representation will drop timezone information.\n",
      "  UserWarning,\n"
     ]
    }
   ],
   "source": [
    "# On va traiter les données afin de rajouter une colonne de la date (jour)\n",
    "occ_df['jour'] = pd.to_datetime(occ_df['date_debut']).dt.to_period('D')\n",
    "# On rajoute une colonne pour avoir des valeurs standardisées\n",
    "# Cela va servir à avoir une échelle des couleurs plus claire\n",
    "occ_df['centrer_reduire'] = (occ_df[['valeur']] - np.mean(occ_df[['valeur']]))/ np.std(occ_df[['valeur']])"
   ]
  },
  {
   "cell_type": "code",
   "execution_count": 5,
   "metadata": {},
   "outputs": [
    {
     "data": {
      "text/plain": [
       "array(['Mende - Vernede urbain', 'Saze - rural',\n",
       "       'Toulouse-Berthelot Urbain', 'Montpellier Nord - Périurbain',\n",
       "       'Toulouse-Mazades Urbain', 'Albi Urbain',\n",
       "       'Montpellier - Prés d Arènes Urbain', 'Toulouse-Jacquier Urbain',\n",
       "       'Lourdes-Lapaca Urbain', 'Castres-Travet Urbain',\n",
       "       'Tarbes-Dupuy Urbain', 'Nîmes Sud - urbain',\n",
       "       'La Calmette - Périurbain', 'Peyrusse Vieille Rural',\n",
       "       'Montgiscard Urbain', 'Belesta en Lauragais Rural',\n",
       "       'Montpellier Sud - Périurbain', 'Saint Estève - périurbain',\n",
       "       'Agathois-Piscénois - Périurbain',\n",
       "       'Biterrois-Narbonnais - Périurbain',\n",
       "       'Saint Gaudens-Miramont Industriel', 'Rodez Urbain',\n",
       "       'Caunes-Minervois - rural', 'Carcassonne - urbain',\n",
       "       'Station Pedagogique', 'Perpignan Centre - urbain',\n",
       "       'Roqueredonde - rurale', 'Biars-sur-Cere - urbain',\n",
       "       'Vallabrègues - rural'], dtype=object)"
      ]
     },
     "execution_count": 5,
     "metadata": {},
     "output_type": "execute_result"
    }
   ],
   "source": [
    "occ_df.nom_station.unique()"
   ]
  },
  {
   "cell_type": "code",
   "execution_count": 6,
   "metadata": {},
   "outputs": [
    {
     "data": {
      "text/plain": [
       "<PeriodArray>\n",
       "['2019-12-27', '2019-12-28', '2020-02-19', '2020-02-26', '2019-12-29',\n",
       " '2019-12-30', '2020-02-20', '2019-12-31', '2020-01-01', '2019-10-16',\n",
       " ...\n",
       " '2020-04-07', '2020-04-08', '2020-03-27', '2020-03-28', '2020-03-29',\n",
       " '2020-03-30', '2020-03-31', '2020-04-01', '2019-12-22', '2019-12-25']\n",
       "Length: 363, dtype: period[D]"
      ]
     },
     "execution_count": 6,
     "metadata": {},
     "output_type": "execute_result"
    }
   ],
   "source": [
    "occ_df.jour.unique() # 362 jours, on fera varier notre map selon ces jours."
   ]
  },
  {
   "cell_type": "markdown",
   "metadata": {},
   "source": [
    "## 2) pollution map for one day "
   ]
  },
  {
   "cell_type": "markdown",
   "metadata": {},
   "source": [
    "On va prendre le tableau d'un jour en particulier pour commencer:"
   ]
  },
  {
   "cell_type": "code",
   "execution_count": 7,
   "metadata": {},
   "outputs": [
    {
     "data": {
      "text/plain": [
       "array(['Saze - rural', 'Toulouse-Mazades Urbain', 'Nîmes Sud - urbain',\n",
       "       'Montgiscard Urbain', 'Belesta en Lauragais Rural',\n",
       "       'Peyrusse Vieille Rural', 'Toulouse-Jacquier Urbain',\n",
       "       'Saint Estève - périurbain', 'Castres-Travet Urbain',\n",
       "       'Montpellier Sud - Périurbain',\n",
       "       'Biterrois-Narbonnais - Périurbain',\n",
       "       'Montpellier Nord - Périurbain', 'La Calmette - Périurbain',\n",
       "       'Montpellier - Prés d Arènes Urbain', 'Lourdes-Lapaca Urbain',\n",
       "       'Saint Gaudens-Miramont Industriel', 'Toulouse-Berthelot Urbain',\n",
       "       'Station Pedagogique', 'Tarbes-Dupuy Urbain', 'Rodez Urbain',\n",
       "       'Agathois-Piscénois - Périurbain', 'Caunes-Minervois - rural',\n",
       "       'Perpignan Centre - urbain'], dtype=object)"
      ]
     },
     "execution_count": 7,
     "metadata": {},
     "output_type": "execute_result"
    }
   ],
   "source": [
    "occ_day1 = occ_df[occ_df['jour'] == '2020-03-26']\n",
    "occ_day1.nom_station.unique()"
   ]
  },
  {
   "cell_type": "code",
   "execution_count": 8,
   "metadata": {},
   "outputs": [],
   "source": [
    "# Ce qui nous interesse désormais dans ce tableau\n",
    "# nom de la station et de la ville\n",
    "# lattitude et longitude\n",
    "# valeur Ozone\n",
    "\n",
    "occ_day1 = occ_day1[['X','Y','nom_com', 'nom_station', 'valeur', 'jour', 'centrer_reduire']]"
   ]
  },
  {
   "cell_type": "code",
   "execution_count": 9,
   "metadata": {},
   "outputs": [
    {
     "data": {
      "text/html": [
       "<div>\n",
       "<style scoped>\n",
       "    .dataframe tbody tr th:only-of-type {\n",
       "        vertical-align: middle;\n",
       "    }\n",
       "\n",
       "    .dataframe tbody tr th {\n",
       "        vertical-align: top;\n",
       "    }\n",
       "\n",
       "    .dataframe thead th {\n",
       "        text-align: right;\n",
       "    }\n",
       "</style>\n",
       "<table border=\"1\" class=\"dataframe\">\n",
       "  <thead>\n",
       "    <tr style=\"text-align: right;\">\n",
       "      <th></th>\n",
       "      <th>X</th>\n",
       "      <th>Y</th>\n",
       "      <th>nom_com</th>\n",
       "      <th>nom_station</th>\n",
       "      <th>valeur</th>\n",
       "      <th>jour</th>\n",
       "      <th>centrer_reduire</th>\n",
       "    </tr>\n",
       "  </thead>\n",
       "  <tbody>\n",
       "    <tr>\n",
       "      <td>47294</td>\n",
       "      <td>4.679690</td>\n",
       "      <td>43.9429</td>\n",
       "      <td>SAZE</td>\n",
       "      <td>Saze - rural</td>\n",
       "      <td>79.0</td>\n",
       "      <td>2020-03-26</td>\n",
       "      <td>0.768492</td>\n",
       "    </tr>\n",
       "    <tr>\n",
       "      <td>47297</td>\n",
       "      <td>1.438610</td>\n",
       "      <td>43.6236</td>\n",
       "      <td>TOULOUSE</td>\n",
       "      <td>Toulouse-Mazades Urbain</td>\n",
       "      <td>65.4</td>\n",
       "      <td>2020-03-26</td>\n",
       "      <td>0.166326</td>\n",
       "    </tr>\n",
       "    <tr>\n",
       "      <td>47298</td>\n",
       "      <td>4.374220</td>\n",
       "      <td>43.8344</td>\n",
       "      <td>NIMES</td>\n",
       "      <td>Nîmes Sud - urbain</td>\n",
       "      <td>74.9</td>\n",
       "      <td>2020-03-26</td>\n",
       "      <td>0.586957</td>\n",
       "    </tr>\n",
       "    <tr>\n",
       "      <td>47301</td>\n",
       "      <td>1.571110</td>\n",
       "      <td>43.4575</td>\n",
       "      <td>MONTGISCARD</td>\n",
       "      <td>Montgiscard Urbain</td>\n",
       "      <td>70.1</td>\n",
       "      <td>2020-03-26</td>\n",
       "      <td>0.374428</td>\n",
       "    </tr>\n",
       "    <tr>\n",
       "      <td>47302</td>\n",
       "      <td>1.821940</td>\n",
       "      <td>43.4414</td>\n",
       "      <td>BELESTA-EN-LAURAGAIS</td>\n",
       "      <td>Belesta en Lauragais Rural</td>\n",
       "      <td>74.4</td>\n",
       "      <td>2020-03-26</td>\n",
       "      <td>0.564818</td>\n",
       "    </tr>\n",
       "    <tr>\n",
       "      <td>47312</td>\n",
       "      <td>0.179722</td>\n",
       "      <td>43.6303</td>\n",
       "      <td>PEYRUSSE-VIEILLE</td>\n",
       "      <td>Peyrusse Vieille Rural</td>\n",
       "      <td>73.5</td>\n",
       "      <td>2020-03-26</td>\n",
       "      <td>0.524969</td>\n",
       "    </tr>\n",
       "    <tr>\n",
       "      <td>47324</td>\n",
       "      <td>1.418610</td>\n",
       "      <td>43.5756</td>\n",
       "      <td>TOULOUSE</td>\n",
       "      <td>Toulouse-Jacquier Urbain</td>\n",
       "      <td>68.8</td>\n",
       "      <td>2020-03-26</td>\n",
       "      <td>0.316868</td>\n",
       "    </tr>\n",
       "    <tr>\n",
       "      <td>51325</td>\n",
       "      <td>2.839870</td>\n",
       "      <td>42.7198</td>\n",
       "      <td>SAINT-ESTEVE</td>\n",
       "      <td>Saint Estève - périurbain</td>\n",
       "      <td>74.0</td>\n",
       "      <td>2020-03-26</td>\n",
       "      <td>0.547108</td>\n",
       "    </tr>\n",
       "    <tr>\n",
       "      <td>51327</td>\n",
       "      <td>2.230000</td>\n",
       "      <td>43.6106</td>\n",
       "      <td>CASTRES</td>\n",
       "      <td>Castres-Travet Urbain</td>\n",
       "      <td>56.2</td>\n",
       "      <td>2020-03-26</td>\n",
       "      <td>-0.241021</td>\n",
       "    </tr>\n",
       "    <tr>\n",
       "      <td>51353</td>\n",
       "      <td>3.911560</td>\n",
       "      <td>43.5706</td>\n",
       "      <td>LATTES</td>\n",
       "      <td>Montpellier Sud - Périurbain</td>\n",
       "      <td>72.7</td>\n",
       "      <td>2020-03-26</td>\n",
       "      <td>0.489548</td>\n",
       "    </tr>\n",
       "    <tr>\n",
       "      <td>51354</td>\n",
       "      <td>3.188810</td>\n",
       "      <td>43.4068</td>\n",
       "      <td>CORNEILHAN</td>\n",
       "      <td>Biterrois-Narbonnais - Périurbain</td>\n",
       "      <td>74.0</td>\n",
       "      <td>2020-03-26</td>\n",
       "      <td>0.547108</td>\n",
       "    </tr>\n",
       "    <tr>\n",
       "      <td>51356</td>\n",
       "      <td>3.800820</td>\n",
       "      <td>43.6954</td>\n",
       "      <td>SAINT-GELY-DU-FESC</td>\n",
       "      <td>Montpellier Nord - Périurbain</td>\n",
       "      <td>78.6</td>\n",
       "      <td>2020-03-26</td>\n",
       "      <td>0.750781</td>\n",
       "    </tr>\n",
       "    <tr>\n",
       "      <td>51358</td>\n",
       "      <td>4.265810</td>\n",
       "      <td>43.9254</td>\n",
       "      <td>LA CALMETTE</td>\n",
       "      <td>La Calmette - Périurbain</td>\n",
       "      <td>64.3</td>\n",
       "      <td>2020-03-26</td>\n",
       "      <td>0.117622</td>\n",
       "    </tr>\n",
       "    <tr>\n",
       "      <td>51359</td>\n",
       "      <td>3.886890</td>\n",
       "      <td>43.5915</td>\n",
       "      <td>MONTPELLIER</td>\n",
       "      <td>Montpellier - Prés d Arènes Urbain</td>\n",
       "      <td>83.8</td>\n",
       "      <td>2020-03-26</td>\n",
       "      <td>0.981021</td>\n",
       "    </tr>\n",
       "    <tr>\n",
       "      <td>51361</td>\n",
       "      <td>-0.038889</td>\n",
       "      <td>43.0969</td>\n",
       "      <td>LOURDES</td>\n",
       "      <td>Lourdes-Lapaca Urbain</td>\n",
       "      <td>77.0</td>\n",
       "      <td>2020-03-26</td>\n",
       "      <td>0.679938</td>\n",
       "    </tr>\n",
       "    <tr>\n",
       "      <td>51365</td>\n",
       "      <td>0.744722</td>\n",
       "      <td>43.0944</td>\n",
       "      <td>MIRAMONT-DE-COMMINGES</td>\n",
       "      <td>Saint Gaudens-Miramont Industriel</td>\n",
       "      <td>69.0</td>\n",
       "      <td>2020-03-26</td>\n",
       "      <td>0.325723</td>\n",
       "    </tr>\n",
       "    <tr>\n",
       "      <td>51366</td>\n",
       "      <td>1.443890</td>\n",
       "      <td>43.5872</td>\n",
       "      <td>TOULOUSE</td>\n",
       "      <td>Toulouse-Berthelot Urbain</td>\n",
       "      <td>65.2</td>\n",
       "      <td>2020-03-26</td>\n",
       "      <td>0.157471</td>\n",
       "    </tr>\n",
       "    <tr>\n",
       "      <td>51376</td>\n",
       "      <td>1.385410</td>\n",
       "      <td>43.5970</td>\n",
       "      <td>TOULOUSE</td>\n",
       "      <td>Station Pedagogique</td>\n",
       "      <td>63.5</td>\n",
       "      <td>2020-03-26</td>\n",
       "      <td>0.082200</td>\n",
       "    </tr>\n",
       "    <tr>\n",
       "      <td>51400</td>\n",
       "      <td>0.062222</td>\n",
       "      <td>43.2303</td>\n",
       "      <td>TARBES</td>\n",
       "      <td>Tarbes-Dupuy Urbain</td>\n",
       "      <td>80.9</td>\n",
       "      <td>2020-03-26</td>\n",
       "      <td>0.852618</td>\n",
       "    </tr>\n",
       "    <tr>\n",
       "      <td>51401</td>\n",
       "      <td>2.570700</td>\n",
       "      <td>44.3570</td>\n",
       "      <td>RODEZ</td>\n",
       "      <td>Rodez Urbain</td>\n",
       "      <td>80.2</td>\n",
       "      <td>2020-03-26</td>\n",
       "      <td>0.821624</td>\n",
       "    </tr>\n",
       "    <tr>\n",
       "      <td>51409</td>\n",
       "      <td>3.504830</td>\n",
       "      <td>43.2878</td>\n",
       "      <td>AGDE</td>\n",
       "      <td>Agathois-Piscénois - Périurbain</td>\n",
       "      <td>76.4</td>\n",
       "      <td>2020-03-26</td>\n",
       "      <td>0.653372</td>\n",
       "    </tr>\n",
       "    <tr>\n",
       "      <td>51413</td>\n",
       "      <td>2.524840</td>\n",
       "      <td>43.3233</td>\n",
       "      <td>CAUNES-MINERVOIS</td>\n",
       "      <td>Caunes-Minervois - rural</td>\n",
       "      <td>72.5</td>\n",
       "      <td>2020-03-26</td>\n",
       "      <td>0.480692</td>\n",
       "    </tr>\n",
       "    <tr>\n",
       "      <td>51416</td>\n",
       "      <td>2.899700</td>\n",
       "      <td>42.6958</td>\n",
       "      <td>PERPIGNAN</td>\n",
       "      <td>Perpignan Centre - urbain</td>\n",
       "      <td>50.8</td>\n",
       "      <td>2020-03-26</td>\n",
       "      <td>-0.480116</td>\n",
       "    </tr>\n",
       "  </tbody>\n",
       "</table>\n",
       "</div>"
      ],
      "text/plain": [
       "              X        Y                nom_com  \\\n",
       "47294  4.679690  43.9429                   SAZE   \n",
       "47297  1.438610  43.6236               TOULOUSE   \n",
       "47298  4.374220  43.8344                  NIMES   \n",
       "47301  1.571110  43.4575            MONTGISCARD   \n",
       "47302  1.821940  43.4414   BELESTA-EN-LAURAGAIS   \n",
       "47312  0.179722  43.6303       PEYRUSSE-VIEILLE   \n",
       "47324  1.418610  43.5756               TOULOUSE   \n",
       "51325  2.839870  42.7198           SAINT-ESTEVE   \n",
       "51327  2.230000  43.6106                CASTRES   \n",
       "51353  3.911560  43.5706                 LATTES   \n",
       "51354  3.188810  43.4068             CORNEILHAN   \n",
       "51356  3.800820  43.6954     SAINT-GELY-DU-FESC   \n",
       "51358  4.265810  43.9254            LA CALMETTE   \n",
       "51359  3.886890  43.5915            MONTPELLIER   \n",
       "51361 -0.038889  43.0969                LOURDES   \n",
       "51365  0.744722  43.0944  MIRAMONT-DE-COMMINGES   \n",
       "51366  1.443890  43.5872               TOULOUSE   \n",
       "51376  1.385410  43.5970               TOULOUSE   \n",
       "51400  0.062222  43.2303                 TARBES   \n",
       "51401  2.570700  44.3570                  RODEZ   \n",
       "51409  3.504830  43.2878                   AGDE   \n",
       "51413  2.524840  43.3233       CAUNES-MINERVOIS   \n",
       "51416  2.899700  42.6958              PERPIGNAN   \n",
       "\n",
       "                              nom_station  valeur        jour  centrer_reduire  \n",
       "47294                        Saze - rural    79.0  2020-03-26         0.768492  \n",
       "47297             Toulouse-Mazades Urbain    65.4  2020-03-26         0.166326  \n",
       "47298                  Nîmes Sud - urbain    74.9  2020-03-26         0.586957  \n",
       "47301                  Montgiscard Urbain    70.1  2020-03-26         0.374428  \n",
       "47302          Belesta en Lauragais Rural    74.4  2020-03-26         0.564818  \n",
       "47312              Peyrusse Vieille Rural    73.5  2020-03-26         0.524969  \n",
       "47324            Toulouse-Jacquier Urbain    68.8  2020-03-26         0.316868  \n",
       "51325           Saint Estève - périurbain    74.0  2020-03-26         0.547108  \n",
       "51327               Castres-Travet Urbain    56.2  2020-03-26        -0.241021  \n",
       "51353        Montpellier Sud - Périurbain    72.7  2020-03-26         0.489548  \n",
       "51354   Biterrois-Narbonnais - Périurbain    74.0  2020-03-26         0.547108  \n",
       "51356       Montpellier Nord - Périurbain    78.6  2020-03-26         0.750781  \n",
       "51358            La Calmette - Périurbain    64.3  2020-03-26         0.117622  \n",
       "51359  Montpellier - Prés d Arènes Urbain    83.8  2020-03-26         0.981021  \n",
       "51361               Lourdes-Lapaca Urbain    77.0  2020-03-26         0.679938  \n",
       "51365   Saint Gaudens-Miramont Industriel    69.0  2020-03-26         0.325723  \n",
       "51366           Toulouse-Berthelot Urbain    65.2  2020-03-26         0.157471  \n",
       "51376                 Station Pedagogique    63.5  2020-03-26         0.082200  \n",
       "51400                 Tarbes-Dupuy Urbain    80.9  2020-03-26         0.852618  \n",
       "51401                        Rodez Urbain    80.2  2020-03-26         0.821624  \n",
       "51409     Agathois-Piscénois - Périurbain    76.4  2020-03-26         0.653372  \n",
       "51413            Caunes-Minervois - rural    72.5  2020-03-26         0.480692  \n",
       "51416           Perpignan Centre - urbain    50.8  2020-03-26        -0.480116  "
      ]
     },
     "execution_count": 9,
     "metadata": {},
     "output_type": "execute_result"
    }
   ],
   "source": [
    "occ_day1 # nombre très raisonnable de données pour un jour"
   ]
  },
  {
   "cell_type": "code",
   "execution_count": 10,
   "metadata": {},
   "outputs": [],
   "source": [
    "import branca.colormap as cm\n",
    "\n",
    "linear = cm.LinearColormap(\n",
    "    ['green', 'yellow', 'red'],\n",
    "    vmin=-3, vmax=1\n",
    ")\n",
    "# couleurs"
   ]
  },
  {
   "cell_type": "code",
   "execution_count": 11,
   "metadata": {},
   "outputs": [
    {
     "data": {
      "text/html": [
       "<div style=\"width:100%;\"><div style=\"position:relative;width:100%;height:0;padding-bottom:60%;\"><iframe src=\"about:blank\" style=\"position:absolute;width:100%;height:100%;left:0;top:0;border:none !important;\" data-html=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 onload=\"this.contentDocument.open();this.contentDocument.write(atob(this.getAttribute('data-html')));this.contentDocument.close();\" allowfullscreen webkitallowfullscreen mozallowfullscreen></iframe></div></div>"
      ],
      "text/plain": [
       "<folium.folium.Map at 0x1e8410f2588>"
      ]
     },
     "execution_count": 11,
     "metadata": {},
     "output_type": "execute_result"
    }
   ],
   "source": [
    "map = folium.Map(location=[43.9333, 2.15], \n",
    "                 zoom_start=7.5, \n",
    "                 tiles='Stamen Terrain')\n",
    "\n",
    "for i in range(0,len(occ_day1)):\n",
    "   folium.Circle(\n",
    "      location=[occ_day1.iloc[i]['Y'], occ_day1.iloc[i]['X']],\n",
    "      popup=occ_day1.iloc[i]['nom_station'],\n",
    "      radius=occ_day1.iloc[i]['valeur']*100,\n",
    "      color='black',\n",
    "      fill=True,\n",
    "      fill_color=linear(occ_day1.iloc[i]['centrer_reduire']),\n",
    "       fill_opacity=0.5,\n",
    "       opacity=0.4,\n",
    "   ).add_to(map)\n",
    "\n",
    "map\n",
    "\n",
    "# selectionner que certaines stations??\n"
   ]
  },
  {
   "cell_type": "markdown",
   "metadata": {},
   "source": [
    "## 3) Interactive pollution map"
   ]
  },
  {
   "cell_type": "code",
   "execution_count": 12,
   "metadata": {},
   "outputs": [],
   "source": [
    "from ipywidgets import interact  # widget manipulation\n",
    "from IPython.display import HTML"
   ]
  },
  {
   "cell_type": "code",
   "execution_count": 13,
   "metadata": {},
   "outputs": [],
   "source": [
    "# on doit dabord créer une fonction pour ensuite utiliser interact\n",
    "# plus simple de choisir le mois puis le jour...\n",
    "# faisons d'abord avec que le jour (ça fera beaucoup de jours)\n",
    "\n",
    "def interactive_map(day = '2020-03-26'):\n",
    "    \n",
    "    occ_map = occ_df[occ_df['jour'] == day]\n",
    "    \n",
    "    map_int = folium.Map(location = [43.9333, 2.15], \n",
    "                         zoom_start = 7.5, \n",
    "                         tiles = 'Stamen Terrain')\n",
    "    \n",
    "    for i in range(0,len(occ_map)):\n",
    "        folium.Circle(\n",
    "            location = [occ_map.iloc[i]['Y'], occ_map.iloc[i]['X']],\n",
    "            popup = occ_map.iloc[i]['nom_station'],\n",
    "            radius = occ_map.iloc[i]['valeur']*100,\n",
    "            color = 'black',\n",
    "            fill = True,\n",
    "            fill_color = linear(occ_map.iloc[i]['centrer_reduire']),\n",
    "            fill_opacity = 0.5,\n",
    "            opacity = 0.4,\n",
    "        ).add_to(map_int)\n",
    "    \n",
    "    return(map_int)"
   ]
  },
  {
   "cell_type": "code",
   "execution_count": 14,
   "metadata": {},
   "outputs": [
    {
     "data": {
      "application/vnd.jupyter.widget-view+json": {
       "model_id": "68f1fa220aac4d38ad6a819b87268174",
       "version_major": 2,
       "version_minor": 0
      },
      "text/plain": [
       "interactive(children=(Text(value='2020-03-26', description='day'), Output()), _dom_classes=('widget-interact',…"
      ]
     },
     "metadata": {},
     "output_type": "display_data"
    },
    {
     "data": {
      "text/plain": [
       "<function __main__.interactive_map(day='2020-03-26')>"
      ]
     },
     "execution_count": 14,
     "metadata": {},
     "output_type": "execute_result"
    }
   ],
   "source": [
    "interact(interactive_map, month=occ_df.jour.unique())"
   ]
  },
  {
   "cell_type": "code",
   "execution_count": 15,
   "metadata": {},
   "outputs": [],
   "source": [
    "import matplotlib.animation as animation\n",
    "# Faire un truc interactif où on selectionne le mois et le jour\n",
    "# Comment obtient on une image de ce truc ?\n",
    "# Animons tout ça..."
   ]
  }
 ],
 "metadata": {
  "kernelspec": {
   "display_name": "Python 3",
   "language": "python",
   "name": "python3"
  },
  "language_info": {
   "codemirror_mode": {
    "name": "ipython",
    "version": 3
   },
   "file_extension": ".py",
   "mimetype": "text/x-python",
   "name": "python",
   "nbconvert_exporter": "python",
   "pygments_lexer": "ipython3",
   "version": "3.7.4"
  }
 },
 "nbformat": 4,
 "nbformat_minor": 2
}
