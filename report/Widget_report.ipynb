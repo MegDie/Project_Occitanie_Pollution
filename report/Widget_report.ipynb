{
 "cells": [
  {
   "cell_type": "markdown",
   "metadata": {},
   "source": [
    "# Development of a Widget"
   ]
  },
  {
   "cell_type": "markdown",
   "metadata": {},
   "source": [
    "The goal of this notebook is providing a widget. \n",
    "\n",
    "This widget will compare the level of ozone pollution in cities of Occitanie.\n",
    "The widget will offer 2 interactive options: \n",
    "  +  The first one allows you to choose three cities\n",
    "  +  The second one allows you to choose the month on the past 12 months"
   ]
  },
  {
   "cell_type": "code",
   "execution_count": 1,
   "metadata": {},
   "outputs": [],
   "source": [
    "import pandas as pd\n",
    "import numpy as np\n",
    "import matplotlib.pyplot as plt\n",
    "import seaborn as sns\n",
    "from ipywidgets import interact  # widget manipulation\n",
    "from IPython.display import HTML"
   ]
  },
  {
   "cell_type": "markdown",
   "metadata": {},
   "source": [
    "## 1)  Data importation:\n"
   ]
  },
  {
   "cell_type": "markdown",
   "metadata": {},
   "source": [
    "We import data from the following website:\n",
    "\n",
    "http://data-atmo-occitanie.opendata.arcgis.com/datasets/4a648b54876f485e92f22e2ad5a5da32_0\n",
    "\n",
    "This website is about quality monitoring in the Occitanie region. There are daily, monthly and annual data about pollution."
   ]
  },
  {
   "cell_type": "code",
   "execution_count": 2,
   "metadata": {},
   "outputs": [
    {
     "name": "stdout",
     "output_type": "stream",
     "text": [
      "Downloading data from https://opendata.arcgis.com/datasets/2ab16a5fb61f42c1a689fd9cc466383f_0.csv (1 byte)\n",
      "\n"
     ]
    },
    {
     "name": "stderr",
     "output_type": "stream",
     "text": [
      "                                                                                \r"
     ]
    },
    {
     "name": "stdout",
     "output_type": "stream",
     "text": [
      "Successfully downloaded file to datasets/Mesure_journaliere_Region_Occitanie_Polluants_Principaux.csv\n"
     ]
    },
    {
     "name": "stderr",
     "output_type": "stream",
     "text": [
      "\r",
      "file_sizes: 10.7MB [00:10, 1.04MB/s]"
     ]
    },
    {
     "data": {
      "text/plain": [
       "'datasets/Mesure_journaliere_Region_Occitanie_Polluants_Principaux.csv'"
      ]
     },
     "execution_count": 2,
     "metadata": {},
     "output_type": "execute_result"
    }
   ],
   "source": [
    "from download import download\n",
    "# We choose daily data\n",
    "url = \"https://opendata.arcgis.com/datasets/2ab16a5fb61f42c1a689fd9cc466383f_0.csv\"\n",
    "path_target = \"datasets/Mesure_journaliere_Region_Occitanie_Polluants_Principaux.csv\"\n",
    "download(url, path_target, replace=True)"
   ]
  },
  {
   "cell_type": "code",
   "execution_count": 3,
   "metadata": {},
   "outputs": [],
   "source": [
    "occ = pd.read_csv(path_target) # all data of Occitanie"
   ]
  },
  {
   "cell_type": "markdown",
   "metadata": {},
   "source": [
    "## 2) Data treatment"
   ]
  },
  {
   "cell_type": "markdown",
   "metadata": {},
   "source": [
    "We must give the date a usable format to exploit datas:"
   ]
  },
  {
   "cell_type": "code",
   "execution_count": 4,
   "metadata": {},
   "outputs": [
    {
     "name": "stderr",
     "output_type": "stream",
     "text": [
      "C:\\Users\\megan\\Anaconda3\\lib\\site-packages\\pandas\\core\\arrays\\datetimes.py:1269: UserWarning: Converting to PeriodArray/Index representation will drop timezone information.\n",
      "  UserWarning,\n"
     ]
    }
   ],
   "source": [
    "occ['date'] = pd.to_datetime(occ['date_debut']).dt.to_period('M')\n",
    "#https://pandas.pydata.org/pandas-docs/stable/reference/api/pandas.Series.dt.to_period.html\n",
    "#https://pandas.pydata.org/pandas-docs/stable/reference/api/pandas.to_datetime.html"
   ]
  },
  {
   "cell_type": "markdown",
   "metadata": {},
   "source": [
    "Variables we care about for our widget in this dataset are: \n",
    "\n",
    "   + *nom_com* : name of the city\n",
    "   + *nom_station* : station's name, usefull because there can be more than one station per city\n",
    "   + *code_station* : station's code\n",
    "   + *nom_poll* : polluting's name\n",
    "   + *valeur* : value of polluting\n",
    "   + *date_debut*: with the format year/month/day/hour that make the beginning of the measurement\n",
    "   + *date_fin*: end of the measurement"
   ]
  },
  {
   "cell_type": "markdown",
   "metadata": {},
   "source": [
    "We only care about one pollutiong: **Ozone** "
   ]
  },
  {
   "cell_type": "code",
   "execution_count": 5,
   "metadata": {},
   "outputs": [],
   "source": [
    "occ = occ[occ['nom_poll'] == 'O3'] # only ozone"
   ]
  },
  {
   "cell_type": "markdown",
   "metadata": {},
   "source": [
    "The available cities for ozone data are:"
   ]
  },
  {
   "cell_type": "code",
   "execution_count": 6,
   "metadata": {
    "scrolled": true
   },
   "outputs": [
    {
     "data": {
      "text/plain": [
       "array(['NIMES', 'AGDE', 'CAUNES-MINERVOIS', 'BELESTA-EN-LAURAGAIS',\n",
       "       'MONTGISCARD', 'MIRAMONT-DE-COMMINGES', 'PERPIGNAN',\n",
       "       'SAINT-ESTEVE', 'PEYRUSSE-VIEILLE', 'LA CALMETTE', 'TOULOUSE',\n",
       "       'MONTPELLIER', 'TARBES', 'CARCASSONNE', 'LATTES',\n",
       "       'SAINT-GELY-DU-FESC', 'LOURDES', 'ROQUEREDONDE', 'ALBI', 'RODEZ',\n",
       "       'BIARS-SUR-CERE', 'SAZE', 'CASTRES', 'CORNEILHAN', 'MENDE',\n",
       "       'VALLABREGUES'], dtype=object)"
      ]
     },
     "execution_count": 6,
     "metadata": {},
     "output_type": "execute_result"
    }
   ],
   "source": [
    "occ.nom_com.unique() # cities with ozone data available "
   ]
  },
  {
   "cell_type": "markdown",
   "metadata": {},
   "source": [
    "It's 26 cities with more stations."
   ]
  },
  {
   "cell_type": "markdown",
   "metadata": {},
   "source": [
    "## 3) Widget Development"
   ]
  },
  {
   "cell_type": "markdown",
   "metadata": {},
   "source": [
    "This first widget only allow to choose the date. 3 cities are already choosen: Lourdes, Toulouse and Montpellier."
   ]
  },
  {
   "cell_type": "code",
   "execution_count": 7,
   "metadata": {},
   "outputs": [],
   "source": [
    "def poluted_cities0(month):\n",
    "    \n",
    "    station = 'FR50030', 'FR50200', 'FR50042'\n",
    "    df_villes = occ[occ['code_station'].isin(station)]\n",
    "    \n",
    "    df_villes = df_villes[df_villes.date == month]\n",
    "    \n",
    "    plt.style.use('dark_background')\n",
    "    sns.catplot(x = 'nom_com', y = 'valeur', \n",
    "            data = df_villes,\n",
    "            height = 3, aspect = 2,\n",
    "            kind = 'boxen')\n",
    "    plt.tight_layout()\n",
    "    plt.xlabel('Cities')\n",
    "    plt.ylabel('O3')\n",
    "    plt.title(\"Ozone measurement of 3 cities in a month\")\n",
    "    plt.show()"
   ]
  },
  {
   "cell_type": "code",
   "execution_count": 8,
   "metadata": {},
   "outputs": [
    {
     "data": {
      "application/vnd.jupyter.widget-view+json": {
       "model_id": "131b35fbe8dc4e2483b46d78953b71cb",
       "version_major": 2,
       "version_minor": 0
      },
      "text/plain": [
       "interactive(children=(Dropdown(description='month', options=(Period('2019-08', 'M'), Period('2019-12', 'M'), P…"
      ]
     },
     "metadata": {},
     "output_type": "display_data"
    },
    {
     "data": {
      "text/plain": [
       "<function __main__.poluted_cities0(month)>"
      ]
     },
     "execution_count": 8,
     "metadata": {},
     "output_type": "execute_result"
    }
   ],
   "source": [
    "interact(poluted_cities0, month=occ.date.unique())"
   ]
  },
  {
   "cell_type": "markdown",
   "metadata": {},
   "source": [
    "## 4) Second Widget development"
   ]
  },
  {
   "cell_type": "markdown",
   "metadata": {},
   "source": [
    "The following widget compares again pollution in three cities, but we can both choose the cities and the month:"
   ]
  },
  {
   "cell_type": "code",
   "execution_count": 9,
   "metadata": {},
   "outputs": [],
   "source": [
    "def poluted_cities(month, station_1='Montpellier Nord - Périurbain', \n",
    "                    station_2='Lourdes-Lapaca Urbain', \n",
    "                    station_3='Toulouse-Berthelot Urbain'):\n",
    "    \n",
    "    stations = station_1, station_2, station_3\n",
    "    \n",
    "    df_station = occ[occ['nom_station'].isin(stations)] # only stations we ask\n",
    "    df_station = df_station[df_station['nom_poll'] == 'O3'] # only ozone  \n",
    "    df_station = df_station[df_station.date == month]\n",
    "    df_station = df_station[['nom_com', 'nom_station', 'valeur', 'date']]\n",
    "    \n",
    "    plt.style.use('dark_background')\n",
    "    sns.catplot(x = 'nom_com', y = 'valeur', \n",
    "            data = df_station,\n",
    "            height = 3, aspect = 2,\n",
    "            kind = 'boxen')\n",
    "    plt.tight_layout()\n",
    "    plt.xlabel('Cities')\n",
    "    plt.ylabel('O3')\n",
    "    plt.title(\"Ozone measurement of 3 cities in a month\")\n",
    "    plt.show()    "
   ]
  },
  {
   "cell_type": "code",
   "execution_count": 10,
   "metadata": {},
   "outputs": [
    {
     "data": {
      "application/vnd.jupyter.widget-view+json": {
       "model_id": "67fb17072b00428f9d93b5c118aa859b",
       "version_major": 2,
       "version_minor": 0
      },
      "text/plain": [
       "interactive(children=(Dropdown(description='month', options=(Period('2019-08', 'M'), Period('2019-12', 'M'), P…"
      ]
     },
     "metadata": {},
     "output_type": "display_data"
    },
    {
     "data": {
      "text/plain": [
       "<function __main__.poluted_cities(month, station_1='Montpellier Nord - Périurbain', station_2='Lourdes-Lapaca Urbain', station_3='Toulouse-Berthelot Urbain')>"
      ]
     },
     "execution_count": 10,
     "metadata": {},
     "output_type": "execute_result"
    }
   ],
   "source": [
    "interact(poluted_cities, station_1=occ.nom_station.unique(), \n",
    "         station_2=occ.nom_station.unique(), \n",
    "         station_3=occ.nom_station.unique(), \n",
    "         month=occ.date.unique())"
   ]
  },
  {
   "cell_type": "markdown",
   "metadata": {},
   "source": [
    "*Warning: the current month is not complete, as is the first month of the dataset, only one year of data is available.*"
   ]
  }
 ],
 "metadata": {
  "kernelspec": {
   "display_name": "Python 3",
   "language": "python",
   "name": "python3"
  },
  "language_info": {
   "codemirror_mode": {
    "name": "ipython",
    "version": 3
   },
   "file_extension": ".py",
   "mimetype": "text/x-python",
   "name": "python",
   "nbconvert_exporter": "python",
   "pygments_lexer": "ipython3",
   "version": "3.7.4"
  },
  "widgets": {
   "application/vnd.jupyter.widget-state+json": {
    "state": {
     "0c58a01ca036493eb520379e6a3f227f": {
      "model_module": "@jupyter-widgets/controls",
      "model_module_version": "1.5.0",
      "model_name": "DropdownModel",
      "state": {
       "_options_labels": [
        "Nîmes Sud - urbain",
        "Agathois-Piscénois - Périurbain",
        "Caunes-Minervois - rural",
        "Belesta en Lauragais Rural",
        "Montgiscard Urbain",
        "Saint Gaudens-Miramont Industriel",
        "Perpignan Centre - urbain",
        "Saint Estève - périurbain",
        "Peyrusse Vieille Rural",
        "La Calmette - Périurbain",
        "Toulouse-Mazades Urbain",
        "Montpellier - Prés d Arènes Urbain",
        "Toulouse-Jacquier Urbain",
        "Toulouse-Berthelot Urbain",
        "Tarbes-Dupuy Urbain",
        "Carcassonne - urbain",
        "Montpellier Sud - Périurbain",
        "Montpellier Nord - Périurbain",
        "Lourdes-Lapaca Urbain",
        "Roqueredonde - rurale",
        "Albi Urbain",
        "Rodez Urbain",
        "Biars-sur-Cere - urbain",
        "Station Pedagogique",
        "Saze - rural",
        "Castres-Travet Urbain",
        "Biterrois-Narbonnais - Périurbain",
        "Mende - Vernede urbain",
        "Vallabrègues - rural"
       ],
       "description": "station_3",
       "index": 13,
       "layout": "IPY_MODEL_8f834854e28b4e5ea131fe0e13d7f64b",
       "style": "IPY_MODEL_f5edeca768ba4dedabd656b039670127"
      }
     },
     "1070197d64bc4bf49bb4689383389811": {
      "model_module": "@jupyter-widgets/controls",
      "model_module_version": "1.5.0",
      "model_name": "DropdownModel",
      "state": {
       "_options_labels": [
        "Nîmes Sud - urbain",
        "Agathois-Piscénois - Périurbain",
        "Caunes-Minervois - rural",
        "Belesta en Lauragais Rural",
        "Montgiscard Urbain",
        "Saint Gaudens-Miramont Industriel",
        "Perpignan Centre - urbain",
        "Saint Estève - périurbain",
        "Peyrusse Vieille Rural",
        "La Calmette - Périurbain",
        "Toulouse-Mazades Urbain",
        "Montpellier - Prés d Arènes Urbain",
        "Toulouse-Jacquier Urbain",
        "Toulouse-Berthelot Urbain",
        "Tarbes-Dupuy Urbain",
        "Carcassonne - urbain",
        "Montpellier Sud - Périurbain",
        "Montpellier Nord - Périurbain",
        "Lourdes-Lapaca Urbain",
        "Roqueredonde - rurale",
        "Albi Urbain",
        "Rodez Urbain",
        "Biars-sur-Cere - urbain",
        "Station Pedagogique",
        "Saze - rural",
        "Castres-Travet Urbain",
        "Biterrois-Narbonnais - Périurbain",
        "Mende - Vernede urbain",
        "Vallabrègues - rural"
       ],
       "description": "station_1",
       "index": 17,
       "layout": "IPY_MODEL_1fa5091a67764a0e9a5c3b573f870caf",
       "style": "IPY_MODEL_ef2a277f637a4c758f28369cffbdc3a8"
      }
     },
     "131b35fbe8dc4e2483b46d78953b71cb": {
      "model_module": "@jupyter-widgets/controls",
      "model_module_version": "1.5.0",
      "model_name": "VBoxModel",
      "state": {
       "_dom_classes": [
        "widget-interact"
       ],
       "children": [
        "IPY_MODEL_3763898fe7364434b11b3759f2da0f98",
        "IPY_MODEL_4aae114a6c0b4523b194112869501454"
       ],
       "layout": "IPY_MODEL_8745daeff2294d688091e1069f3b573a"
      }
     },
     "175f52e81f1c4a17870d72606c0914d6": {
      "model_module": "@jupyter-widgets/base",
      "model_module_version": "1.2.0",
      "model_name": "LayoutModel",
      "state": {}
     },
     "1fa5091a67764a0e9a5c3b573f870caf": {
      "model_module": "@jupyter-widgets/base",
      "model_module_version": "1.2.0",
      "model_name": "LayoutModel",
      "state": {}
     },
     "28465373ba1b455d9260d24f423ffeff": {
      "model_module": "@jupyter-widgets/controls",
      "model_module_version": "1.5.0",
      "model_name": "DropdownModel",
      "state": {
       "_options_labels": [
        "2019-08",
        "2019-12",
        "2019-05",
        "2020-03",
        "2019-09",
        "2019-10",
        "2020-01",
        "2019-07",
        "2019-11",
        "2020-04",
        "2019-06",
        "2020-02",
        "2019-04"
       ],
       "description": "month",
       "index": 0,
       "layout": "IPY_MODEL_175f52e81f1c4a17870d72606c0914d6",
       "style": "IPY_MODEL_7d054b4222c54a8caac1fac936f95ab3"
      }
     },
     "3763898fe7364434b11b3759f2da0f98": {
      "model_module": "@jupyter-widgets/controls",
      "model_module_version": "1.5.0",
      "model_name": "DropdownModel",
      "state": {
       "_options_labels": [
        "2019-08",
        "2019-12",
        "2019-05",
        "2020-03",
        "2019-09",
        "2019-10",
        "2020-01",
        "2019-07",
        "2019-11",
        "2020-04",
        "2019-06",
        "2020-02",
        "2019-04"
       ],
       "description": "month",
       "index": 0,
       "layout": "IPY_MODEL_be0c50fdb12a4080956f49525c2e8e55",
       "style": "IPY_MODEL_8a59f0851c714b369dcedd6ac8a7e3b2"
      }
     },
     "3adc2e4a60204f2f83c4555765c88361": {
      "model_module": "@jupyter-widgets/controls",
      "model_module_version": "1.5.0",
      "model_name": "DropdownModel",
      "state": {
       "_options_labels": [
        "Nîmes Sud - urbain",
        "Agathois-Piscénois - Périurbain",
        "Caunes-Minervois - rural",
        "Belesta en Lauragais Rural",
        "Montgiscard Urbain",
        "Saint Gaudens-Miramont Industriel",
        "Perpignan Centre - urbain",
        "Saint Estève - périurbain",
        "Peyrusse Vieille Rural",
        "La Calmette - Périurbain",
        "Toulouse-Mazades Urbain",
        "Montpellier - Prés d Arènes Urbain",
        "Toulouse-Jacquier Urbain",
        "Toulouse-Berthelot Urbain",
        "Tarbes-Dupuy Urbain",
        "Carcassonne - urbain",
        "Montpellier Sud - Périurbain",
        "Montpellier Nord - Périurbain",
        "Lourdes-Lapaca Urbain",
        "Roqueredonde - rurale",
        "Albi Urbain",
        "Rodez Urbain",
        "Biars-sur-Cere - urbain",
        "Station Pedagogique",
        "Saze - rural",
        "Castres-Travet Urbain",
        "Biterrois-Narbonnais - Périurbain",
        "Mende - Vernede urbain",
        "Vallabrègues - rural"
       ],
       "description": "station_2",
       "index": 18,
       "layout": "IPY_MODEL_c93f440267b741dabe6c3c1356d8f40f",
       "style": "IPY_MODEL_89adf41bb43947eb865f7251f263c68c"
      }
     },
     "3e648da2d8f845aea8e937b81b107b50": {
      "model_module": "@jupyter-widgets/base",
      "model_module_version": "1.2.0",
      "model_name": "LayoutModel",
      "state": {}
     },
     "459ea62ee4534771856f8723328820f5": {
      "model_module": "@jupyter-widgets/base",
      "model_module_version": "1.2.0",
      "model_name": "LayoutModel",
      "state": {}
     },
     "4aae114a6c0b4523b194112869501454": {
      "model_module": "@jupyter-widgets/output",
      "model_module_version": "1.0.0",
      "model_name": "OutputModel",
      "state": {
       "layout": "IPY_MODEL_3e648da2d8f845aea8e937b81b107b50",
       "outputs": [
        {
         "data": {
          "image/png": "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\n",
          "text/plain": "<Figure size 432x216 with 1 Axes>"
         },
         "metadata": {},
         "output_type": "display_data"
        }
       ]
      }
     },
     "67fb17072b00428f9d93b5c118aa859b": {
      "model_module": "@jupyter-widgets/controls",
      "model_module_version": "1.5.0",
      "model_name": "VBoxModel",
      "state": {
       "_dom_classes": [
        "widget-interact"
       ],
       "children": [
        "IPY_MODEL_28465373ba1b455d9260d24f423ffeff",
        "IPY_MODEL_1070197d64bc4bf49bb4689383389811",
        "IPY_MODEL_3adc2e4a60204f2f83c4555765c88361",
        "IPY_MODEL_0c58a01ca036493eb520379e6a3f227f",
        "IPY_MODEL_95c0c78a0dc141c6bcd49d2fa7d9b9ce"
       ],
       "layout": "IPY_MODEL_459ea62ee4534771856f8723328820f5"
      }
     },
     "7d054b4222c54a8caac1fac936f95ab3": {
      "model_module": "@jupyter-widgets/controls",
      "model_module_version": "1.5.0",
      "model_name": "DescriptionStyleModel",
      "state": {
       "description_width": ""
      }
     },
     "8745daeff2294d688091e1069f3b573a": {
      "model_module": "@jupyter-widgets/base",
      "model_module_version": "1.2.0",
      "model_name": "LayoutModel",
      "state": {}
     },
     "89adf41bb43947eb865f7251f263c68c": {
      "model_module": "@jupyter-widgets/controls",
      "model_module_version": "1.5.0",
      "model_name": "DescriptionStyleModel",
      "state": {
       "description_width": ""
      }
     },
     "8a59f0851c714b369dcedd6ac8a7e3b2": {
      "model_module": "@jupyter-widgets/controls",
      "model_module_version": "1.5.0",
      "model_name": "DescriptionStyleModel",
      "state": {
       "description_width": ""
      }
     },
     "8f834854e28b4e5ea131fe0e13d7f64b": {
      "model_module": "@jupyter-widgets/base",
      "model_module_version": "1.2.0",
      "model_name": "LayoutModel",
      "state": {}
     },
     "8ffebcf7261740888a5929899095d4c6": {
      "model_module": "@jupyter-widgets/base",
      "model_module_version": "1.2.0",
      "model_name": "LayoutModel",
      "state": {}
     },
     "95c0c78a0dc141c6bcd49d2fa7d9b9ce": {
      "model_module": "@jupyter-widgets/output",
      "model_module_version": "1.0.0",
      "model_name": "OutputModel",
      "state": {
       "layout": "IPY_MODEL_8ffebcf7261740888a5929899095d4c6",
       "outputs": [
        {
         "data": {
          "image/png": "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\n",
          "text/plain": "<Figure size 432x216 with 1 Axes>"
         },
         "metadata": {},
         "output_type": "display_data"
        },
        {
         "name": "stderr",
         "output_type": "stream",
         "text": "\rfile_sizes: 10.7MB [00:30, 1.04MB/s]"
        }
       ]
      }
     },
     "be0c50fdb12a4080956f49525c2e8e55": {
      "model_module": "@jupyter-widgets/base",
      "model_module_version": "1.2.0",
      "model_name": "LayoutModel",
      "state": {}
     },
     "c93f440267b741dabe6c3c1356d8f40f": {
      "model_module": "@jupyter-widgets/base",
      "model_module_version": "1.2.0",
      "model_name": "LayoutModel",
      "state": {}
     },
     "ef2a277f637a4c758f28369cffbdc3a8": {
      "model_module": "@jupyter-widgets/controls",
      "model_module_version": "1.5.0",
      "model_name": "DescriptionStyleModel",
      "state": {
       "description_width": ""
      }
     },
     "f5edeca768ba4dedabd656b039670127": {
      "model_module": "@jupyter-widgets/controls",
      "model_module_version": "1.5.0",
      "model_name": "DescriptionStyleModel",
      "state": {
       "description_width": ""
      }
     }
    },
    "version_major": 2,
    "version_minor": 0
   }
  }
 },
 "nbformat": 4,
 "nbformat_minor": 2
}
