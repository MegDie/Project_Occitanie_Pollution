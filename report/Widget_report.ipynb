{
 "cells": [
  {
   "cell_type": "markdown",
   "metadata": {},
   "source": [
    "# Development of a Widget"
   ]
  },
  {
   "cell_type": "markdown",
   "metadata": {},
   "source": [
    "The goal of this notebook is providing a widget. \n",
    "\n",
    "This widget will compare the level of ozone pollution in cities of Occitanie.\n",
    "The widget will offer 2 interactive options: \n",
    "  +  The first one allows you to choose three cities\n",
    "  +  The second one allows you to choose the month on the past 12 months"
   ]
  },
  {
   "cell_type": "code",
   "execution_count": 2,
   "metadata": {},
   "outputs": [
    {
     "name": "stderr",
     "output_type": "stream",
     "text": [
      "\r",
      "file_sizes: 10.7MB [00:30, 603kB/s]"
     ]
    }
   ],
   "source": [
    "import pandas as pd\n",
    "import numpy as np\n",
    "import matplotlib.pyplot as plt\n",
    "import seaborn as sns\n",
    "from ipywidgets import interact  # widget manipulation\n",
    "from IPython.display import HTML"
   ]
  },
  {
   "cell_type": "markdown",
   "metadata": {},
   "source": [
    "## 1)  Data importation:\n"
   ]
  },
  {
   "cell_type": "markdown",
   "metadata": {},
   "source": [
    "We import data from the following website:\n",
    "\n",
    "http://data-atmo-occitanie.opendata.arcgis.com/datasets/4a648b54876f485e92f22e2ad5a5da32_0\n",
    "\n",
    "This website is about quality monitoring in the Occitanie region. There are daily, monthly and annual data about pollution."
   ]
  },
  {
   "cell_type": "code",
   "execution_count": 1,
   "metadata": {},
   "outputs": [
    {
     "name": "stdout",
     "output_type": "stream",
     "text": [
      "Downloading data from https://opendata.arcgis.com/datasets/2ab16a5fb61f42c1a689fd9cc466383f_0.csv (1 byte)\n",
      "\n"
     ]
    },
    {
     "name": "stderr",
     "output_type": "stream",
     "text": [
      "                                                                                \r"
     ]
    },
    {
     "name": "stdout",
     "output_type": "stream",
     "text": [
      "Successfully downloaded file to datasets/Mesure_journaliere_Region_Occitanie_Polluants_Principaux.csv\n"
     ]
    },
    {
     "name": "stderr",
     "output_type": "stream",
     "text": [
      "\r",
      "file_sizes: 10.7MB [00:15, 603kB/s]"
     ]
    },
    {
     "data": {
      "text/plain": [
       "'datasets/Mesure_journaliere_Region_Occitanie_Polluants_Principaux.csv'"
      ]
     },
     "execution_count": 1,
     "metadata": {},
     "output_type": "execute_result"
    }
   ],
   "source": [
    "from download import download\n",
    "# We choose daily data\n",
    "url = \"https://opendata.arcgis.com/datasets/2ab16a5fb61f42c1a689fd9cc466383f_0.csv\"\n",
    "path_target = \"datasets/Mesure_journaliere_Region_Occitanie_Polluants_Principaux.csv\"\n",
    "download(url, path_target, replace=True)"
   ]
  },
  {
   "cell_type": "code",
   "execution_count": 6,
   "metadata": {},
   "outputs": [],
   "source": [
    "occ = pd.read_csv(path_target) # all data of Occitanie"
   ]
  },
  {
   "cell_type": "markdown",
   "metadata": {},
   "source": [
    "## 2) Data treatment"
   ]
  },
  {
   "cell_type": "markdown",
   "metadata": {},
   "source": [
    "We must give the date a usable format to exploit datas:"
   ]
  },
  {
   "cell_type": "code",
   "execution_count": 7,
   "metadata": {},
   "outputs": [
    {
     "name": "stderr",
     "output_type": "stream",
     "text": [
      "C:\\Users\\megan\\Anaconda3\\lib\\site-packages\\pandas\\core\\arrays\\datetimes.py:1269: UserWarning: Converting to PeriodArray/Index representation will drop timezone information.\n",
      "  UserWarning,\n"
     ]
    }
   ],
   "source": [
    "occ['date'] = pd.to_datetime(occ['date_debut']).dt.to_period('M')\n",
    "#https://pandas.pydata.org/pandas-docs/stable/reference/api/pandas.Series.dt.to_period.html\n",
    "#https://pandas.pydata.org/pandas-docs/stable/reference/api/pandas.to_datetime.html"
   ]
  },
  {
   "cell_type": "markdown",
   "metadata": {},
   "source": [
    "Variables we care about for our widget in this dataset are: \n",
    "\n",
    "   + *nom_com* : name of the city\n",
    "   + *nom_station* : station's name, usefull because there can be more than one station per city\n",
    "   + *code_station* : station's code\n",
    "   + *nom_poll* : polluting's name\n",
    "   + *valeur* : value of polluting\n",
    "   + *date_debut*: with the format year/month/day/hour that make the beginning of the measurement\n",
    "   + *date_fin*: end of the measurement"
   ]
  },
  {
   "cell_type": "markdown",
   "metadata": {},
   "source": [
    "We only care about one pollutiong: **Ozone** "
   ]
  },
  {
   "cell_type": "code",
   "execution_count": 8,
   "metadata": {},
   "outputs": [],
   "source": [
    "occ = occ[occ['nom_poll'] == 'O3'] # only ozone"
   ]
  },
  {
   "cell_type": "markdown",
   "metadata": {},
   "source": [
    "The available cities for ozone data are:"
   ]
  },
  {
   "cell_type": "code",
   "execution_count": 9,
   "metadata": {},
   "outputs": [
    {
     "data": {
      "text/plain": [
       "array(['CAUNES-MINERVOIS', 'MENDE', 'LATTES', 'TOULOUSE', 'NIMES',\n",
       "       'LA CALMETTE', 'ALBI', 'SAINT-GELY-DU-FESC', 'LOURDES', 'CASTRES',\n",
       "       'TARBES', 'SAZE', 'PERPIGNAN', 'MONTPELLIER', 'CARCASSONNE',\n",
       "       'RODEZ', 'CORNEILHAN', 'BELESTA-EN-LAURAGAIS', 'PEYRUSSE-VIEILLE',\n",
       "       'MONTGISCARD', 'SAINT-ESTEVE', 'MIRAMONT-DE-COMMINGES', 'AGDE',\n",
       "       'BIARS-SUR-CERE', 'ROQUEREDONDE', 'VALLABREGUES'], dtype=object)"
      ]
     },
     "execution_count": 9,
     "metadata": {},
     "output_type": "execute_result"
    }
   ],
   "source": [
    "occ.nom_com.unique() # cities with ozone data available "
   ]
  },
  {
   "cell_type": "markdown",
   "metadata": {},
   "source": [
    "It's 26 cities with more stations."
   ]
  },
  {
   "cell_type": "markdown",
   "metadata": {},
   "source": [
    "## 3) Widget Development"
   ]
  },
  {
   "cell_type": "markdown",
   "metadata": {},
   "source": [
    "This first widget only allow to choose the date. 3 cities are already choosen: Lourdes, Toulouse and Montpellier."
   ]
  },
  {
   "cell_type": "code",
   "execution_count": 13,
   "metadata": {},
   "outputs": [],
   "source": [
    "def poluted_cities0(month):\n",
    "    \n",
    "    station = 'FR50030', 'FR50200', 'FR50042'\n",
    "    df_villes = occ[occ['code_station'].isin(station)]\n",
    "    \n",
    "    df_villes = df_villes[df_villes.date == month]\n",
    "    \n",
    "    plt.style.use('dark_background')\n",
    "    sns.catplot(x = 'nom_com', y = 'valeur', \n",
    "            data = df_villes,\n",
    "            height = 3, aspect = 2,\n",
    "            kind = 'boxen')\n",
    "    plt.tight_layout()\n",
    "    plt.xlabel('Cities')\n",
    "    plt.ylabel('O3')\n",
    "    plt.title(\"Ozone measurement of 3 cities in a month\")\n",
    "    plt.show()"
   ]
  },
  {
   "cell_type": "code",
   "execution_count": 14,
   "metadata": {},
   "outputs": [
    {
     "data": {
      "application/vnd.jupyter.widget-view+json": {
       "model_id": "6cebc86a533144cea9e21704ff52fe05",
       "version_major": 2,
       "version_minor": 0
      },
      "text/plain": [
       "interactive(children=(Dropdown(description='month', options=(Period('2020-02', 'M'), Period('2020-01', 'M'), P…"
      ]
     },
     "metadata": {},
     "output_type": "display_data"
    },
    {
     "data": {
      "text/plain": [
       "<function __main__.poluted_cities0(month)>"
      ]
     },
     "execution_count": 14,
     "metadata": {},
     "output_type": "execute_result"
    }
   ],
   "source": [
    "interact(poluted_cities0, month=occ.date.unique())"
   ]
  },
  {
   "cell_type": "markdown",
   "metadata": {},
   "source": [
    "## 4) Second Widget development"
   ]
  },
  {
   "cell_type": "markdown",
   "metadata": {},
   "source": [
    "The following widget compares again pollution in three cities, but we can both choose the cities and the month:"
   ]
  },
  {
   "cell_type": "code",
   "execution_count": 15,
   "metadata": {},
   "outputs": [],
   "source": [
    "def poluted_cities(month, station_1='Montpellier Nord - Périurbain', \n",
    "                    station_2='Lourdes-Lapaca Urbain', \n",
    "                    station_3='Toulouse-Berthelot Urbain'):\n",
    "    \n",
    "    stations = station_1, station_2, station_3\n",
    "    \n",
    "    df_station = occ[occ['nom_station'].isin(stations)] # only stations we ask\n",
    "    df_station = df_station[df_station['nom_poll'] == 'O3'] # only ozone  \n",
    "    df_station = df_station[df_station.date == month]\n",
    "    df_station = df_station[['nom_com', 'nom_station', 'valeur', 'date']]\n",
    "    \n",
    "    plt.style.use('dark_background')\n",
    "    sns.catplot(x = 'nom_com', y = 'valeur', \n",
    "            data = df_station,\n",
    "            height = 3, aspect = 2,\n",
    "            kind = 'boxen')\n",
    "    plt.tight_layout()\n",
    "    plt.xlabel('Cities')\n",
    "    plt.ylabel('O3')\n",
    "    plt.title(\"Ozone measurement of 3 cities in a month\")\n",
    "    plt.show()    "
   ]
  },
  {
   "cell_type": "code",
   "execution_count": 16,
   "metadata": {},
   "outputs": [
    {
     "data": {
      "application/vnd.jupyter.widget-view+json": {
       "model_id": "a031ef0a162147c28f93c96d5674694f",
       "version_major": 2,
       "version_minor": 0
      },
      "text/plain": [
       "interactive(children=(Dropdown(description='month', options=(Period('2020-02', 'M'), Period('2020-01', 'M'), P…"
      ]
     },
     "metadata": {},
     "output_type": "display_data"
    },
    {
     "data": {
      "text/plain": [
       "<function __main__.poluted_cities(month, station_1='Montpellier Nord - Périurbain', station_2='Lourdes-Lapaca Urbain', station_3='Toulouse-Berthelot Urbain')>"
      ]
     },
     "execution_count": 16,
     "metadata": {},
     "output_type": "execute_result"
    }
   ],
   "source": [
    "interact(poluted_cities, station_1=occ.nom_station.unique(), \n",
    "         station_2=occ.nom_station.unique(), \n",
    "         station_3=occ.nom_station.unique(), \n",
    "         month=occ.date.unique())"
   ]
  },
  {
   "cell_type": "markdown",
   "metadata": {},
   "source": [
    "*Warning: the current month is not complete, as is the first month of the dataset, only one year of data is available.*"
   ]
  }
 ],
 "metadata": {
  "kernelspec": {
   "display_name": "Python 3",
   "language": "python",
   "name": "python3"
  },
  "language_info": {
   "codemirror_mode": {
    "name": "ipython",
    "version": 3
   },
   "file_extension": ".py",
   "mimetype": "text/x-python",
   "name": "python",
   "nbconvert_exporter": "python",
   "pygments_lexer": "ipython3",
   "version": "3.7.4"
  }
 },
 "nbformat": 4,
 "nbformat_minor": 2
}
