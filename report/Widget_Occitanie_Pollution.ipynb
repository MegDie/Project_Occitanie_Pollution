{
 "cells": [
  {
   "cell_type": "markdown",
   "metadata": {},
   "source": [
    "# Development of a Widget"
   ]
  },
  {
   "cell_type": "code",
   "execution_count": 1,
   "metadata": {},
   "outputs": [],
   "source": [
    "import pandas as pd\n",
    "import numpy as np\n",
    "import matplotlib.pyplot as plt\n",
    "import seaborn as sns\n",
    "from ipywidgets import interact  # widget manipulation\n",
    "from IPython.display import HTML"
   ]
  },
  {
   "cell_type": "markdown",
   "metadata": {},
   "source": [
    "## 1)  Data importation:\n"
   ]
  },
  {
   "cell_type": "code",
   "execution_count": 2,
   "metadata": {},
   "outputs": [
    {
     "name": "stdout",
     "output_type": "stream",
     "text": [
      "Downloading data from https://opendata.arcgis.com/datasets/2ab16a5fb61f42c1a689fd9cc466383f_0.csv (1 byte)\n",
      "\n"
     ]
    },
    {
     "name": "stderr",
     "output_type": "stream",
     "text": [
      "file_sizes: 10.8MB [00:01, 7.71MB/s]                                            \n"
     ]
    },
    {
     "name": "stdout",
     "output_type": "stream",
     "text": [
      "Successfully downloaded file to datasets/Mesure_journaliere_Region_Occitanie_Polluants_Principaux.csv\n"
     ]
    },
    {
     "data": {
      "text/plain": [
       "'datasets/Mesure_journaliere_Region_Occitanie_Polluants_Principaux.csv'"
      ]
     },
     "execution_count": 2,
     "metadata": {},
     "output_type": "execute_result"
    }
   ],
   "source": [
    "from download import download\n",
    "\n",
    "# We choose daily data\n",
    "url = \"https://opendata.arcgis.com/datasets/2ab16a5fb61f42c1a689fd9cc466383f_0.csv\"\n",
    "path_target = \"datasets/Mesure_journaliere_Region_Occitanie_Polluants_Principaux.csv\"\n",
    "download(url, path_target, replace=True)"
   ]
  },
  {
   "cell_type": "code",
   "execution_count": 3,
   "metadata": {},
   "outputs": [
    {
     "data": {
      "text/html": [
       "<div>\n",
       "<style scoped>\n",
       "    .dataframe tbody tr th:only-of-type {\n",
       "        vertical-align: middle;\n",
       "    }\n",
       "\n",
       "    .dataframe tbody tr th {\n",
       "        vertical-align: top;\n",
       "    }\n",
       "\n",
       "    .dataframe thead th {\n",
       "        text-align: right;\n",
       "    }\n",
       "</style>\n",
       "<table border=\"1\" class=\"dataframe\">\n",
       "  <thead>\n",
       "    <tr style=\"text-align: right;\">\n",
       "      <th></th>\n",
       "      <th>X</th>\n",
       "      <th>Y</th>\n",
       "      <th>nom_dept</th>\n",
       "      <th>nom_com</th>\n",
       "      <th>insee_com</th>\n",
       "      <th>nom_station</th>\n",
       "      <th>code_station</th>\n",
       "      <th>typologie</th>\n",
       "      <th>influence</th>\n",
       "      <th>nom_poll</th>\n",
       "      <th>id_poll_ue</th>\n",
       "      <th>valeur</th>\n",
       "      <th>unite</th>\n",
       "      <th>metrique</th>\n",
       "      <th>date_debut</th>\n",
       "      <th>date_fin</th>\n",
       "      <th>statut_valid</th>\n",
       "      <th>x_l93</th>\n",
       "      <th>y_l93</th>\n",
       "      <th>ObjectId</th>\n",
       "    </tr>\n",
       "  </thead>\n",
       "  <tbody>\n",
       "    <tr>\n",
       "      <td>0</td>\n",
       "      <td>3.898610</td>\n",
       "      <td>43.6100</td>\n",
       "      <td>HERAULT</td>\n",
       "      <td>MONTPELLIER</td>\n",
       "      <td>34172</td>\n",
       "      <td>Montpellier - Pompignane Trafic</td>\n",
       "      <td>FR50203</td>\n",
       "      <td>Urbaine</td>\n",
       "      <td>Trafic</td>\n",
       "      <td>NO</td>\n",
       "      <td>38</td>\n",
       "      <td>56.8</td>\n",
       "      <td>ug.m-3</td>\n",
       "      <td>journaliere</td>\n",
       "      <td>2020-02-20T01:00:00.000Z</td>\n",
       "      <td>2020-02-21T00:00:00.000Z</td>\n",
       "      <td>t</td>\n",
       "      <td>772566</td>\n",
       "      <td>6279407</td>\n",
       "      <td>1001</td>\n",
       "    </tr>\n",
       "    <tr>\n",
       "      <td>1</td>\n",
       "      <td>2.524840</td>\n",
       "      <td>43.3233</td>\n",
       "      <td>AUDE</td>\n",
       "      <td>CAUNES-MINERVOIS</td>\n",
       "      <td>11081</td>\n",
       "      <td>Caunes-Minervois - rural</td>\n",
       "      <td>FR50806</td>\n",
       "      <td>Rurale Régionale</td>\n",
       "      <td>Fond</td>\n",
       "      <td>O3</td>\n",
       "      <td>7</td>\n",
       "      <td>65.9</td>\n",
       "      <td>ug.m-3</td>\n",
       "      <td>journaliere</td>\n",
       "      <td>2020-02-20T01:00:00.000Z</td>\n",
       "      <td>2020-02-21T00:00:00.000Z</td>\n",
       "      <td>t</td>\n",
       "      <td>661437</td>\n",
       "      <td>6247240</td>\n",
       "      <td>1002</td>\n",
       "    </tr>\n",
       "    <tr>\n",
       "      <td>2</td>\n",
       "      <td>3.504830</td>\n",
       "      <td>43.2878</td>\n",
       "      <td>HERAULT</td>\n",
       "      <td>AGDE</td>\n",
       "      <td>34003</td>\n",
       "      <td>Agathois-Piscénois - Périurbain</td>\n",
       "      <td>FR50210</td>\n",
       "      <td>Périurbaine</td>\n",
       "      <td>Fond</td>\n",
       "      <td>NO</td>\n",
       "      <td>38</td>\n",
       "      <td>2.5</td>\n",
       "      <td>ug.m-3</td>\n",
       "      <td>journaliere</td>\n",
       "      <td>2020-02-20T01:00:00.000Z</td>\n",
       "      <td>2020-02-21T00:00:00.000Z</td>\n",
       "      <td>t</td>\n",
       "      <td>740996</td>\n",
       "      <td>6243312</td>\n",
       "      <td>1003</td>\n",
       "    </tr>\n",
       "    <tr>\n",
       "      <td>3</td>\n",
       "      <td>0.179722</td>\n",
       "      <td>43.6303</td>\n",
       "      <td>GERS</td>\n",
       "      <td>PEYRUSSE-VIEILLE</td>\n",
       "      <td>32317</td>\n",
       "      <td>Peyrusse Vieille Rural</td>\n",
       "      <td>FR50020</td>\n",
       "      <td>Rurale Nationale</td>\n",
       "      <td>Fond</td>\n",
       "      <td>PM10</td>\n",
       "      <td>5</td>\n",
       "      <td>7.0</td>\n",
       "      <td>ug.m-3</td>\n",
       "      <td>journaliere</td>\n",
       "      <td>2020-02-20T01:00:00.000Z</td>\n",
       "      <td>2020-02-21T00:00:00.000Z</td>\n",
       "      <td>t</td>\n",
       "      <td>472377</td>\n",
       "      <td>6285316</td>\n",
       "      <td>1004</td>\n",
       "    </tr>\n",
       "    <tr>\n",
       "      <td>4</td>\n",
       "      <td>4.374220</td>\n",
       "      <td>43.8344</td>\n",
       "      <td>GARD</td>\n",
       "      <td>NIMES</td>\n",
       "      <td>30189</td>\n",
       "      <td>Nîmes Sud - urbain</td>\n",
       "      <td>FR50211</td>\n",
       "      <td>Urbaine</td>\n",
       "      <td>Fond</td>\n",
       "      <td>PM10</td>\n",
       "      <td>5</td>\n",
       "      <td>14.6</td>\n",
       "      <td>ug.m-3</td>\n",
       "      <td>journaliere</td>\n",
       "      <td>2020-02-20T01:00:00.000Z</td>\n",
       "      <td>2020-02-21T00:00:00.000Z</td>\n",
       "      <td>t</td>\n",
       "      <td>810536</td>\n",
       "      <td>6304894</td>\n",
       "      <td>1005</td>\n",
       "    </tr>\n",
       "  </tbody>\n",
       "</table>\n",
       "</div>"
      ],
      "text/plain": [
       "          X        Y nom_dept           nom_com  insee_com  \\\n",
       "0  3.898610  43.6100  HERAULT       MONTPELLIER      34172   \n",
       "1  2.524840  43.3233     AUDE  CAUNES-MINERVOIS      11081   \n",
       "2  3.504830  43.2878  HERAULT              AGDE      34003   \n",
       "3  0.179722  43.6303     GERS  PEYRUSSE-VIEILLE      32317   \n",
       "4  4.374220  43.8344     GARD             NIMES      30189   \n",
       "\n",
       "                       nom_station code_station         typologie influence  \\\n",
       "0  Montpellier - Pompignane Trafic      FR50203           Urbaine    Trafic   \n",
       "1         Caunes-Minervois - rural      FR50806  Rurale Régionale      Fond   \n",
       "2  Agathois-Piscénois - Périurbain      FR50210       Périurbaine      Fond   \n",
       "3           Peyrusse Vieille Rural      FR50020  Rurale Nationale      Fond   \n",
       "4               Nîmes Sud - urbain      FR50211           Urbaine      Fond   \n",
       "\n",
       "  nom_poll  id_poll_ue  valeur   unite     metrique                date_debut  \\\n",
       "0       NO          38    56.8  ug.m-3  journaliere  2020-02-20T01:00:00.000Z   \n",
       "1       O3           7    65.9  ug.m-3  journaliere  2020-02-20T01:00:00.000Z   \n",
       "2       NO          38     2.5  ug.m-3  journaliere  2020-02-20T01:00:00.000Z   \n",
       "3     PM10           5     7.0  ug.m-3  journaliere  2020-02-20T01:00:00.000Z   \n",
       "4     PM10           5    14.6  ug.m-3  journaliere  2020-02-20T01:00:00.000Z   \n",
       "\n",
       "                   date_fin statut_valid   x_l93    y_l93  ObjectId  \n",
       "0  2020-02-21T00:00:00.000Z            t  772566  6279407      1001  \n",
       "1  2020-02-21T00:00:00.000Z            t  661437  6247240      1002  \n",
       "2  2020-02-21T00:00:00.000Z            t  740996  6243312      1003  \n",
       "3  2020-02-21T00:00:00.000Z            t  472377  6285316      1004  \n",
       "4  2020-02-21T00:00:00.000Z            t  810536  6304894      1005  "
      ]
     },
     "execution_count": 3,
     "metadata": {},
     "output_type": "execute_result"
    }
   ],
   "source": [
    "occ = pd.read_csv(path_target)\n",
    "# all data of Occitanie\n",
    "\n",
    "occ.head(n=5) # simpliest way too watch data"
   ]
  },
  {
   "cell_type": "markdown",
   "metadata": {},
   "source": [
    "## 2) Data treatment"
   ]
  },
  {
   "cell_type": "code",
   "execution_count": 4,
   "metadata": {},
   "outputs": [
    {
     "name": "stderr",
     "output_type": "stream",
     "text": [
      "C:\\Users\\megan\\Anaconda3\\lib\\site-packages\\pandas\\core\\arrays\\datetimes.py:1269: UserWarning: Converting to PeriodArray/Index representation will drop timezone information.\n",
      "  UserWarning,\n"
     ]
    }
   ],
   "source": [
    "occ['date'] = pd.to_datetime(occ['date_debut']).dt.to_period('M')\n",
    "\n",
    "\n",
    "#https://pandas.pydata.org/pandas-docs/stable/reference/api/pandas.Series.dt.to_period.html\n",
    "#https://pandas.pydata.org/pandas-docs/stable/reference/api/pandas.to_datetime.html"
   ]
  },
  {
   "cell_type": "markdown",
   "metadata": {},
   "source": [
    "Description des variables: \n",
    "\n",
    "   + X et Y : lattitude, longitude\n",
    "   + nom_dept : nom du département\n",
    "   + nom_com : nom de la commune\n",
    "   + insee_com: numéro commune par INSEE\n",
    "   + nom_station : station qui récolte les données\n",
    "   + code_station : code de la station\n",
    "   + typologie : type de zone\n",
    "   + influence : ce qui peut influencer la pollution \n",
    "   + nom_poll : nom du polluant\n",
    "   + id_poll_ue : identifiant du polluant \n",
    "   + valeur : valeur mesurée du polluant\n",
    "   + unite : unité\n",
    "   + date_debut: année/mois/jour/heure\n",
    "   + date_fin: idem\n",
    "   + status_valid : ? \n",
    "   + x_l93 : ?\n",
    "   + y_l93 : ?\n",
    "   + objectld : ?"
   ]
  },
  {
   "cell_type": "code",
   "execution_count": 5,
   "metadata": {},
   "outputs": [
    {
     "data": {
      "text/html": [
       "<div>\n",
       "<style scoped>\n",
       "    .dataframe tbody tr th:only-of-type {\n",
       "        vertical-align: middle;\n",
       "    }\n",
       "\n",
       "    .dataframe tbody tr th {\n",
       "        vertical-align: top;\n",
       "    }\n",
       "\n",
       "    .dataframe thead th {\n",
       "        text-align: right;\n",
       "    }\n",
       "</style>\n",
       "<table border=\"1\" class=\"dataframe\">\n",
       "  <thead>\n",
       "    <tr style=\"text-align: right;\">\n",
       "      <th></th>\n",
       "      <th>X</th>\n",
       "      <th>Y</th>\n",
       "      <th>insee_com</th>\n",
       "      <th>id_poll_ue</th>\n",
       "      <th>valeur</th>\n",
       "      <th>x_l93</th>\n",
       "      <th>y_l93</th>\n",
       "      <th>ObjectId</th>\n",
       "    </tr>\n",
       "  </thead>\n",
       "  <tbody>\n",
       "    <tr>\n",
       "      <td>count</td>\n",
       "      <td>54905.000000</td>\n",
       "      <td>54905.000000</td>\n",
       "      <td>54905.000000</td>\n",
       "      <td>54905.000000</td>\n",
       "      <td>54905.000000</td>\n",
       "      <td>54905.000000</td>\n",
       "      <td>5.490500e+04</td>\n",
       "      <td>54905.000000</td>\n",
       "    </tr>\n",
       "    <tr>\n",
       "      <td>mean</td>\n",
       "      <td>2.205786</td>\n",
       "      <td>43.553733</td>\n",
       "      <td>40434.129934</td>\n",
       "      <td>532.253055</td>\n",
       "      <td>24.947468</td>\n",
       "      <td>635512.908988</td>\n",
       "      <td>6.274074e+06</td>\n",
       "      <td>27453.000000</td>\n",
       "    </tr>\n",
       "    <tr>\n",
       "      <td>std</td>\n",
       "      <td>1.407911</td>\n",
       "      <td>0.431496</td>\n",
       "      <td>17265.948034</td>\n",
       "      <td>1685.549645</td>\n",
       "      <td>30.402986</td>\n",
       "      <td>113977.683653</td>\n",
       "      <td>4.759226e+04</td>\n",
       "      <td>15849.852602</td>\n",
       "    </tr>\n",
       "    <tr>\n",
       "      <td>min</td>\n",
       "      <td>-0.051944</td>\n",
       "      <td>42.684000</td>\n",
       "      <td>11069.000000</td>\n",
       "      <td>1.000000</td>\n",
       "      <td>-8.500000</td>\n",
       "      <td>451389.000000</td>\n",
       "      <td>6.176047e+06</td>\n",
       "      <td>1.000000</td>\n",
       "    </tr>\n",
       "    <tr>\n",
       "      <td>25%</td>\n",
       "      <td>1.376000</td>\n",
       "      <td>43.230300</td>\n",
       "      <td>31483.000000</td>\n",
       "      <td>7.000000</td>\n",
       "      <td>6.200000</td>\n",
       "      <td>568918.000000</td>\n",
       "      <td>6.241231e+06</td>\n",
       "      <td>13727.000000</td>\n",
       "    </tr>\n",
       "    <tr>\n",
       "      <td>50%</td>\n",
       "      <td>1.845730</td>\n",
       "      <td>43.610000</td>\n",
       "      <td>32317.000000</td>\n",
       "      <td>8.000000</td>\n",
       "      <td>13.600000</td>\n",
       "      <td>608927.000000</td>\n",
       "      <td>6.279364e+06</td>\n",
       "      <td>27453.000000</td>\n",
       "    </tr>\n",
       "    <tr>\n",
       "      <td>75%</td>\n",
       "      <td>3.504830</td>\n",
       "      <td>43.643100</td>\n",
       "      <td>48095.000000</td>\n",
       "      <td>38.000000</td>\n",
       "      <td>32.300000</td>\n",
       "      <td>740996.000000</td>\n",
       "      <td>6.285316e+06</td>\n",
       "      <td>41179.000000</td>\n",
       "    </tr>\n",
       "    <tr>\n",
       "      <td>max</td>\n",
       "      <td>4.697360</td>\n",
       "      <td>44.925400</td>\n",
       "      <td>81065.000000</td>\n",
       "      <td>6001.000000</td>\n",
       "      <td>815.600000</td>\n",
       "      <td>836000.000000</td>\n",
       "      <td>6.425805e+06</td>\n",
       "      <td>54905.000000</td>\n",
       "    </tr>\n",
       "  </tbody>\n",
       "</table>\n",
       "</div>"
      ],
      "text/plain": [
       "                  X             Y     insee_com    id_poll_ue        valeur  \\\n",
       "count  54905.000000  54905.000000  54905.000000  54905.000000  54905.000000   \n",
       "mean       2.205786     43.553733  40434.129934    532.253055     24.947468   \n",
       "std        1.407911      0.431496  17265.948034   1685.549645     30.402986   \n",
       "min       -0.051944     42.684000  11069.000000      1.000000     -8.500000   \n",
       "25%        1.376000     43.230300  31483.000000      7.000000      6.200000   \n",
       "50%        1.845730     43.610000  32317.000000      8.000000     13.600000   \n",
       "75%        3.504830     43.643100  48095.000000     38.000000     32.300000   \n",
       "max        4.697360     44.925400  81065.000000   6001.000000    815.600000   \n",
       "\n",
       "               x_l93         y_l93      ObjectId  \n",
       "count   54905.000000  5.490500e+04  54905.000000  \n",
       "mean   635512.908988  6.274074e+06  27453.000000  \n",
       "std    113977.683653  4.759226e+04  15849.852602  \n",
       "min    451389.000000  6.176047e+06      1.000000  \n",
       "25%    568918.000000  6.241231e+06  13727.000000  \n",
       "50%    608927.000000  6.279364e+06  27453.000000  \n",
       "75%    740996.000000  6.285316e+06  41179.000000  \n",
       "max    836000.000000  6.425805e+06  54905.000000  "
      ]
     },
     "execution_count": 5,
     "metadata": {},
     "output_type": "execute_result"
    }
   ],
   "source": [
    "# variables description : do not forget that it's a possibility\n",
    "occ.describe()"
   ]
  },
  {
   "cell_type": "code",
   "execution_count": 6,
   "metadata": {},
   "outputs": [
    {
     "data": {
      "text/plain": [
       "array(['MONTPELLIER', 'CAUNES-MINERVOIS', 'AGDE', 'PEYRUSSE-VIEILLE',\n",
       "       'NIMES', 'BESSIERES', 'LUNEL-VIEL', 'MENDE', 'ALBI', 'TOULOUSE',\n",
       "       'CASTRES', 'LOURDES', 'TARBES', 'SAINT-GAUDENS',\n",
       "       'SAINT-LAURENT-DES-ARBRES', 'LA CALMETTE', 'LATTES', 'PERPIGNAN',\n",
       "       'SAINT-GELY-DU-FESC', 'SAZE', 'MIRAMONT-DE-COMMINGES',\n",
       "       'CARCASSONNE', 'RODEZ', 'BIARS-SUR-CERE', 'BLAGNAC', 'CORNEILHAN',\n",
       "       'BELESTA-EN-LAURAGAIS', 'MONTGISCARD', 'SAINT-ESTEVE',\n",
       "       'ROQUEREDONDE', 'VALLABREGUES'], dtype=object)"
      ]
     },
     "execution_count": 6,
     "metadata": {},
     "output_type": "execute_result"
    }
   ],
   "source": [
    "occ.nom_com.unique() # cities available "
   ]
  },
  {
   "cell_type": "markdown",
   "metadata": {},
   "source": [
    "We only care about ozone: "
   ]
  },
  {
   "cell_type": "code",
   "execution_count": 7,
   "metadata": {},
   "outputs": [],
   "source": [
    "occ = occ[occ['nom_poll'] == 'O3'] # only ozone"
   ]
  },
  {
   "cell_type": "markdown",
   "metadata": {},
   "source": [
    "### Which cities are available?"
   ]
  },
  {
   "cell_type": "code",
   "execution_count": 8,
   "metadata": {},
   "outputs": [
    {
     "data": {
      "text/plain": [
       "array(['CAUNES-MINERVOIS', 'MENDE', 'LATTES', 'TOULOUSE', 'NIMES',\n",
       "       'LA CALMETTE', 'ALBI', 'SAINT-GELY-DU-FESC', 'LOURDES', 'CASTRES',\n",
       "       'TARBES', 'SAZE', 'PERPIGNAN', 'MONTPELLIER', 'CARCASSONNE',\n",
       "       'RODEZ', 'CORNEILHAN', 'BELESTA-EN-LAURAGAIS', 'PEYRUSSE-VIEILLE',\n",
       "       'MONTGISCARD', 'SAINT-ESTEVE', 'MIRAMONT-DE-COMMINGES', 'AGDE',\n",
       "       'BIARS-SUR-CERE', 'ROQUEREDONDE', 'VALLABREGUES'], dtype=object)"
      ]
     },
     "execution_count": 8,
     "metadata": {},
     "output_type": "execute_result"
    }
   ],
   "source": [
    "occ.nom_com.unique() # cities with ozone data available "
   ]
  },
  {
   "cell_type": "markdown",
   "metadata": {},
   "source": [
    "We have 27 different cities available with ozone data\n",
    "\n",
    "Warning, many stations available by city!"
   ]
  },
  {
   "cell_type": "markdown",
   "metadata": {},
   "source": [
    "## 3) Widget Developement"
   ]
  },
  {
   "cell_type": "markdown",
   "metadata": {},
   "source": [
    "The following widget compares ozone pollution in Montpellier, Toulouse and Lourdes for the choosen month:"
   ]
  },
  {
   "cell_type": "code",
   "execution_count": 9,
   "metadata": {},
   "outputs": [],
   "source": [
    "def poluted_cities0(month):\n",
    "    \n",
    "    station = 'FR50030', 'FR50200', 'FR50042'\n",
    "    df_villes = occ[occ['code_station'].isin(station)]\n",
    "    \n",
    "    df_villes = df_villes[df_villes.date == month]\n",
    "    \n",
    "    plt.style.use('dark_background')\n",
    "    sns.catplot(x = 'nom_com', y = 'valeur', \n",
    "            data = df_villes,\n",
    "            height = 3, aspect = 2,\n",
    "            kind = 'boxen')\n",
    "    plt.tight_layout()\n",
    "    plt.xlabel('Cities')\n",
    "    plt.ylabel('O3')\n",
    "    plt.title(\"Comparisons of ozone measurements over a month from 3 cities\")\n",
    "    plt.show()"
   ]
  },
  {
   "cell_type": "code",
   "execution_count": 10,
   "metadata": {},
   "outputs": [
    {
     "data": {
      "application/vnd.jupyter.widget-view+json": {
       "model_id": "52de9c601c5e4b48b60ad0578278db2b",
       "version_major": 2,
       "version_minor": 0
      },
      "text/plain": [
       "interactive(children=(Dropdown(description='month', options=(Period('2020-02', 'M'), Period('2020-01', 'M'), P…"
      ]
     },
     "metadata": {},
     "output_type": "display_data"
    },
    {
     "data": {
      "text/plain": [
       "<function __main__.poluted_cities0(month)>"
      ]
     },
     "execution_count": 10,
     "metadata": {},
     "output_type": "execute_result"
    }
   ],
   "source": [
    "interact(poluted_cities0, month=occ.date.unique())"
   ]
  },
  {
   "cell_type": "markdown",
   "metadata": {},
   "source": [
    "## 4) Second Widget development"
   ]
  },
  {
   "cell_type": "markdown",
   "metadata": {},
   "source": [
    "The following widget compares again pollution in three cities, but we can both choose the cities and the date:"
   ]
  },
  {
   "cell_type": "code",
   "execution_count": 11,
   "metadata": {},
   "outputs": [],
   "source": [
    "def poluted_cities(month, station_1='Montpellier Nord - Périurbain', \n",
    "                    station_2='Lourdes-Lapaca Urbain', \n",
    "                    station_3='Toulouse-Berthelot Urbain'):\n",
    "    \n",
    "    stations = station_1, station_2, station_3\n",
    "    \n",
    "    df_station = occ[occ['nom_station'].isin(stations)] # only stations we ask\n",
    "    df_station = df_station[df_station['nom_poll'] == 'O3'] # only ozone  \n",
    "    df_station = df_station[df_station.date == month]\n",
    "    df_station = df_station[['nom_com', 'nom_station', 'valeur', 'date']]\n",
    "    \n",
    "    plt.style.use('dark_background')\n",
    "    sns.catplot(x = 'nom_com', y = 'valeur', \n",
    "            data = df_station,\n",
    "            height = 3, aspect = 2,\n",
    "            kind = 'boxen')\n",
    "    plt.tight_layout()\n",
    "    plt.xlabel('Cities')\n",
    "    plt.ylabel('O3')\n",
    "    plt.title(\"Comparison of ozone measurements over a month from 3 cities\")\n",
    "    plt.show()    "
   ]
  },
  {
   "cell_type": "code",
   "execution_count": 12,
   "metadata": {},
   "outputs": [
    {
     "data": {
      "application/vnd.jupyter.widget-view+json": {
       "model_id": "48fb5f507d5344efa1ad36859370e7c1",
       "version_major": 2,
       "version_minor": 0
      },
      "text/plain": [
       "interactive(children=(Dropdown(description='month', options=(Period('2020-02', 'M'), Period('2020-01', 'M'), P…"
      ]
     },
     "metadata": {},
     "output_type": "display_data"
    },
    {
     "data": {
      "text/plain": [
       "<function __main__.poluted_cities(month, station_1='Montpellier Nord - Périurbain', station_2='Lourdes-Lapaca Urbain', station_3='Toulouse-Berthelot Urbain')>"
      ]
     },
     "execution_count": 12,
     "metadata": {},
     "output_type": "execute_result"
    }
   ],
   "source": [
    "interact(poluted_cities, station_1=occ.nom_station.unique(), \n",
    "         station_2=occ.nom_station.unique(), \n",
    "         station_3=occ.nom_station.unique(), \n",
    "         month=occ.date.unique())"
   ]
  }
 ],
 "metadata": {
  "kernelspec": {
   "display_name": "Python 3",
   "language": "python",
   "name": "python3"
  },
  "language_info": {
   "codemirror_mode": {
    "name": "ipython",
    "version": 3
   },
   "file_extension": ".py",
   "mimetype": "text/x-python",
   "name": "python",
   "nbconvert_exporter": "python",
   "pygments_lexer": "ipython3",
   "version": "3.7.4"
  }
 },
 "nbformat": 4,
 "nbformat_minor": 2
}
