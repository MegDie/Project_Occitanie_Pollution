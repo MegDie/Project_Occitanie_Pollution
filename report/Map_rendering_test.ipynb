{
 "cells": [
  {
   "cell_type": "code",
   "execution_count": 1,
   "metadata": {},
   "outputs": [],
   "source": [
    "import matplotlib.pyplot as plt\n",
    "%matplotlib inline\n",
    "import matplotlib.colors as colors\n",
    "\n",
    "from numpy import array\n",
    "from numpy import max\n",
    "import numpy as np\n",
    "import pandas as pd\n",
    "import math\n",
    "import folium"
   ]
  },
  {
   "cell_type": "code",
   "execution_count": 2,
   "metadata": {},
   "outputs": [
    {
     "name": "stdout",
     "output_type": "stream",
     "text": [
      "Replace is False and data exists, so doing nothing. Use replace==True to re-download the data.\n"
     ]
    },
    {
     "data": {
      "text/plain": [
       "'datasets/Mesure_journaliere_Region_Occitanie_Polluants_Principaux.csv'"
      ]
     },
     "execution_count": 2,
     "metadata": {},
     "output_type": "execute_result"
    }
   ],
   "source": [
    "from download import download\n",
    "\n",
    "# We choose daily data\n",
    "url = \"https://opendata.arcgis.com/datasets/2ab16a5fb61f42c1a689fd9cc466383f_0.csv\"\n",
    "path_target = \"datasets/Mesure_journaliere_Region_Occitanie_Polluants_Principaux.csv\"\n",
    "download(url, path_target, replace=False)\n"
   ]
  },
  {
   "cell_type": "code",
   "execution_count": 3,
   "metadata": {},
   "outputs": [],
   "source": [
    "occ_df = pd.read_csv(path_target)"
   ]
  },
  {
   "cell_type": "markdown",
   "metadata": {},
   "source": [
    "Que veut-on représenter? \n",
    "   +  Toutes les villes de notre data set en Occitanie\n",
    "   +  La question est quand ?\n",
    "   + Peut on faire varier la date interactivement\n",
    "   + Voila pourquoi on veut une video, on va voire la pollution évoluer\n",
    "   \n",
    "J'ai reflechi cette nuit et on developpera ici:\n",
    "   + Une map de l'occitanie qui affiche les données journalières\n",
    "   + Elle sera interactive et on pourra choisir le jour qu'on veut\n",
    "   + Il faudra certainement et au préalable nettoyer nos données"
   ]
  },
  {
   "cell_type": "code",
   "execution_count": 4,
   "metadata": {},
   "outputs": [
    {
     "name": "stderr",
     "output_type": "stream",
     "text": [
      "C:\\Users\\megan\\Anaconda3\\lib\\site-packages\\pandas\\core\\arrays\\datetimes.py:1269: UserWarning: Converting to PeriodArray/Index representation will drop timezone information.\n",
      "  UserWarning,\n"
     ]
    }
   ],
   "source": [
    "# On va traiter les données afin de rajouter une colonne de la date\n",
    "\n",
    "occ_df['jour'] = pd.to_datetime(occ_df['date_debut']).dt.to_period('D')"
   ]
  },
  {
   "cell_type": "code",
   "execution_count": 5,
   "metadata": {},
   "outputs": [
    {
     "data": {
      "text/plain": [
       "array(['Peyrusse Vieille Rural', 'Montpellier - Pompignane Trafic',\n",
       "       'Mende - Vernede urbain', 'Perpignan Sud - urbain', 'Albi Urbain',\n",
       "       'Toulouse-Jacquier Urbain', 'Agathois-Piscénois - Périurbain',\n",
       "       'Saze - rural', 'Toulouse-Berthelot Urbain',\n",
       "       'Montpellier Nord - Périurbain', 'Toulouse-Mazades Urbain',\n",
       "       'Montpellier - Prés d Arènes Urbain', 'Lourdes-Lapaca Urbain',\n",
       "       'Castres-Travet Urbain', 'Montpellier - Chaptal Urbain',\n",
       "       'Tarbes-Dupuy Urbain', 'Nîmes - Planas - Trafic',\n",
       "       'La Calmette - Périurbain', 'Lunel-Viel - Périurbain',\n",
       "       'Saint Gaudens-Miramont Industriel',\n",
       "       'Saint Gaudens-Daurat Industriel', 'Nîmes Sud - urbain',\n",
       "       'Montgiscard Urbain', 'Belesta en Lauragais Rural',\n",
       "       'Montpellier Sud - Périurbain', 'Perpignan Centre - urbain',\n",
       "       'Saint Estève - périurbain', 'Montpellier - Saint Denis Trafic',\n",
       "       'Blagnac Aéroport Piste ', 'Toulouse-Périphérique Trafic',\n",
       "       'Blagnac Aéroport Trafic ', 'Toulouse Port de l Embouchure',\n",
       "       'Biterrois-Narbonnais - Périurbain', 'Toulouse - Rte Albi Trafic',\n",
       "       'Saint-Gaudens urbain', 'Biars-sur-Cere - urbain',\n",
       "       'St Laurent des Arbres - périurbain', 'Rodez Urbain',\n",
       "       'Toulouse-SETMI Chapitre', 'Lourdes-Paradis Trafic',\n",
       "       'Carcassonne - urbain', 'Caunes-Minervois - rural',\n",
       "       'Toulouse-SETMI Eisenhower ', 'Bessières-ECONOTRE',\n",
       "       'Station Pedagogique', 'Vallabrègues - rural',\n",
       "       'Roqueredonde - rurale', 'Pamiers Urbain'], dtype=object)"
      ]
     },
     "execution_count": 5,
     "metadata": {},
     "output_type": "execute_result"
    }
   ],
   "source": [
    "occ_df.nom_station.unique()"
   ]
  },
  {
   "cell_type": "code",
   "execution_count": 6,
   "metadata": {},
   "outputs": [
    {
     "data": {
      "text/plain": [
       "<PeriodArray>\n",
       "['2019-12-27', '2020-02-26', '2019-05-27', '2019-12-28', '2020-02-19',\n",
       " '2019-08-06', '2019-12-29', '2020-02-20', '2019-12-30', '2019-05-14',\n",
       " ...\n",
       " '2020-03-23', '2020-03-24', '2019-12-26', '2020-03-25', '2020-03-26',\n",
       " '2020-03-27', '2020-02-18', '2020-02-13', '2020-02-14', '2019-06-19']\n",
       "Length: 362, dtype: period[D]"
      ]
     },
     "execution_count": 6,
     "metadata": {},
     "output_type": "execute_result"
    }
   ],
   "source": [
    "occ_df.jour.unique() # 362 jours, on fera varier notre map selon ces jours."
   ]
  },
  {
   "cell_type": "markdown",
   "metadata": {},
   "source": [
    "On va prendre le tableau d'un jour en particulier:"
   ]
  },
  {
   "cell_type": "code",
   "execution_count": 32,
   "metadata": {},
   "outputs": [
    {
     "data": {
      "text/plain": [
       "array(['Peyrusse Vieille Rural', 'Tarbes-Dupuy Urbain',\n",
       "       'Toulouse-Périphérique Trafic', 'Toulouse Port de l Embouchure',\n",
       "       'Agathois-Piscénois - Périurbain', 'Toulouse-Mazades Urbain',\n",
       "       'Saint-Gaudens urbain', 'Toulouse-Jacquier Urbain',\n",
       "       'Lunel-Viel - Périurbain', 'Perpignan Centre - urbain',\n",
       "       'Lourdes-Paradis Trafic', 'Castres-Travet Urbain',\n",
       "       'Perpignan Sud - urbain', 'Lourdes-Lapaca Urbain', 'Saze - rural',\n",
       "       'Albi Urbain', 'Montpellier - Pompignane Trafic',\n",
       "       'Nîmes Sud - urbain', 'Toulouse - Rte Albi Trafic',\n",
       "       'Montgiscard Urbain', 'Belesta en Lauragais Rural',\n",
       "       'Toulouse-Berthelot Urbain', 'Blagnac Aéroport Piste ',\n",
       "       'Blagnac Aéroport Trafic ', 'Montpellier - Chaptal Urbain',\n",
       "       'Montpellier - Prés d Arènes Urbain',\n",
       "       'Saint Gaudens-Daurat Industriel', 'Saint Estève - périurbain',\n",
       "       'Nîmes - Planas - Trafic', 'Montpellier Sud - Périurbain',\n",
       "       'Biterrois-Narbonnais - Périurbain',\n",
       "       'Saint Gaudens-Miramont Industriel',\n",
       "       'Montpellier Nord - Périurbain', 'La Calmette - Périurbain',\n",
       "       'Station Pedagogique', 'Montpellier - Saint Denis Trafic',\n",
       "       'Bessières-ECONOTRE', 'St Laurent des Arbres - périurbain',\n",
       "       'Toulouse-SETMI Eisenhower ', 'Rodez Urbain',\n",
       "       'Toulouse-SETMI Chapitre', 'Caunes-Minervois - rural'],\n",
       "      dtype=object)"
      ]
     },
     "execution_count": 32,
     "metadata": {},
     "output_type": "execute_result"
    }
   ],
   "source": [
    "occ_day1 = occ_df[occ_df['jour'] == '2020-03-26']\n",
    "occ_day1.nom_station.unique()"
   ]
  },
  {
   "cell_type": "code",
   "execution_count": 33,
   "metadata": {},
   "outputs": [],
   "source": [
    "# Ce qui nous interesse désormais dans ce tableau\n",
    "# nom de la station et de la ville\n",
    "# lattitude et longitude\n",
    "# valeur Ozone\n",
    "\n",
    "occ_day1 = occ_day1[occ_day1['nom_poll'] == 'O3']\n",
    "occ_day1 = occ_day1[['X','Y','nom_com', 'nom_station', 'valeur', 'jour']]"
   ]
  },
  {
   "cell_type": "code",
   "execution_count": null,
   "metadata": {},
   "outputs": [],
   "source": [
    "\n"
   ]
  },
  {
   "cell_type": "code",
   "execution_count": 34,
   "metadata": {},
   "outputs": [],
   "source": [
    "occ_day1['logvaleur'] = np.exp(occ_day1[['valeur']])/10e35"
   ]
  },
  {
   "cell_type": "code",
   "execution_count": 35,
   "metadata": {},
   "outputs": [
    {
     "data": {
      "text/html": [
       "<div>\n",
       "<style scoped>\n",
       "    .dataframe tbody tr th:only-of-type {\n",
       "        vertical-align: middle;\n",
       "    }\n",
       "\n",
       "    .dataframe tbody tr th {\n",
       "        vertical-align: top;\n",
       "    }\n",
       "\n",
       "    .dataframe thead th {\n",
       "        text-align: right;\n",
       "    }\n",
       "</style>\n",
       "<table border=\"1\" class=\"dataframe\">\n",
       "  <thead>\n",
       "    <tr style=\"text-align: right;\">\n",
       "      <th></th>\n",
       "      <th>X</th>\n",
       "      <th>Y</th>\n",
       "      <th>nom_com</th>\n",
       "      <th>nom_station</th>\n",
       "      <th>valeur</th>\n",
       "      <th>jour</th>\n",
       "      <th>logvaleur</th>\n",
       "    </tr>\n",
       "  </thead>\n",
       "  <tbody>\n",
       "    <tr>\n",
       "      <td>50799</td>\n",
       "      <td>4.679690</td>\n",
       "      <td>43.9429</td>\n",
       "      <td>SAZE</td>\n",
       "      <td>Saze - rural</td>\n",
       "      <td>79.0</td>\n",
       "      <td>2020-03-26</td>\n",
       "      <td>2.038281e-02</td>\n",
       "    </tr>\n",
       "    <tr>\n",
       "      <td>50802</td>\n",
       "      <td>1.438610</td>\n",
       "      <td>43.6236</td>\n",
       "      <td>TOULOUSE</td>\n",
       "      <td>Toulouse-Mazades Urbain</td>\n",
       "      <td>65.4</td>\n",
       "      <td>2020-03-26</td>\n",
       "      <td>2.528478e-08</td>\n",
       "    </tr>\n",
       "    <tr>\n",
       "      <td>50803</td>\n",
       "      <td>4.374220</td>\n",
       "      <td>43.8344</td>\n",
       "      <td>NIMES</td>\n",
       "      <td>Nîmes Sud - urbain</td>\n",
       "      <td>74.9</td>\n",
       "      <td>2020-03-26</td>\n",
       "      <td>3.377977e-04</td>\n",
       "    </tr>\n",
       "    <tr>\n",
       "      <td>50806</td>\n",
       "      <td>1.571110</td>\n",
       "      <td>43.4575</td>\n",
       "      <td>MONTGISCARD</td>\n",
       "      <td>Montgiscard Urbain</td>\n",
       "      <td>70.1</td>\n",
       "      <td>2020-03-26</td>\n",
       "      <td>2.779990e-06</td>\n",
       "    </tr>\n",
       "    <tr>\n",
       "      <td>50807</td>\n",
       "      <td>1.821940</td>\n",
       "      <td>43.4414</td>\n",
       "      <td>BELESTA-EN-LAURAGAIS</td>\n",
       "      <td>Belesta en Lauragais Rural</td>\n",
       "      <td>74.4</td>\n",
       "      <td>2020-03-26</td>\n",
       "      <td>2.048847e-04</td>\n",
       "    </tr>\n",
       "    <tr>\n",
       "      <td>50817</td>\n",
       "      <td>0.179722</td>\n",
       "      <td>43.6303</td>\n",
       "      <td>PEYRUSSE-VIEILLE</td>\n",
       "      <td>Peyrusse Vieille Rural</td>\n",
       "      <td>73.5</td>\n",
       "      <td>2020-03-26</td>\n",
       "      <td>8.329989e-05</td>\n",
       "    </tr>\n",
       "    <tr>\n",
       "      <td>50829</td>\n",
       "      <td>1.418610</td>\n",
       "      <td>43.5756</td>\n",
       "      <td>TOULOUSE</td>\n",
       "      <td>Toulouse-Jacquier Urbain</td>\n",
       "      <td>68.8</td>\n",
       "      <td>2020-03-26</td>\n",
       "      <td>7.576356e-07</td>\n",
       "    </tr>\n",
       "    <tr>\n",
       "      <td>50830</td>\n",
       "      <td>2.839870</td>\n",
       "      <td>42.7198</td>\n",
       "      <td>SAINT-ESTEVE</td>\n",
       "      <td>Saint Estève - périurbain</td>\n",
       "      <td>74.0</td>\n",
       "      <td>2020-03-26</td>\n",
       "      <td>1.373383e-04</td>\n",
       "    </tr>\n",
       "    <tr>\n",
       "      <td>50832</td>\n",
       "      <td>2.230000</td>\n",
       "      <td>43.6106</td>\n",
       "      <td>CASTRES</td>\n",
       "      <td>Castres-Travet Urbain</td>\n",
       "      <td>56.2</td>\n",
       "      <td>2020-03-26</td>\n",
       "      <td>2.554759e-12</td>\n",
       "    </tr>\n",
       "    <tr>\n",
       "      <td>50858</td>\n",
       "      <td>3.911560</td>\n",
       "      <td>43.5706</td>\n",
       "      <td>LATTES</td>\n",
       "      <td>Montpellier Sud - Périurbain</td>\n",
       "      <td>72.7</td>\n",
       "      <td>2020-03-26</td>\n",
       "      <td>3.742905e-05</td>\n",
       "    </tr>\n",
       "    <tr>\n",
       "      <td>50859</td>\n",
       "      <td>3.188810</td>\n",
       "      <td>43.4068</td>\n",
       "      <td>CORNEILHAN</td>\n",
       "      <td>Biterrois-Narbonnais - Périurbain</td>\n",
       "      <td>74.0</td>\n",
       "      <td>2020-03-26</td>\n",
       "      <td>1.373383e-04</td>\n",
       "    </tr>\n",
       "    <tr>\n",
       "      <td>50861</td>\n",
       "      <td>3.800820</td>\n",
       "      <td>43.6954</td>\n",
       "      <td>SAINT-GELY-DU-FESC</td>\n",
       "      <td>Montpellier Nord - Périurbain</td>\n",
       "      <td>78.6</td>\n",
       "      <td>2020-03-26</td>\n",
       "      <td>1.366301e-02</td>\n",
       "    </tr>\n",
       "    <tr>\n",
       "      <td>50863</td>\n",
       "      <td>4.265810</td>\n",
       "      <td>43.9254</td>\n",
       "      <td>LA CALMETTE</td>\n",
       "      <td>La Calmette - Périurbain</td>\n",
       "      <td>64.3</td>\n",
       "      <td>2020-03-26</td>\n",
       "      <td>8.416571e-09</td>\n",
       "    </tr>\n",
       "    <tr>\n",
       "      <td>50864</td>\n",
       "      <td>3.886890</td>\n",
       "      <td>43.5915</td>\n",
       "      <td>MONTPELLIER</td>\n",
       "      <td>Montpellier - Prés d Arènes Urbain</td>\n",
       "      <td>83.8</td>\n",
       "      <td>2020-03-26</td>\n",
       "      <td>2.476724e+00</td>\n",
       "    </tr>\n",
       "    <tr>\n",
       "      <td>50866</td>\n",
       "      <td>-0.038889</td>\n",
       "      <td>43.0969</td>\n",
       "      <td>LOURDES</td>\n",
       "      <td>Lourdes-Lapaca Urbain</td>\n",
       "      <td>77.0</td>\n",
       "      <td>2020-03-26</td>\n",
       "      <td>2.758513e-03</td>\n",
       "    </tr>\n",
       "    <tr>\n",
       "      <td>50870</td>\n",
       "      <td>0.744722</td>\n",
       "      <td>43.0944</td>\n",
       "      <td>MIRAMONT-DE-COMMINGES</td>\n",
       "      <td>Saint Gaudens-Miramont Industriel</td>\n",
       "      <td>69.0</td>\n",
       "      <td>2020-03-26</td>\n",
       "      <td>9.253782e-07</td>\n",
       "    </tr>\n",
       "    <tr>\n",
       "      <td>50871</td>\n",
       "      <td>1.443890</td>\n",
       "      <td>43.5872</td>\n",
       "      <td>TOULOUSE</td>\n",
       "      <td>Toulouse-Berthelot Urbain</td>\n",
       "      <td>65.2</td>\n",
       "      <td>2020-03-26</td>\n",
       "      <td>2.070142e-08</td>\n",
       "    </tr>\n",
       "    <tr>\n",
       "      <td>50881</td>\n",
       "      <td>1.385410</td>\n",
       "      <td>43.5970</td>\n",
       "      <td>TOULOUSE</td>\n",
       "      <td>Station Pedagogique</td>\n",
       "      <td>63.5</td>\n",
       "      <td>2020-03-26</td>\n",
       "      <td>3.781809e-09</td>\n",
       "    </tr>\n",
       "    <tr>\n",
       "      <td>50905</td>\n",
       "      <td>0.062222</td>\n",
       "      <td>43.2303</td>\n",
       "      <td>TARBES</td>\n",
       "      <td>Tarbes-Dupuy Urbain</td>\n",
       "      <td>80.9</td>\n",
       "      <td>2020-03-26</td>\n",
       "      <td>1.362773e-01</td>\n",
       "    </tr>\n",
       "    <tr>\n",
       "      <td>50906</td>\n",
       "      <td>2.570700</td>\n",
       "      <td>44.3570</td>\n",
       "      <td>RODEZ</td>\n",
       "      <td>Rodez Urbain</td>\n",
       "      <td>80.2</td>\n",
       "      <td>2020-03-26</td>\n",
       "      <td>6.767331e-02</td>\n",
       "    </tr>\n",
       "    <tr>\n",
       "      <td>50914</td>\n",
       "      <td>3.504830</td>\n",
       "      <td>43.2878</td>\n",
       "      <td>AGDE</td>\n",
       "      <td>Agathois-Piscénois - Périurbain</td>\n",
       "      <td>76.4</td>\n",
       "      <td>2020-03-26</td>\n",
       "      <td>1.513904e-03</td>\n",
       "    </tr>\n",
       "    <tr>\n",
       "      <td>50918</td>\n",
       "      <td>2.524840</td>\n",
       "      <td>43.3233</td>\n",
       "      <td>CAUNES-MINERVOIS</td>\n",
       "      <td>Caunes-Minervois - rural</td>\n",
       "      <td>72.5</td>\n",
       "      <td>2020-03-26</td>\n",
       "      <td>3.064432e-05</td>\n",
       "    </tr>\n",
       "    <tr>\n",
       "      <td>50921</td>\n",
       "      <td>2.899700</td>\n",
       "      <td>42.6958</td>\n",
       "      <td>PERPIGNAN</td>\n",
       "      <td>Perpignan Centre - urbain</td>\n",
       "      <td>50.8</td>\n",
       "      <td>2020-03-26</td>\n",
       "      <td>1.153877e-14</td>\n",
       "    </tr>\n",
       "  </tbody>\n",
       "</table>\n",
       "</div>"
      ],
      "text/plain": [
       "              X        Y                nom_com  \\\n",
       "50799  4.679690  43.9429                   SAZE   \n",
       "50802  1.438610  43.6236               TOULOUSE   \n",
       "50803  4.374220  43.8344                  NIMES   \n",
       "50806  1.571110  43.4575            MONTGISCARD   \n",
       "50807  1.821940  43.4414   BELESTA-EN-LAURAGAIS   \n",
       "50817  0.179722  43.6303       PEYRUSSE-VIEILLE   \n",
       "50829  1.418610  43.5756               TOULOUSE   \n",
       "50830  2.839870  42.7198           SAINT-ESTEVE   \n",
       "50832  2.230000  43.6106                CASTRES   \n",
       "50858  3.911560  43.5706                 LATTES   \n",
       "50859  3.188810  43.4068             CORNEILHAN   \n",
       "50861  3.800820  43.6954     SAINT-GELY-DU-FESC   \n",
       "50863  4.265810  43.9254            LA CALMETTE   \n",
       "50864  3.886890  43.5915            MONTPELLIER   \n",
       "50866 -0.038889  43.0969                LOURDES   \n",
       "50870  0.744722  43.0944  MIRAMONT-DE-COMMINGES   \n",
       "50871  1.443890  43.5872               TOULOUSE   \n",
       "50881  1.385410  43.5970               TOULOUSE   \n",
       "50905  0.062222  43.2303                 TARBES   \n",
       "50906  2.570700  44.3570                  RODEZ   \n",
       "50914  3.504830  43.2878                   AGDE   \n",
       "50918  2.524840  43.3233       CAUNES-MINERVOIS   \n",
       "50921  2.899700  42.6958              PERPIGNAN   \n",
       "\n",
       "                              nom_station  valeur        jour     logvaleur  \n",
       "50799                        Saze - rural    79.0  2020-03-26  2.038281e-02  \n",
       "50802             Toulouse-Mazades Urbain    65.4  2020-03-26  2.528478e-08  \n",
       "50803                  Nîmes Sud - urbain    74.9  2020-03-26  3.377977e-04  \n",
       "50806                  Montgiscard Urbain    70.1  2020-03-26  2.779990e-06  \n",
       "50807          Belesta en Lauragais Rural    74.4  2020-03-26  2.048847e-04  \n",
       "50817              Peyrusse Vieille Rural    73.5  2020-03-26  8.329989e-05  \n",
       "50829            Toulouse-Jacquier Urbain    68.8  2020-03-26  7.576356e-07  \n",
       "50830           Saint Estève - périurbain    74.0  2020-03-26  1.373383e-04  \n",
       "50832               Castres-Travet Urbain    56.2  2020-03-26  2.554759e-12  \n",
       "50858        Montpellier Sud - Périurbain    72.7  2020-03-26  3.742905e-05  \n",
       "50859   Biterrois-Narbonnais - Périurbain    74.0  2020-03-26  1.373383e-04  \n",
       "50861       Montpellier Nord - Périurbain    78.6  2020-03-26  1.366301e-02  \n",
       "50863            La Calmette - Périurbain    64.3  2020-03-26  8.416571e-09  \n",
       "50864  Montpellier - Prés d Arènes Urbain    83.8  2020-03-26  2.476724e+00  \n",
       "50866               Lourdes-Lapaca Urbain    77.0  2020-03-26  2.758513e-03  \n",
       "50870   Saint Gaudens-Miramont Industriel    69.0  2020-03-26  9.253782e-07  \n",
       "50871           Toulouse-Berthelot Urbain    65.2  2020-03-26  2.070142e-08  \n",
       "50881                 Station Pedagogique    63.5  2020-03-26  3.781809e-09  \n",
       "50905                 Tarbes-Dupuy Urbain    80.9  2020-03-26  1.362773e-01  \n",
       "50906                        Rodez Urbain    80.2  2020-03-26  6.767331e-02  \n",
       "50914     Agathois-Piscénois - Périurbain    76.4  2020-03-26  1.513904e-03  \n",
       "50918            Caunes-Minervois - rural    72.5  2020-03-26  3.064432e-05  \n",
       "50921           Perpignan Centre - urbain    50.8  2020-03-26  1.153877e-14  "
      ]
     },
     "execution_count": 35,
     "metadata": {},
     "output_type": "execute_result"
    }
   ],
   "source": [
    "occ_day1 # nombre très raisonnable de données"
   ]
  },
  {
   "cell_type": "code",
   "execution_count": 40,
   "metadata": {},
   "outputs": [],
   "source": [
    "import branca.colormap as cm\n",
    "\n",
    "linear = cm.LinearColormap(\n",
    "    ['yellow', 'orange' 'red'],\n",
    "    vmin=10e-15, vmax=1\n",
    ")"
   ]
  },
  {
   "cell_type": "code",
   "execution_count": 42,
   "metadata": {},
   "outputs": [
    {
     "data": {
      "text/html": [
       "<div style=\"width:100%;\"><div style=\"position:relative;width:100%;height:0;padding-bottom:60%;\"><iframe src=\"about:blank\" style=\"position:absolute;width:100%;height:100%;left:0;top:0;border:none !important;\" data-html=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 onload=\"this.contentDocument.open();this.contentDocument.write(atob(this.getAttribute('data-html')));this.contentDocument.close();\" allowfullscreen webkitallowfullscreen mozallowfullscreen></iframe></div></div>"
      ],
      "text/plain": [
       "<folium.folium.Map at 0x23c4be44948>"
      ]
     },
     "execution_count": 42,
     "metadata": {},
     "output_type": "execute_result"
    }
   ],
   "source": [
    "map = folium.Map(location=[43.9333, 2.15], zoom_start=7.5 , tiles='Stamen Terrain')\n",
    "\n",
    "for i in range(0,len(occ_day1)):\n",
    "   folium.Circle(\n",
    "      location=[occ_day1.iloc[i]['Y'], occ_day1.iloc[i]['X']],\n",
    "      popup=occ_day1.iloc[i]['nom_station'],\n",
    "      radius=occ_day1.iloc[i]['valeur']*100,\n",
    "      color='black',\n",
    "      fill=True,\n",
    "      fill_color=linear(occ_day1.iloc[i]['logvaleur']),\n",
    "       fill_opacity=0.5,\n",
    "       opacity=0.4,\n",
    "   ).add_to(map)\n",
    "\n",
    "map\n",
    "\n",
    "# TROUVER UNE BONNE ECHELLE POUR BIEN VOIR LES DIFFERENCES\n",
    "# selectionner que certaines stations??\n"
   ]
  },
  {
   "cell_type": "code",
   "execution_count": null,
   "metadata": {},
   "outputs": [],
   "source": []
  }
 ],
 "metadata": {
  "kernelspec": {
   "display_name": "Python 3",
   "language": "python",
   "name": "python3"
  },
  "language_info": {
   "codemirror_mode": {
    "name": "ipython",
    "version": 3
   },
   "file_extension": ".py",
   "mimetype": "text/x-python",
   "name": "python",
   "nbconvert_exporter": "python",
   "pygments_lexer": "ipython3",
   "version": "3.7.4"
  }
 },
 "nbformat": 4,
 "nbformat_minor": 2
}
