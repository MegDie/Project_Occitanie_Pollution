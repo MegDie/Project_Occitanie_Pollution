{
 "cells": [
  {
   "cell_type": "code",
   "execution_count": 1,
   "metadata": {},
   "outputs": [],
   "source": [
    "import matplotlib.pyplot as plt\n",
    "%matplotlib inline\n",
    "import matplotlib.colors as colors\n",
    "\n",
    "from numpy import array\n",
    "from numpy import max\n",
    "import numpy as np\n",
    "import pandas as pd\n",
    "import math\n",
    "import folium"
   ]
  },
  {
   "cell_type": "code",
   "execution_count": 2,
   "metadata": {},
   "outputs": [
    {
     "name": "stdout",
     "output_type": "stream",
     "text": [
      "Replace is False and data exists, so doing nothing. Use replace==True to re-download the data.\n"
     ]
    }
   ],
   "source": [
    "from download import download\n",
    "\n",
    "# We choose daily data\n",
    "url = \"https://opendata.arcgis.com/datasets/e0f26f918c504608b10d128f65ce0efc_0.csv\"\n",
    "path_target = \"datasets/Mesure_annuelle_Region_Occitanie_Polluants_Principaux.csv\"\n",
    "download(url, path_target, replace=False)\n",
    "\n",
    "paris_df = pd.read_csv('PA13.csv', sep=';',\n",
    "                          comment='#',\n",
    "                          na_values=\"n/d\",\n",
    "                          converters={'heure': str})"
   ]
  },
  {
   "cell_type": "markdown",
   "metadata": {},
   "source": [
    "## 1) Data treatment"
   ]
  },
  {
   "cell_type": "code",
   "execution_count": 3,
   "metadata": {},
   "outputs": [],
   "source": [
    "occ_df = pd.read_csv(path_target)\n",
    "occ_df = occ_df[occ_df['nom_poll'] == 'O3'] # only ozone"
   ]
  },
  {
   "cell_type": "code",
   "execution_count": null,
   "metadata": {},
   "outputs": [],
   "source": []
  },
  {
   "cell_type": "code",
   "execution_count": 4,
   "metadata": {},
   "outputs": [
    {
     "name": "stderr",
     "output_type": "stream",
     "text": [
      "C:\\Users\\megan\\Anaconda3\\lib\\site-packages\\pandas\\core\\arrays\\datetimes.py:1269: UserWarning: Converting to PeriodArray/Index representation will drop timezone information.\n",
      "  UserWarning,\n"
     ]
    }
   ],
   "source": [
    "# On va traiter les données afin de rajouter une colonne de la date (jour)\n",
    "occ_df['an'] = pd.to_datetime(occ_df['date_debut']).dt.to_period('Y')\n",
    "# On rajoute une colonne pour avoir des valeurs standardisées\n",
    "# Cela va servir à avoir une échelle des couleurs plus claire\n",
    "occ_df['centrer_reduire'] = (occ_df[['valeur']] - np.mean(occ_df[['valeur']]))/ np.std(occ_df[['valeur']])"
   ]
  },
  {
   "cell_type": "code",
   "execution_count": 5,
   "metadata": {},
   "outputs": [
    {
     "data": {
      "text/plain": [
       "array(['Toulouse-Jacquier Urbain', 'Peyrusse Vieille Rural',\n",
       "       'Toulouse-Mazades Urbain', 'Albi Urbain',\n",
       "       'Toulouse-Berthelot Urbain', 'Belesta en Lauragais Rural',\n",
       "       'Montgiscard Urbain', 'Lourdes-Lapaca Urbain',\n",
       "       'Tarbes-Dupuy Urbain', 'Castres-Travet Urbain', 'Millau Urbain',\n",
       "       'Pamiers Urbain', 'Station Pedagogique',\n",
       "       'Montpellier - Prés d Arènes Urbain',\n",
       "       'Montpellier Nord - Périurbain', 'Montpellier Sud - Périurbain',\n",
       "       'Biterrois-Narbonnais - Périurbain',\n",
       "       'Agathois-Piscénois - Périurbain', 'Nîmes Sud - urbain',\n",
       "       'La Calmette - Périurbain', 'Alès Cévennes - Pérurbain',\n",
       "       'Saze - rural', 'Vallabrègues - rural', 'Perpignan Sud - urbain',\n",
       "       'Saint Estève - périurbain', 'Rodez Urbain'], dtype=object)"
      ]
     },
     "execution_count": 5,
     "metadata": {},
     "output_type": "execute_result"
    }
   ],
   "source": [
    "occ_df.nom_station.unique()"
   ]
  },
  {
   "cell_type": "code",
   "execution_count": 6,
   "metadata": {},
   "outputs": [
    {
     "data": {
      "text/plain": [
       "<PeriodArray>\n",
       "['2018', '2017']\n",
       "Length: 2, dtype: period[A-DEC]"
      ]
     },
     "execution_count": 6,
     "metadata": {},
     "output_type": "execute_result"
    }
   ],
   "source": [
    "occ_df.an.unique() # 362 jours, on fera varier notre map selon ces jours."
   ]
  },
  {
   "cell_type": "code",
   "execution_count": 7,
   "metadata": {},
   "outputs": [],
   "source": [
    "import branca.colormap as cm\n",
    "\n",
    "linear = cm.LinearColormap(\n",
    "    ['green', 'yellow', 'red'],\n",
    "    vmin=-3, vmax=1\n",
    ")\n",
    "# couleurs"
   ]
  },
  {
   "cell_type": "code",
   "execution_count": 8,
   "metadata": {},
   "outputs": [],
   "source": [
    "from ipywidgets import interact  # widget manipulation\n",
    "from IPython.display import HTML"
   ]
  },
  {
   "cell_type": "code",
   "execution_count": 9,
   "metadata": {},
   "outputs": [],
   "source": [
    "# rajoute Paris !!! \n",
    "\n",
    "def interactive_map(year = '2018'):\n",
    "    \n",
    "    occ_map = occ_df[occ_df['an'] == year]\n",
    "    \n",
    "    map_int = folium.Map(location = [43.9333, 2.15], \n",
    "                         zoom_start = 7.5, \n",
    "                         tiles = 'Stamen Terrain')\n",
    "    \n",
    "    for i in range(0,len(occ_map)):\n",
    "        folium.Circle(\n",
    "            location = [occ_map.iloc[i]['Y'], occ_map.iloc[i]['X']],\n",
    "            popup = occ_map.iloc[i]['nom_station'],\n",
    "            radius = occ_map.iloc[i]['valeur']*100,\n",
    "            color = 'black',\n",
    "            fill = True,\n",
    "            fill_color = linear(occ_map.iloc[i]['centrer_reduire']),\n",
    "            fill_opacity = 0.5,\n",
    "            opacity = 0.4,\n",
    "        ).add_to(map_int)\n",
    "    \n",
    "    return(map_int)"
   ]
  },
  {
   "cell_type": "code",
   "execution_count": 10,
   "metadata": {},
   "outputs": [
    {
     "data": {
      "application/vnd.jupyter.widget-view+json": {
       "model_id": "e9319bd670ed4562884a836db4dfa453",
       "version_major": 2,
       "version_minor": 0
      },
      "text/plain": [
       "interactive(children=(Text(value='2018', description='year'), Output()), _dom_classes=('widget-interact',))"
      ]
     },
     "metadata": {},
     "output_type": "display_data"
    },
    {
     "data": {
      "text/plain": [
       "<function __main__.interactive_map(year='2018')>"
      ]
     },
     "execution_count": 10,
     "metadata": {},
     "output_type": "execute_result"
    }
   ],
   "source": [
    "interact(interactive_map, month=occ_df.an.unique())"
   ]
  },
  {
   "cell_type": "markdown",
   "metadata": {},
   "source": [
    "## 4) Animation \n"
   ]
  },
  {
   "cell_type": "code",
   "execution_count": 11,
   "metadata": {},
   "outputs": [],
   "source": [
    "import matplotlib.animation as animation\n",
    "# Comment obtient on une image de ce truc ?\n",
    "# Animons tout ça..."
   ]
  }
 ],
 "metadata": {
  "kernelspec": {
   "display_name": "Python 3",
   "language": "python",
   "name": "python3"
  },
  "language_info": {
   "codemirror_mode": {
    "name": "ipython",
    "version": 3
   },
   "file_extension": ".py",
   "mimetype": "text/x-python",
   "name": "python",
   "nbconvert_exporter": "python",
   "pygments_lexer": "ipython3",
   "version": "3.7.4"
  }
 },
 "nbformat": 4,
 "nbformat_minor": 2
}
