{
 "cells": [
  {
   "cell_type": "code",
   "execution_count": 1,
   "metadata": {},
   "outputs": [],
   "source": [
    "import matplotlib.pyplot as plt\n",
    "%matplotlib inline\n",
    "import matplotlib.colors as colors\n",
    "\n",
    "from numpy import array\n",
    "from numpy import max\n",
    "import numpy as np\n",
    "import pandas as pd\n",
    "import math\n",
    "import folium"
   ]
  },
  {
   "cell_type": "code",
   "execution_count": 2,
   "metadata": {},
   "outputs": [
    {
     "name": "stdout",
     "output_type": "stream",
     "text": [
      "Replace is False and data exists, so doing nothing. Use replace==True to re-download the data.\n"
     ]
    },
    {
     "data": {
      "text/plain": [
       "'datasets/Mesure_journaliere_Region_Occitanie_Polluants_Principaux.csv'"
      ]
     },
     "execution_count": 2,
     "metadata": {},
     "output_type": "execute_result"
    }
   ],
   "source": [
    "from download import download\n",
    "\n",
    "# We choose daily data\n",
    "url = \"https://opendata.arcgis.com/datasets/2ab16a5fb61f42c1a689fd9cc466383f_0.csv\"\n",
    "path_target = \"datasets/Mesure_journaliere_Region_Occitanie_Polluants_Principaux.csv\"\n",
    "download(url, path_target, replace=False)"
   ]
  },
  {
   "cell_type": "markdown",
   "metadata": {},
   "source": [
    "## 1) Data treatment"
   ]
  },
  {
   "cell_type": "code",
   "execution_count": 3,
   "metadata": {},
   "outputs": [],
   "source": [
    "occ_df = pd.read_csv(path_target)\n",
    "occ_df = occ_df[occ_df['nom_poll'] == 'O3'] # only ozone"
   ]
  },
  {
   "cell_type": "markdown",
   "metadata": {},
   "source": [
    "Que veut-on représenter? \n",
    "   +  Toutes les villes de notre data set en Occitanie\n",
    "   +  La question est quand ?\n",
    "   + Peut on faire varier la date interactivement\n",
    "   + Voila pourquoi on veut une video, on va voire la pollution évoluer\n",
    "   \n",
    "J'ai reflechi cette nuit et on developpera ici:\n",
    "   + Une map de l'occitanie qui affiche les données journalières\n",
    "   + Elle sera interactive et on pourra choisir le jour qu'on veut\n",
    "   + Il faudra certainement et au préalable nettoyer nos données"
   ]
  },
  {
   "cell_type": "code",
   "execution_count": 4,
   "metadata": {},
   "outputs": [
    {
     "name": "stderr",
     "output_type": "stream",
     "text": [
      "C:\\Users\\megan\\Anaconda3\\lib\\site-packages\\pandas\\core\\arrays\\datetimes.py:1269: UserWarning: Converting to PeriodArray/Index representation will drop timezone information.\n",
      "  UserWarning,\n"
     ]
    }
   ],
   "source": [
    "# On va traiter les données afin de rajouter une colonne de la date (jour)\n",
    "occ_df['jour'] = pd.to_datetime(occ_df['date_debut']).dt.to_period('D')\n",
    "# On rajoute une colonne pour avoir des valeurs standardisées\n",
    "# Cela va servir à avoir une échelle des couleurs plus claire\n",
    "occ_df['centrer_reduire'] = (occ_df[['valeur']] - np.mean(occ_df[['valeur']]))/ np.std(occ_df[['valeur']])"
   ]
  },
  {
   "cell_type": "code",
   "execution_count": 5,
   "metadata": {},
   "outputs": [
    {
     "data": {
      "text/plain": [
       "array(['Mende - Vernede urbain', 'Saze - rural',\n",
       "       'Toulouse-Berthelot Urbain', 'Montpellier Nord - Périurbain',\n",
       "       'Toulouse-Mazades Urbain', 'Albi Urbain',\n",
       "       'Montpellier - Prés d Arènes Urbain', 'Toulouse-Jacquier Urbain',\n",
       "       'Lourdes-Lapaca Urbain', 'Castres-Travet Urbain',\n",
       "       'Tarbes-Dupuy Urbain', 'Nîmes Sud - urbain',\n",
       "       'La Calmette - Périurbain', 'Peyrusse Vieille Rural',\n",
       "       'Montgiscard Urbain', 'Belesta en Lauragais Rural',\n",
       "       'Montpellier Sud - Périurbain', 'Saint Estève - périurbain',\n",
       "       'Agathois-Piscénois - Périurbain',\n",
       "       'Biterrois-Narbonnais - Périurbain',\n",
       "       'Saint Gaudens-Miramont Industriel', 'Rodez Urbain',\n",
       "       'Caunes-Minervois - rural', 'Carcassonne - urbain',\n",
       "       'Station Pedagogique', 'Perpignan Centre - urbain',\n",
       "       'Roqueredonde - rurale', 'Biars-sur-Cere - urbain',\n",
       "       'Vallabrègues - rural'], dtype=object)"
      ]
     },
     "execution_count": 5,
     "metadata": {},
     "output_type": "execute_result"
    }
   ],
   "source": [
    "occ_df.nom_station.unique()"
   ]
  },
  {
   "cell_type": "code",
   "execution_count": 6,
   "metadata": {},
   "outputs": [
    {
     "data": {
      "text/plain": [
       "<PeriodArray>\n",
       "['2019-12-27', '2019-12-28', '2020-02-19', '2020-02-26', '2019-12-29',\n",
       " '2019-12-30', '2020-02-20', '2019-12-31', '2020-01-01', '2019-10-16',\n",
       " ...\n",
       " '2020-04-07', '2020-04-08', '2020-03-27', '2020-03-28', '2020-03-29',\n",
       " '2020-03-30', '2020-03-31', '2020-04-01', '2019-12-22', '2019-12-25']\n",
       "Length: 363, dtype: period[D]"
      ]
     },
     "execution_count": 6,
     "metadata": {},
     "output_type": "execute_result"
    }
   ],
   "source": [
    "occ_df.jour.unique() # 362 jours, on fera varier notre map selon ces jours."
   ]
  },
  {
   "cell_type": "code",
   "execution_count": 10,
   "metadata": {},
   "outputs": [],
   "source": [
    "import branca.colormap as cm\n",
    "\n",
    "linear = cm.LinearColormap(\n",
    "    ['green', 'yellow', 'red'],\n",
    "    vmin=-3, vmax=1\n",
    ")\n",
    "# couleurs"
   ]
  },
  {
   "cell_type": "code",
   "execution_count": 12,
   "metadata": {},
   "outputs": [],
   "source": [
    "from ipywidgets import interact  # widget manipulation\n",
    "from IPython.display import HTML"
   ]
  },
  {
   "cell_type": "code",
   "execution_count": 13,
   "metadata": {},
   "outputs": [],
   "source": [
    "# rajoute Paris !!! \n",
    "\n",
    "def interactive_map(day = '2020-03-26'):\n",
    "    \n",
    "    occ_map = occ_df[occ_df['jour'] == day]\n",
    "    \n",
    "    map_int = folium.Map(location = [43.9333, 2.15], \n",
    "                         zoom_start = 7.5, \n",
    "                         tiles = 'Stamen Terrain')\n",
    "    \n",
    "    for i in range(0,len(occ_map)):\n",
    "        folium.Circle(\n",
    "            location = [occ_map.iloc[i]['Y'], occ_map.iloc[i]['X']],\n",
    "            popup = occ_map.iloc[i]['nom_station'],\n",
    "            radius = occ_map.iloc[i]['valeur']*100,\n",
    "            color = 'black',\n",
    "            fill = True,\n",
    "            fill_color = linear(occ_map.iloc[i]['centrer_reduire']),\n",
    "            fill_opacity = 0.5,\n",
    "            opacity = 0.4,\n",
    "        ).add_to(map_int)\n",
    "    \n",
    "    return(map_int)"
   ]
  },
  {
   "cell_type": "code",
   "execution_count": 14,
   "metadata": {},
   "outputs": [
    {
     "data": {
      "application/vnd.jupyter.widget-view+json": {
       "model_id": "d9a63684b0db4943a7b82ce3eda488b7",
       "version_major": 2,
       "version_minor": 0
      },
      "text/plain": [
       "interactive(children=(Text(value='2020-03-26', description='day'), Output()), _dom_classes=('widget-interact',…"
      ]
     },
     "metadata": {},
     "output_type": "display_data"
    },
    {
     "data": {
      "text/plain": [
       "<function __main__.interactive_map(day='2020-03-26')>"
      ]
     },
     "execution_count": 14,
     "metadata": {},
     "output_type": "execute_result"
    }
   ],
   "source": [
    "interact(interactive_map, month=occ_df.jour.unique())"
   ]
  },
  {
   "cell_type": "markdown",
   "metadata": {},
   "source": [
    "## 4) Animation \n"
   ]
  },
  {
   "cell_type": "code",
   "execution_count": 15,
   "metadata": {},
   "outputs": [],
   "source": [
    "import matplotlib.animation as animation\n",
    "# Comment obtient on une image de ce truc ?\n",
    "# Animons tout ça..."
   ]
  }
 ],
 "metadata": {
  "kernelspec": {
   "display_name": "Python 3",
   "language": "python",
   "name": "python3"
  },
  "language_info": {
   "codemirror_mode": {
    "name": "ipython",
    "version": 3
   },
   "file_extension": ".py",
   "mimetype": "text/x-python",
   "name": "python",
   "nbconvert_exporter": "python",
   "pygments_lexer": "ipython3",
   "version": "3.7.4"
  }
 },
 "nbformat": 4,
 "nbformat_minor": 2
}
