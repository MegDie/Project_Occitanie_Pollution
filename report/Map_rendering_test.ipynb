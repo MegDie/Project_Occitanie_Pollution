{
 "cells": [
  {
   "cell_type": "code",
   "execution_count": 1,
   "metadata": {},
   "outputs": [],
   "source": [
    "import matplotlib.pyplot as plt\n",
    "%matplotlib inline\n",
    "import matplotlib.colors as colors\n",
    "\n",
    "from numpy import array\n",
    "from numpy import max\n",
    "import numpy as np\n",
    "import pandas as pd"
   ]
  },
  {
   "cell_type": "code",
   "execution_count": 2,
   "metadata": {},
   "outputs": [],
   "source": [
    "import folium"
   ]
  },
  {
   "cell_type": "code",
   "execution_count": 3,
   "metadata": {},
   "outputs": [
    {
     "data": {
      "text/html": [
       "<div style=\"width:100%;\"><div style=\"position:relative;width:100%;height:0;padding-bottom:60%;\"><iframe src=\"about:blank\" style=\"position:absolute;width:100%;height:100%;left:0;top:0;border:none !important;\" data-html=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 onload=\"this.contentDocument.open();this.contentDocument.write(atob(this.getAttribute('data-html')));this.contentDocument.close();\" allowfullscreen webkitallowfullscreen mozallowfullscreen></iframe></div></div>"
      ],
      "text/plain": [
       "<folium.folium.Map at 0x259dcdda6c8>"
      ]
     },
     "execution_count": 3,
     "metadata": {},
     "output_type": "execute_result"
    }
   ],
   "source": [
    "map = folium.Map(location=[43.9333, 2.15], zoom_start=7.5 , tiles='Stamen Terrain')\n",
    "map # centering on city of Albi"
   ]
  },
  {
   "cell_type": "code",
   "execution_count": 4,
   "metadata": {},
   "outputs": [
    {
     "name": "stdout",
     "output_type": "stream",
     "text": [
      "Replace is False and data exists, so doing nothing. Use replace==True to re-download the data.\n"
     ]
    },
    {
     "data": {
      "text/plain": [
       "'datasets/Mesure_journaliere_Region_Occitanie_Polluants_Principaux.csv'"
      ]
     },
     "execution_count": 4,
     "metadata": {},
     "output_type": "execute_result"
    }
   ],
   "source": [
    "from download import download\n",
    "\n",
    "# We choose daily data\n",
    "url = \"https://opendata.arcgis.com/datasets/2ab16a5fb61f42c1a689fd9cc466383f_0.csv\"\n",
    "path_target = \"datasets/Mesure_journaliere_Region_Occitanie_Polluants_Principaux.csv\"\n",
    "download(url, path_target, replace=False)\n"
   ]
  },
  {
   "cell_type": "code",
   "execution_count": 5,
   "metadata": {},
   "outputs": [],
   "source": [
    "occ_df = pd.read_csv(path_target)"
   ]
  },
  {
   "cell_type": "markdown",
   "metadata": {},
   "source": [
    "Que veut-on représenter? \n",
    "   +  Toutes les villes de notre data set en Occitanie\n",
    "   +  La question est quand ?\n",
    "   + Peut on faire varier la date interactivement\n",
    "   + Voila pourquoi on veut une video, on va voire la pollution évoluer\n",
    "   \n",
    "J'ai reflechi cette nuit et on developpera ici:\n",
    "   + Une map de l'occitanie qui affiche les données journalières\n",
    "   + Elle sera interactive et on pourra choisir le jour qu'on veut\n",
    "   + Il faudra certainement et au préalable nettoyer nos données"
   ]
  },
  {
   "cell_type": "code",
   "execution_count": 6,
   "metadata": {},
   "outputs": [
    {
     "name": "stderr",
     "output_type": "stream",
     "text": [
      "C:\\Users\\megan\\Anaconda3\\lib\\site-packages\\pandas\\core\\arrays\\datetimes.py:1269: UserWarning: Converting to PeriodArray/Index representation will drop timezone information.\n",
      "  UserWarning,\n"
     ]
    }
   ],
   "source": [
    "# On va traiter les données afin de rajouter une colonne de la date\n",
    "\n",
    "occ_df['jour'] = pd.to_datetime(occ_df['date_debut']).dt.to_period('D')"
   ]
  },
  {
   "cell_type": "code",
   "execution_count": 7,
   "metadata": {},
   "outputs": [
    {
     "data": {
      "text/plain": [
       "array(['Peyrusse Vieille Rural', 'Montpellier - Pompignane Trafic',\n",
       "       'Mende - Vernede urbain', 'Perpignan Sud - urbain', 'Albi Urbain',\n",
       "       'Toulouse-Jacquier Urbain', 'Agathois-Piscénois - Périurbain',\n",
       "       'Saze - rural', 'Toulouse-Berthelot Urbain',\n",
       "       'Montpellier Nord - Périurbain', 'Toulouse-Mazades Urbain',\n",
       "       'Montpellier - Prés d Arènes Urbain', 'Lourdes-Lapaca Urbain',\n",
       "       'Castres-Travet Urbain', 'Montpellier - Chaptal Urbain',\n",
       "       'Tarbes-Dupuy Urbain', 'Nîmes - Planas - Trafic',\n",
       "       'La Calmette - Périurbain', 'Lunel-Viel - Périurbain',\n",
       "       'Saint Gaudens-Miramont Industriel',\n",
       "       'Saint Gaudens-Daurat Industriel', 'Nîmes Sud - urbain',\n",
       "       'Montgiscard Urbain', 'Belesta en Lauragais Rural',\n",
       "       'Montpellier Sud - Périurbain', 'Perpignan Centre - urbain',\n",
       "       'Saint Estève - périurbain', 'Montpellier - Saint Denis Trafic',\n",
       "       'Blagnac Aéroport Piste ', 'Toulouse-Périphérique Trafic',\n",
       "       'Blagnac Aéroport Trafic ', 'Toulouse Port de l Embouchure',\n",
       "       'Biterrois-Narbonnais - Périurbain', 'Toulouse - Rte Albi Trafic',\n",
       "       'Saint-Gaudens urbain', 'Biars-sur-Cere - urbain',\n",
       "       'St Laurent des Arbres - périurbain', 'Rodez Urbain',\n",
       "       'Toulouse-SETMI Chapitre', 'Lourdes-Paradis Trafic',\n",
       "       'Carcassonne - urbain', 'Caunes-Minervois - rural',\n",
       "       'Toulouse-SETMI Eisenhower ', 'Bessières-ECONOTRE',\n",
       "       'Station Pedagogique', 'Vallabrègues - rural',\n",
       "       'Roqueredonde - rurale', 'Pamiers Urbain'], dtype=object)"
      ]
     },
     "execution_count": 7,
     "metadata": {},
     "output_type": "execute_result"
    }
   ],
   "source": [
    "occ_df.nom_station.unique()"
   ]
  },
  {
   "cell_type": "code",
   "execution_count": 8,
   "metadata": {},
   "outputs": [
    {
     "data": {
      "text/plain": [
       "<PeriodArray>\n",
       "['2019-12-27', '2020-02-26', '2019-05-27', '2019-12-28', '2020-02-19',\n",
       " '2019-08-06', '2019-12-29', '2020-02-20', '2019-12-30', '2019-05-14',\n",
       " ...\n",
       " '2020-03-23', '2020-03-24', '2019-12-26', '2020-03-25', '2020-03-26',\n",
       " '2020-03-27', '2020-02-18', '2020-02-13', '2020-02-14', '2019-06-19']\n",
       "Length: 362, dtype: period[D]"
      ]
     },
     "execution_count": 8,
     "metadata": {},
     "output_type": "execute_result"
    }
   ],
   "source": [
    "occ_df.jour.unique() # 362 jours, on fera varier notre map selon ces jours."
   ]
  },
  {
   "cell_type": "markdown",
   "metadata": {},
   "source": [
    "On va prendre le tableau d'un jour en particulier:"
   ]
  },
  {
   "cell_type": "code",
   "execution_count": 9,
   "metadata": {},
   "outputs": [
    {
     "data": {
      "text/plain": [
       "array(['Peyrusse Vieille Rural', 'Tarbes-Dupuy Urbain',\n",
       "       'Toulouse-Périphérique Trafic', 'Toulouse Port de l Embouchure',\n",
       "       'Agathois-Piscénois - Périurbain', 'Toulouse-Mazades Urbain',\n",
       "       'Saint-Gaudens urbain', 'Toulouse-Jacquier Urbain',\n",
       "       'Lunel-Viel - Périurbain', 'Perpignan Centre - urbain',\n",
       "       'Lourdes-Paradis Trafic', 'Castres-Travet Urbain',\n",
       "       'Perpignan Sud - urbain', 'Lourdes-Lapaca Urbain', 'Saze - rural',\n",
       "       'Albi Urbain', 'Montpellier - Pompignane Trafic',\n",
       "       'Nîmes Sud - urbain', 'Toulouse - Rte Albi Trafic',\n",
       "       'Montgiscard Urbain', 'Belesta en Lauragais Rural',\n",
       "       'Toulouse-Berthelot Urbain', 'Blagnac Aéroport Piste ',\n",
       "       'Blagnac Aéroport Trafic ', 'Montpellier - Chaptal Urbain',\n",
       "       'Montpellier - Prés d Arènes Urbain',\n",
       "       'Saint Gaudens-Daurat Industriel', 'Saint Estève - périurbain',\n",
       "       'Nîmes - Planas - Trafic', 'Montpellier Sud - Périurbain',\n",
       "       'Biterrois-Narbonnais - Périurbain',\n",
       "       'Saint Gaudens-Miramont Industriel',\n",
       "       'Montpellier Nord - Périurbain', 'La Calmette - Périurbain',\n",
       "       'Station Pedagogique', 'Montpellier - Saint Denis Trafic',\n",
       "       'Bessières-ECONOTRE', 'St Laurent des Arbres - périurbain',\n",
       "       'Toulouse-SETMI Eisenhower ', 'Rodez Urbain',\n",
       "       'Toulouse-SETMI Chapitre', 'Caunes-Minervois - rural'],\n",
       "      dtype=object)"
      ]
     },
     "execution_count": 9,
     "metadata": {},
     "output_type": "execute_result"
    }
   ],
   "source": [
    "occ_day1 = occ_df[occ_df['jour'] == '2020-03-26']\n",
    "occ_day1.nom_station.unique()"
   ]
  },
  {
   "cell_type": "code",
   "execution_count": 10,
   "metadata": {},
   "outputs": [],
   "source": [
    "# Ce qui nous interesse désormais dans ce tableau\n",
    "# nom de la station et de la ville\n",
    "# lattitude et longitude\n",
    "# valeur Ozone\n",
    "\n",
    "occ_day1 = occ_day1[occ_day1['nom_poll'] == 'O3']\n",
    "occ_day1 = occ_day1[['X','Y','nom_com', 'nom_station', 'valeur', 'jour']]"
   ]
  },
  {
   "cell_type": "code",
   "execution_count": 67,
   "metadata": {},
   "outputs": [
    {
     "data": {
      "text/html": [
       "<div>\n",
       "<style scoped>\n",
       "    .dataframe tbody tr th:only-of-type {\n",
       "        vertical-align: middle;\n",
       "    }\n",
       "\n",
       "    .dataframe tbody tr th {\n",
       "        vertical-align: top;\n",
       "    }\n",
       "\n",
       "    .dataframe thead th {\n",
       "        text-align: right;\n",
       "    }\n",
       "</style>\n",
       "<table border=\"1\" class=\"dataframe\">\n",
       "  <thead>\n",
       "    <tr style=\"text-align: right;\">\n",
       "      <th></th>\n",
       "      <th>X</th>\n",
       "      <th>Y</th>\n",
       "    </tr>\n",
       "  </thead>\n",
       "  <tbody>\n",
       "    <tr>\n",
       "      <td>50799</td>\n",
       "      <td>4.679690</td>\n",
       "      <td>43.9429</td>\n",
       "    </tr>\n",
       "    <tr>\n",
       "      <td>50802</td>\n",
       "      <td>1.438610</td>\n",
       "      <td>43.6236</td>\n",
       "    </tr>\n",
       "    <tr>\n",
       "      <td>50803</td>\n",
       "      <td>4.374220</td>\n",
       "      <td>43.8344</td>\n",
       "    </tr>\n",
       "    <tr>\n",
       "      <td>50806</td>\n",
       "      <td>1.571110</td>\n",
       "      <td>43.4575</td>\n",
       "    </tr>\n",
       "    <tr>\n",
       "      <td>50807</td>\n",
       "      <td>1.821940</td>\n",
       "      <td>43.4414</td>\n",
       "    </tr>\n",
       "    <tr>\n",
       "      <td>50817</td>\n",
       "      <td>0.179722</td>\n",
       "      <td>43.6303</td>\n",
       "    </tr>\n",
       "    <tr>\n",
       "      <td>50829</td>\n",
       "      <td>1.418610</td>\n",
       "      <td>43.5756</td>\n",
       "    </tr>\n",
       "    <tr>\n",
       "      <td>50830</td>\n",
       "      <td>2.839870</td>\n",
       "      <td>42.7198</td>\n",
       "    </tr>\n",
       "    <tr>\n",
       "      <td>50832</td>\n",
       "      <td>2.230000</td>\n",
       "      <td>43.6106</td>\n",
       "    </tr>\n",
       "    <tr>\n",
       "      <td>50858</td>\n",
       "      <td>3.911560</td>\n",
       "      <td>43.5706</td>\n",
       "    </tr>\n",
       "    <tr>\n",
       "      <td>50859</td>\n",
       "      <td>3.188810</td>\n",
       "      <td>43.4068</td>\n",
       "    </tr>\n",
       "    <tr>\n",
       "      <td>50861</td>\n",
       "      <td>3.800820</td>\n",
       "      <td>43.6954</td>\n",
       "    </tr>\n",
       "    <tr>\n",
       "      <td>50863</td>\n",
       "      <td>4.265810</td>\n",
       "      <td>43.9254</td>\n",
       "    </tr>\n",
       "    <tr>\n",
       "      <td>50864</td>\n",
       "      <td>3.886890</td>\n",
       "      <td>43.5915</td>\n",
       "    </tr>\n",
       "    <tr>\n",
       "      <td>50866</td>\n",
       "      <td>-0.038889</td>\n",
       "      <td>43.0969</td>\n",
       "    </tr>\n",
       "    <tr>\n",
       "      <td>50870</td>\n",
       "      <td>0.744722</td>\n",
       "      <td>43.0944</td>\n",
       "    </tr>\n",
       "    <tr>\n",
       "      <td>50871</td>\n",
       "      <td>1.443890</td>\n",
       "      <td>43.5872</td>\n",
       "    </tr>\n",
       "    <tr>\n",
       "      <td>50881</td>\n",
       "      <td>1.385410</td>\n",
       "      <td>43.5970</td>\n",
       "    </tr>\n",
       "    <tr>\n",
       "      <td>50905</td>\n",
       "      <td>0.062222</td>\n",
       "      <td>43.2303</td>\n",
       "    </tr>\n",
       "    <tr>\n",
       "      <td>50906</td>\n",
       "      <td>2.570700</td>\n",
       "      <td>44.3570</td>\n",
       "    </tr>\n",
       "    <tr>\n",
       "      <td>50914</td>\n",
       "      <td>3.504830</td>\n",
       "      <td>43.2878</td>\n",
       "    </tr>\n",
       "    <tr>\n",
       "      <td>50918</td>\n",
       "      <td>2.524840</td>\n",
       "      <td>43.3233</td>\n",
       "    </tr>\n",
       "    <tr>\n",
       "      <td>50921</td>\n",
       "      <td>2.899700</td>\n",
       "      <td>42.6958</td>\n",
       "    </tr>\n",
       "  </tbody>\n",
       "</table>\n",
       "</div>"
      ],
      "text/plain": [
       "              X        Y\n",
       "50799  4.679690  43.9429\n",
       "50802  1.438610  43.6236\n",
       "50803  4.374220  43.8344\n",
       "50806  1.571110  43.4575\n",
       "50807  1.821940  43.4414\n",
       "50817  0.179722  43.6303\n",
       "50829  1.418610  43.5756\n",
       "50830  2.839870  42.7198\n",
       "50832  2.230000  43.6106\n",
       "50858  3.911560  43.5706\n",
       "50859  3.188810  43.4068\n",
       "50861  3.800820  43.6954\n",
       "50863  4.265810  43.9254\n",
       "50864  3.886890  43.5915\n",
       "50866 -0.038889  43.0969\n",
       "50870  0.744722  43.0944\n",
       "50871  1.443890  43.5872\n",
       "50881  1.385410  43.5970\n",
       "50905  0.062222  43.2303\n",
       "50906  2.570700  44.3570\n",
       "50914  3.504830  43.2878\n",
       "50918  2.524840  43.3233\n",
       "50921  2.899700  42.6958"
      ]
     },
     "execution_count": 67,
     "metadata": {},
     "output_type": "execute_result"
    }
   ],
   "source": [
    "tqt = occ_day1[['X','Y']]\n",
    "tqt"
   ]
  },
  {
   "cell_type": "code",
   "execution_count": 11,
   "metadata": {},
   "outputs": [
    {
     "data": {
      "text/html": [
       "<div>\n",
       "<style scoped>\n",
       "    .dataframe tbody tr th:only-of-type {\n",
       "        vertical-align: middle;\n",
       "    }\n",
       "\n",
       "    .dataframe tbody tr th {\n",
       "        vertical-align: top;\n",
       "    }\n",
       "\n",
       "    .dataframe thead th {\n",
       "        text-align: right;\n",
       "    }\n",
       "</style>\n",
       "<table border=\"1\" class=\"dataframe\">\n",
       "  <thead>\n",
       "    <tr style=\"text-align: right;\">\n",
       "      <th></th>\n",
       "      <th>X</th>\n",
       "      <th>Y</th>\n",
       "      <th>nom_com</th>\n",
       "      <th>nom_station</th>\n",
       "      <th>valeur</th>\n",
       "      <th>jour</th>\n",
       "    </tr>\n",
       "  </thead>\n",
       "  <tbody>\n",
       "    <tr>\n",
       "      <td>50799</td>\n",
       "      <td>4.679690</td>\n",
       "      <td>43.9429</td>\n",
       "      <td>SAZE</td>\n",
       "      <td>Saze - rural</td>\n",
       "      <td>79.0</td>\n",
       "      <td>2020-03-26</td>\n",
       "    </tr>\n",
       "    <tr>\n",
       "      <td>50802</td>\n",
       "      <td>1.438610</td>\n",
       "      <td>43.6236</td>\n",
       "      <td>TOULOUSE</td>\n",
       "      <td>Toulouse-Mazades Urbain</td>\n",
       "      <td>65.4</td>\n",
       "      <td>2020-03-26</td>\n",
       "    </tr>\n",
       "    <tr>\n",
       "      <td>50803</td>\n",
       "      <td>4.374220</td>\n",
       "      <td>43.8344</td>\n",
       "      <td>NIMES</td>\n",
       "      <td>Nîmes Sud - urbain</td>\n",
       "      <td>74.9</td>\n",
       "      <td>2020-03-26</td>\n",
       "    </tr>\n",
       "    <tr>\n",
       "      <td>50806</td>\n",
       "      <td>1.571110</td>\n",
       "      <td>43.4575</td>\n",
       "      <td>MONTGISCARD</td>\n",
       "      <td>Montgiscard Urbain</td>\n",
       "      <td>70.1</td>\n",
       "      <td>2020-03-26</td>\n",
       "    </tr>\n",
       "    <tr>\n",
       "      <td>50807</td>\n",
       "      <td>1.821940</td>\n",
       "      <td>43.4414</td>\n",
       "      <td>BELESTA-EN-LAURAGAIS</td>\n",
       "      <td>Belesta en Lauragais Rural</td>\n",
       "      <td>74.4</td>\n",
       "      <td>2020-03-26</td>\n",
       "    </tr>\n",
       "    <tr>\n",
       "      <td>50817</td>\n",
       "      <td>0.179722</td>\n",
       "      <td>43.6303</td>\n",
       "      <td>PEYRUSSE-VIEILLE</td>\n",
       "      <td>Peyrusse Vieille Rural</td>\n",
       "      <td>73.5</td>\n",
       "      <td>2020-03-26</td>\n",
       "    </tr>\n",
       "    <tr>\n",
       "      <td>50829</td>\n",
       "      <td>1.418610</td>\n",
       "      <td>43.5756</td>\n",
       "      <td>TOULOUSE</td>\n",
       "      <td>Toulouse-Jacquier Urbain</td>\n",
       "      <td>68.8</td>\n",
       "      <td>2020-03-26</td>\n",
       "    </tr>\n",
       "    <tr>\n",
       "      <td>50830</td>\n",
       "      <td>2.839870</td>\n",
       "      <td>42.7198</td>\n",
       "      <td>SAINT-ESTEVE</td>\n",
       "      <td>Saint Estève - périurbain</td>\n",
       "      <td>74.0</td>\n",
       "      <td>2020-03-26</td>\n",
       "    </tr>\n",
       "    <tr>\n",
       "      <td>50832</td>\n",
       "      <td>2.230000</td>\n",
       "      <td>43.6106</td>\n",
       "      <td>CASTRES</td>\n",
       "      <td>Castres-Travet Urbain</td>\n",
       "      <td>56.2</td>\n",
       "      <td>2020-03-26</td>\n",
       "    </tr>\n",
       "    <tr>\n",
       "      <td>50858</td>\n",
       "      <td>3.911560</td>\n",
       "      <td>43.5706</td>\n",
       "      <td>LATTES</td>\n",
       "      <td>Montpellier Sud - Périurbain</td>\n",
       "      <td>72.7</td>\n",
       "      <td>2020-03-26</td>\n",
       "    </tr>\n",
       "    <tr>\n",
       "      <td>50859</td>\n",
       "      <td>3.188810</td>\n",
       "      <td>43.4068</td>\n",
       "      <td>CORNEILHAN</td>\n",
       "      <td>Biterrois-Narbonnais - Périurbain</td>\n",
       "      <td>74.0</td>\n",
       "      <td>2020-03-26</td>\n",
       "    </tr>\n",
       "    <tr>\n",
       "      <td>50861</td>\n",
       "      <td>3.800820</td>\n",
       "      <td>43.6954</td>\n",
       "      <td>SAINT-GELY-DU-FESC</td>\n",
       "      <td>Montpellier Nord - Périurbain</td>\n",
       "      <td>78.6</td>\n",
       "      <td>2020-03-26</td>\n",
       "    </tr>\n",
       "    <tr>\n",
       "      <td>50863</td>\n",
       "      <td>4.265810</td>\n",
       "      <td>43.9254</td>\n",
       "      <td>LA CALMETTE</td>\n",
       "      <td>La Calmette - Périurbain</td>\n",
       "      <td>64.3</td>\n",
       "      <td>2020-03-26</td>\n",
       "    </tr>\n",
       "    <tr>\n",
       "      <td>50864</td>\n",
       "      <td>3.886890</td>\n",
       "      <td>43.5915</td>\n",
       "      <td>MONTPELLIER</td>\n",
       "      <td>Montpellier - Prés d Arènes Urbain</td>\n",
       "      <td>83.8</td>\n",
       "      <td>2020-03-26</td>\n",
       "    </tr>\n",
       "    <tr>\n",
       "      <td>50866</td>\n",
       "      <td>-0.038889</td>\n",
       "      <td>43.0969</td>\n",
       "      <td>LOURDES</td>\n",
       "      <td>Lourdes-Lapaca Urbain</td>\n",
       "      <td>77.0</td>\n",
       "      <td>2020-03-26</td>\n",
       "    </tr>\n",
       "    <tr>\n",
       "      <td>50870</td>\n",
       "      <td>0.744722</td>\n",
       "      <td>43.0944</td>\n",
       "      <td>MIRAMONT-DE-COMMINGES</td>\n",
       "      <td>Saint Gaudens-Miramont Industriel</td>\n",
       "      <td>69.0</td>\n",
       "      <td>2020-03-26</td>\n",
       "    </tr>\n",
       "    <tr>\n",
       "      <td>50871</td>\n",
       "      <td>1.443890</td>\n",
       "      <td>43.5872</td>\n",
       "      <td>TOULOUSE</td>\n",
       "      <td>Toulouse-Berthelot Urbain</td>\n",
       "      <td>65.2</td>\n",
       "      <td>2020-03-26</td>\n",
       "    </tr>\n",
       "    <tr>\n",
       "      <td>50881</td>\n",
       "      <td>1.385410</td>\n",
       "      <td>43.5970</td>\n",
       "      <td>TOULOUSE</td>\n",
       "      <td>Station Pedagogique</td>\n",
       "      <td>63.5</td>\n",
       "      <td>2020-03-26</td>\n",
       "    </tr>\n",
       "    <tr>\n",
       "      <td>50905</td>\n",
       "      <td>0.062222</td>\n",
       "      <td>43.2303</td>\n",
       "      <td>TARBES</td>\n",
       "      <td>Tarbes-Dupuy Urbain</td>\n",
       "      <td>80.9</td>\n",
       "      <td>2020-03-26</td>\n",
       "    </tr>\n",
       "    <tr>\n",
       "      <td>50906</td>\n",
       "      <td>2.570700</td>\n",
       "      <td>44.3570</td>\n",
       "      <td>RODEZ</td>\n",
       "      <td>Rodez Urbain</td>\n",
       "      <td>80.2</td>\n",
       "      <td>2020-03-26</td>\n",
       "    </tr>\n",
       "    <tr>\n",
       "      <td>50914</td>\n",
       "      <td>3.504830</td>\n",
       "      <td>43.2878</td>\n",
       "      <td>AGDE</td>\n",
       "      <td>Agathois-Piscénois - Périurbain</td>\n",
       "      <td>76.4</td>\n",
       "      <td>2020-03-26</td>\n",
       "    </tr>\n",
       "    <tr>\n",
       "      <td>50918</td>\n",
       "      <td>2.524840</td>\n",
       "      <td>43.3233</td>\n",
       "      <td>CAUNES-MINERVOIS</td>\n",
       "      <td>Caunes-Minervois - rural</td>\n",
       "      <td>72.5</td>\n",
       "      <td>2020-03-26</td>\n",
       "    </tr>\n",
       "    <tr>\n",
       "      <td>50921</td>\n",
       "      <td>2.899700</td>\n",
       "      <td>42.6958</td>\n",
       "      <td>PERPIGNAN</td>\n",
       "      <td>Perpignan Centre - urbain</td>\n",
       "      <td>50.8</td>\n",
       "      <td>2020-03-26</td>\n",
       "    </tr>\n",
       "  </tbody>\n",
       "</table>\n",
       "</div>"
      ],
      "text/plain": [
       "              X        Y                nom_com  \\\n",
       "50799  4.679690  43.9429                   SAZE   \n",
       "50802  1.438610  43.6236               TOULOUSE   \n",
       "50803  4.374220  43.8344                  NIMES   \n",
       "50806  1.571110  43.4575            MONTGISCARD   \n",
       "50807  1.821940  43.4414   BELESTA-EN-LAURAGAIS   \n",
       "50817  0.179722  43.6303       PEYRUSSE-VIEILLE   \n",
       "50829  1.418610  43.5756               TOULOUSE   \n",
       "50830  2.839870  42.7198           SAINT-ESTEVE   \n",
       "50832  2.230000  43.6106                CASTRES   \n",
       "50858  3.911560  43.5706                 LATTES   \n",
       "50859  3.188810  43.4068             CORNEILHAN   \n",
       "50861  3.800820  43.6954     SAINT-GELY-DU-FESC   \n",
       "50863  4.265810  43.9254            LA CALMETTE   \n",
       "50864  3.886890  43.5915            MONTPELLIER   \n",
       "50866 -0.038889  43.0969                LOURDES   \n",
       "50870  0.744722  43.0944  MIRAMONT-DE-COMMINGES   \n",
       "50871  1.443890  43.5872               TOULOUSE   \n",
       "50881  1.385410  43.5970               TOULOUSE   \n",
       "50905  0.062222  43.2303                 TARBES   \n",
       "50906  2.570700  44.3570                  RODEZ   \n",
       "50914  3.504830  43.2878                   AGDE   \n",
       "50918  2.524840  43.3233       CAUNES-MINERVOIS   \n",
       "50921  2.899700  42.6958              PERPIGNAN   \n",
       "\n",
       "                              nom_station  valeur        jour  \n",
       "50799                        Saze - rural    79.0  2020-03-26  \n",
       "50802             Toulouse-Mazades Urbain    65.4  2020-03-26  \n",
       "50803                  Nîmes Sud - urbain    74.9  2020-03-26  \n",
       "50806                  Montgiscard Urbain    70.1  2020-03-26  \n",
       "50807          Belesta en Lauragais Rural    74.4  2020-03-26  \n",
       "50817              Peyrusse Vieille Rural    73.5  2020-03-26  \n",
       "50829            Toulouse-Jacquier Urbain    68.8  2020-03-26  \n",
       "50830           Saint Estève - périurbain    74.0  2020-03-26  \n",
       "50832               Castres-Travet Urbain    56.2  2020-03-26  \n",
       "50858        Montpellier Sud - Périurbain    72.7  2020-03-26  \n",
       "50859   Biterrois-Narbonnais - Périurbain    74.0  2020-03-26  \n",
       "50861       Montpellier Nord - Périurbain    78.6  2020-03-26  \n",
       "50863            La Calmette - Périurbain    64.3  2020-03-26  \n",
       "50864  Montpellier - Prés d Arènes Urbain    83.8  2020-03-26  \n",
       "50866               Lourdes-Lapaca Urbain    77.0  2020-03-26  \n",
       "50870   Saint Gaudens-Miramont Industriel    69.0  2020-03-26  \n",
       "50871           Toulouse-Berthelot Urbain    65.2  2020-03-26  \n",
       "50881                 Station Pedagogique    63.5  2020-03-26  \n",
       "50905                 Tarbes-Dupuy Urbain    80.9  2020-03-26  \n",
       "50906                        Rodez Urbain    80.2  2020-03-26  \n",
       "50914     Agathois-Piscénois - Périurbain    76.4  2020-03-26  \n",
       "50918            Caunes-Minervois - rural    72.5  2020-03-26  \n",
       "50921           Perpignan Centre - urbain    50.8  2020-03-26  "
      ]
     },
     "execution_count": 11,
     "metadata": {},
     "output_type": "execute_result"
    }
   ],
   "source": [
    "occ_day1 # nombre très raisonnable de données"
   ]
  },
  {
   "cell_type": "code",
   "execution_count": 28,
   "metadata": {},
   "outputs": [
    {
     "data": {
      "text/plain": [
       "X              23\n",
       "Y              23\n",
       "nom_com        23\n",
       "nom_station    23\n",
       "valeur         23\n",
       "jour           23\n",
       "dtype: int64"
      ]
     },
     "execution_count": 28,
     "metadata": {},
     "output_type": "execute_result"
    }
   ],
   "source": [
    "occ_day1.count()"
   ]
  },
  {
   "cell_type": "code",
   "execution_count": 12,
   "metadata": {},
   "outputs": [],
   "source": [
    "import branca.colormap as cm\n",
    "\n",
    "linear = cm.LinearColormap(\n",
    "    ['green', 'yellow', 'red'],\n",
    "    vmin=0, vmax=16\n",
    ")"
   ]
  },
  {
   "cell_type": "code",
   "execution_count": 68,
   "metadata": {},
   "outputs": [
    {
     "data": {
      "text/plain": [
       "1.43861"
      ]
     },
     "execution_count": 68,
     "metadata": {},
     "output_type": "execute_result"
    }
   ],
   "source": [
    "for i in range(0,len(data)):\n",
    "folium.Marker([data.iloc[i]['lon'], data.iloc[i]['lat']], popup=data.iloc[i]['name']).add_to(m)\n"
   ]
  },
  {
   "cell_type": "code",
   "execution_count": 69,
   "metadata": {},
   "outputs": [
    {
     "data": {
      "text/plain": [
       "23"
      ]
     },
     "execution_count": 69,
     "metadata": {},
     "output_type": "execute_result"
    }
   ],
   "source": [
    "len(occ_day1)"
   ]
  },
  {
   "cell_type": "code",
   "execution_count": 72,
   "metadata": {},
   "outputs": [
    {
     "data": {
      "text/html": [
       "<div style=\"width:100%;\"><div style=\"position:relative;width:100%;height:0;padding-bottom:60%;\"><iframe src=\"about:blank\" style=\"position:absolute;width:100%;height:100%;left:0;top:0;border:none !important;\" data-html=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 onload=\"this.contentDocument.open();this.contentDocument.write(atob(this.getAttribute('data-html')));this.contentDocument.close();\" allowfullscreen webkitallowfullscreen mozallowfullscreen></iframe></div></div>"
      ],
      "text/plain": [
       "<folium.folium.Map at 0x259dd5bc988>"
      ]
     },
     "execution_count": 72,
     "metadata": {},
     "output_type": "execute_result"
    }
   ],
   "source": [
    "map = folium.Map(location=[43.9333, 2.15], zoom_start=7.5 , tiles='Stamen Terrain')\n",
    "\n",
    "for i in range(0,len(occ_day1)):\n",
    "    folium.Marker([occ_day1.iloc[i]['Y'], occ_day1.iloc[i]['X']], popup=occ_day1.iloc[i]['nom_station']).add_to(map)\n",
    "\n",
    "map"
   ]
  }
 ],
 "metadata": {
  "kernelspec": {
   "display_name": "Python 3",
   "language": "python",
   "name": "python3"
  },
  "language_info": {
   "codemirror_mode": {
    "name": "ipython",
    "version": 3
   },
   "file_extension": ".py",
   "mimetype": "text/x-python",
   "name": "python",
   "nbconvert_exporter": "python",
   "pygments_lexer": "ipython3",
   "version": "3.7.4"
  }
 },
 "nbformat": 4,
 "nbformat_minor": 2
}
